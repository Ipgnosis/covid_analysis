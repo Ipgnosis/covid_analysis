{
 "cells": [
  {
   "cell_type": "code",
   "execution_count": 1,
   "metadata": {},
   "outputs": [
    {
     "name": "stdout",
     "output_type": "stream",
     "text": [
      "Imports complete\n"
     ]
    }
   ],
   "source": [
    "# imports\n",
    "\n",
    "from datetime import datetime, timedelta\n",
    "\n",
    "# set up file paths and other data globals\n",
    "\n",
    "import config\n",
    "import modify\n",
    "\n",
    "# local imports\n",
    "\n",
    "from covid_package.data_funcs.update_data import check_refresh_data\n",
    "from covid_package.data_funcs.store_data import read_json_data, convert_owid_data\n",
    "\n",
    "from covid_package.libs.aggregate_data import fetch_latest_data_date, fetch_date_list\n",
    "from covid_package.libs.compile_dict import collate_plot_data\n",
    "\n",
    "from covid_package.api.get_country_data import get_l2_date_data\n",
    "\n",
    "from covid_package.plots.multi_plot import multi_plots\n",
    "\n",
    "print(\"Imports complete\")"
   ]
  },
  {
   "cell_type": "code",
   "execution_count": 2,
   "metadata": {},
   "outputs": [
    {
     "name": "stdout",
     "output_type": "stream",
     "text": [
      "Checking that data is up to date\n"
     ]
    },
    {
     "ename": "NameError",
     "evalue": "name 'config' is not defined",
     "output_type": "error",
     "traceback": [
      "\u001b[1;31m---------------------------------------------------------------------------\u001b[0m",
      "\u001b[1;31mNameError\u001b[0m                                 Traceback (most recent call last)",
      "\u001b[1;32m~\\AppData\\Local\\Temp/ipykernel_21520/2378908507.py\u001b[0m in \u001b[0;36m<module>\u001b[1;34m\u001b[0m\n\u001b[0;32m      1\u001b[0m \u001b[1;31m# check if data up to date; if not, reload\u001b[0m\u001b[1;33m\u001b[0m\u001b[1;33m\u001b[0m\u001b[1;33m\u001b[0m\u001b[0m\n\u001b[0;32m      2\u001b[0m \u001b[1;33m\u001b[0m\u001b[0m\n\u001b[1;32m----> 3\u001b[1;33m \u001b[1;32mif\u001b[0m \u001b[0mcheck_refresh_data\u001b[0m\u001b[1;33m(\u001b[0m\u001b[1;33m)\u001b[0m\u001b[1;33m:\u001b[0m\u001b[1;33m\u001b[0m\u001b[1;33m\u001b[0m\u001b[0m\n\u001b[0m\u001b[0;32m      4\u001b[0m \u001b[1;33m\u001b[0m\u001b[0m\n\u001b[0;32m      5\u001b[0m     \u001b[1;31m# read the updated(?) data file from the data dir\u001b[0m\u001b[1;33m\u001b[0m\u001b[1;33m\u001b[0m\u001b[1;33m\u001b[0m\u001b[0m\n",
      "\u001b[1;32mc:\\Users\\Ipgnosis\\Documents\\Github\\covid_analysis\\covid_package\\data_funcs\\update_data.py\u001b[0m in \u001b[0;36mcheck_refresh_data\u001b[1;34m()\u001b[0m\n\u001b[0;32m     13\u001b[0m \u001b[1;33m\u001b[0m\u001b[0m\n\u001b[0;32m     14\u001b[0m     \u001b[0mprint\u001b[0m\u001b[1;33m(\u001b[0m\u001b[1;34m'Checking that data is up to date'\u001b[0m\u001b[1;33m)\u001b[0m\u001b[1;33m\u001b[0m\u001b[1;33m\u001b[0m\u001b[0m\n\u001b[1;32m---> 15\u001b[1;33m     \u001b[1;32mif\u001b[0m \u001b[0mexpired_data\u001b[0m\u001b[1;33m(\u001b[0m\u001b[1;33m)\u001b[0m\u001b[1;33m:\u001b[0m\u001b[1;33m\u001b[0m\u001b[1;33m\u001b[0m\u001b[0m\n\u001b[0m\u001b[0;32m     16\u001b[0m \u001b[1;33m\u001b[0m\u001b[0m\n\u001b[0;32m     17\u001b[0m         \u001b[1;31m# rename data file to a temp for safety\u001b[0m\u001b[1;33m\u001b[0m\u001b[1;33m\u001b[0m\u001b[1;33m\u001b[0m\u001b[0m\n",
      "\u001b[1;32mc:\\Users\\Ipgnosis\\Documents\\Github\\covid_analysis\\covid_package\\data_funcs\\update_data.py\u001b[0m in \u001b[0;36mexpired_data\u001b[1;34m()\u001b[0m\n\u001b[0;32m     57\u001b[0m \u001b[1;33m\u001b[0m\u001b[0m\n\u001b[0;32m     58\u001b[0m     \u001b[1;31m# check last update datetime of current data file\u001b[0m\u001b[1;33m\u001b[0m\u001b[1;33m\u001b[0m\u001b[1;33m\u001b[0m\u001b[0m\n\u001b[1;32m---> 59\u001b[1;33m     \u001b[0mconfig\u001b[0m\u001b[1;33m.\u001b[0m\u001b[0mUPDATE_DATETIME_STR\u001b[0m \u001b[1;33m=\u001b[0m \u001b[0mget_last_file_update\u001b[0m\u001b[1;33m(\u001b[0m\u001b[1;33m)\u001b[0m  \u001b[1;31m# set the global to the datetime in the update-record\u001b[0m\u001b[1;33m\u001b[0m\u001b[1;33m\u001b[0m\u001b[0m\n\u001b[0m\u001b[0;32m     60\u001b[0m     \u001b[0mlast_updatetime_obj\u001b[0m \u001b[1;33m=\u001b[0m \u001b[0mconvert_datetime_str_to_obj\u001b[0m\u001b[1;33m(\u001b[0m\u001b[0mconfig\u001b[0m\u001b[1;33m.\u001b[0m\u001b[0mUPDATE_DATETIME_STR\u001b[0m\u001b[1;33m,\u001b[0m \u001b[1;34m'datetime'\u001b[0m\u001b[1;33m)\u001b[0m\u001b[1;33m\u001b[0m\u001b[1;33m\u001b[0m\u001b[0m\n\u001b[0;32m     61\u001b[0m \u001b[1;33m\u001b[0m\u001b[0m\n",
      "\u001b[1;32mc:\\Users\\Ipgnosis\\Documents\\Github\\covid_analysis\\covid_package\\data_funcs\\store_data.py\u001b[0m in \u001b[0;36mget_last_file_update\u001b[1;34m()\u001b[0m\n\u001b[0;32m    128\u001b[0m \u001b[1;32mdef\u001b[0m \u001b[0mget_last_file_update\u001b[0m\u001b[1;33m(\u001b[0m\u001b[1;33m)\u001b[0m\u001b[1;33m:\u001b[0m\u001b[1;33m\u001b[0m\u001b[1;33m\u001b[0m\u001b[0m\n\u001b[0;32m    129\u001b[0m \u001b[1;33m\u001b[0m\u001b[0m\n\u001b[1;32m--> 130\u001b[1;33m     \u001b[0mupdate_data_file\u001b[0m \u001b[1;33m=\u001b[0m \u001b[0mread_json_data\u001b[0m\u001b[1;33m(\u001b[0m\u001b[0mconfig\u001b[0m\u001b[1;33m.\u001b[0m\u001b[0mUPDATE_FILE_STR\u001b[0m\u001b[1;33m)\u001b[0m\u001b[1;33m\u001b[0m\u001b[1;33m\u001b[0m\u001b[0m\n\u001b[0m\u001b[0;32m    131\u001b[0m \u001b[1;33m\u001b[0m\u001b[0m\n\u001b[0;32m    132\u001b[0m     \u001b[0mlast_update_str\u001b[0m \u001b[1;33m=\u001b[0m \u001b[0mupdate_data_file\u001b[0m\u001b[1;33m[\u001b[0m\u001b[1;34m\"last_update\"\u001b[0m\u001b[1;33m]\u001b[0m\u001b[1;33m\u001b[0m\u001b[1;33m\u001b[0m\u001b[0m\n",
      "\u001b[1;31mNameError\u001b[0m: name 'config' is not defined"
     ]
    }
   ],
   "source": [
    "# check if data up to date; if not, reload\n",
    "\n",
    "if check_refresh_data():\n",
    "\n",
    "    # read the updated(?) data file from the data dir\n",
    "    data = read_json_data(config.DATA_FILE_STR)\n",
    "    \n",
    "    # convert the OWID_ data so that we don't trip up fetch_latest_data_date\n",
    "    data = convert_owid_data(data)\n",
    "    \n",
    "    # set the latest data date global\n",
    "    config.LATEST_DATA_DATE = fetch_latest_data_date(data)\n",
    "    \n",
    "    print(\"Latest data is:\", config.LATEST_DATA_DATE)\n",
    "    print(\"Current UTC 0 datetime = {}\".format(datetime.utcnow().strftime(\"%Y-%m-%dT%H:%M:%S%z\")))"
   ]
  },
  {
   "cell_type": "code",
   "execution_count": null,
   "metadata": {},
   "outputs": [],
   "source": [
    "# restrict analysis dates if required\n",
    " \n",
    "start_date = config.DATA_START_DATE\n",
    "end_date = config.LATEST_DATA_DATE\n",
    "\n",
    "start_date = '2020-12-01'\n",
    "#end_date = '2021-01-01'\n",
    "analysis_window = 0\n",
    "#analysis_window = 28\n",
    "\n",
    "# restrict the analysis to the last N days from the end_date\n",
    "\n",
    "if analysis_window > 0:\n",
    "    end_date_obj = datetime.strptime(end_date, \"%Y-%m-%d\")\n",
    "    start_date_obj = end_date_obj - timedelta(days = analysis_window)\n",
    "    start_date = datetime.strftime(start_date_obj, \"%Y-%m-%d\")\n",
    "    \n",
    "# compile the date_list to the default range or a restricted range\n",
    "if (start_date > config.DATA_START_DATE) or (end_date < config.LATEST_DATA_DATE):\n",
    "    # get a restrictive list of valid data dates\n",
    "    date_list = fetch_date_list(data, start_date = start_date, end_date = end_date)\n",
    "else: # just compile all available dates into date_list\n",
    "    # get an exhaustive list of date objects containing VALID DATA\n",
    "    date_list = fetch_date_list(data)\n",
    "    \n",
    "print(\"Analysis window is from {} to {}\".format(start_date, end_date))"
   ]
  },
  {
   "cell_type": "code",
   "execution_count": null,
   "metadata": {},
   "outputs": [],
   "source": [
    "# set up chart_labels dict\n",
    "\n",
    "chart_labels = dict()\n",
    "\n",
    "# define plot values\n",
    "chart_labels['width'] = 15\n",
    "chart_labels['height'] = 10\n",
    "chart_labels['tsize'] = 16\n",
    "chart_labels['fsize'] = 12\n",
    "chart_labels['lsize'] = 10"
   ]
  },
  {
   "cell_type": "code",
   "execution_count": null,
   "metadata": {},
   "outputs": [],
   "source": [
    "# define the list of required resources\n",
    "res = ['new_cases_smoothed_per_million', 'people_fully_vaccinated_per_hundred']\n",
    "\n",
    "chart_labels['expl_str'] = \"Infection & Vaccination\"\n",
    "chart_labels['descr_str_1'] = res[0].replace('_', ' ').capitalize()\n",
    "chart_labels['descr_str_2'] = res[1].replace('_', ' ').capitalize()\n",
    "\n",
    "# returns a dict with key = date, values = dict of isos\n",
    "# the value of each iso key is a list of the required resources\n",
    "country_date_data = get_l2_date_data(data, date_list, res)\n",
    "    \n",
    "#print(country_date_data)"
   ]
  },
  {
   "cell_type": "code",
   "execution_count": null,
   "metadata": {},
   "outputs": [],
   "source": [
    "# re-juggle the data for a multi country chart\n",
    "\n",
    "# the countries being analyzed\n",
    "chart_labels['y_isos'] = ['USA', 'CAN']\n",
    "\n",
    "plot_data = collate_plot_data(chart_labels['y_isos'], country_date_data)\n",
    "\n",
    "# assemble the locations list\n",
    "chart_labels['y_axis_labels'] = []\n",
    "for iso in chart_labels['y_isos']:\n",
    "    chart_labels['y_axis_labels'].append(data[iso]['location'])\n",
    "    \n",
    "# call multi_plots\n",
    "multi_plots(chart_labels, plot_data)"
   ]
  },
  {
   "cell_type": "code",
   "execution_count": null,
   "metadata": {},
   "outputs": [],
   "source": [
    "# re-juggle the data for a multi country chart\n",
    "\n",
    "# the countries being analyzed\n",
    "chart_labels['y_isos'] = ['GBR', 'FRA', 'DEU', 'BEL', 'NLD']\n",
    "\n",
    "plot_data = collate_plot_data(chart_labels['y_isos'], country_date_data)\n",
    "\n",
    "# assemble the locations list\n",
    "chart_labels['y_axis_labels'] = []\n",
    "for iso in chart_labels['y_isos']:\n",
    "    chart_labels['y_axis_labels'].append(data[iso]['location'])\n",
    "    \n",
    "# call multi_plots\n",
    "multi_plots(chart_labels, plot_data)"
   ]
  },
  {
   "cell_type": "code",
   "execution_count": null,
   "metadata": {},
   "outputs": [],
   "source": [
    "# re-juggle the data for a multi country chart\n",
    "\n",
    "# the countries being analyzed\n",
    "chart_labels['y_isos'] = ['KOR', 'JPN', 'TWN', 'CHN']\n",
    "\n",
    "plot_data = collate_plot_data(chart_labels['y_isos'], country_date_data)\n",
    "\n",
    "# assemble the locations list\n",
    "chart_labels['y_axis_labels'] = []\n",
    "for iso in chart_labels['y_isos']:\n",
    "    chart_labels['y_axis_labels'].append(data[iso]['location'])\n",
    "    \n",
    "# call multi_plots\n",
    "multi_plots(chart_labels, plot_data)"
   ]
  },
  {
   "cell_type": "code",
   "execution_count": null,
   "metadata": {},
   "outputs": [],
   "source": [
    "# re-juggle the data for a multi country chart\n",
    "\n",
    "# the countries being analyzed\n",
    "chart_labels['y_isos'] = ['AUS', 'NZL', 'SGP', 'IDN']\n",
    "\n",
    "plot_data = collate_plot_data(chart_labels['y_isos'], country_date_data)\n",
    "\n",
    "# assemble the locations list\n",
    "chart_labels['y_axis_labels'] = []\n",
    "for iso in chart_labels['y_isos']:\n",
    "    chart_labels['y_axis_labels'].append(data[iso]['location'])\n",
    "    \n",
    "# call multi_plots\n",
    "multi_plots(chart_labels, plot_data)"
   ]
  }
 ],
 "metadata": {
  "interpreter": {
   "hash": "3d272f5f920203b3371390e95080956d0ef2d2ee59e4c15a61e97266d1098e8c"
  },
  "kernelspec": {
   "display_name": "Python 3.8.11 64-bit ('jovian': conda)",
   "name": "python3"
  },
  "language_info": {
   "codemirror_mode": {
    "name": "ipython",
    "version": 3
   },
   "file_extension": ".py",
   "mimetype": "text/x-python",
   "name": "python",
   "nbconvert_exporter": "python",
   "pygments_lexer": "ipython3",
   "version": "3.8.12"
  }
 },
 "nbformat": 4,
 "nbformat_minor": 2
}
