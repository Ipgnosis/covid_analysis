{
 "cells": [
  {
   "cell_type": "code",
   "execution_count": 1,
   "metadata": {},
   "outputs": [],
   "source": [
    "# analyze the update record for schedule optimization\n",
    "\n",
    "# imports\n",
    "\n",
    "import pandas as pd\n",
    "import sys\n",
    "\n",
    "# set up file paths and other data globals\n",
    "\n",
    "import config, modify\n",
    "\n",
    "sys.path.append(config.CURRENT_DIR_STR)\n",
    "sys.path.append(config.COVID_PACKAGE_STR)\n",
    "sys.path.append(config.UPDATE_FILE_STR)\n",
    "\n",
    "# local imports\n",
    "from covid_package.data_funcs.store_data import read_json_data, print_update_record\n",
    "from covid_package.data_funcs.datetime_funcs import convert_datetime_str_to_obj\n",
    "\n",
    "from covid_package.plots.plot_results import scatter_plot"
   ]
  },
  {
   "cell_type": "code",
   "execution_count": 2,
   "metadata": {},
   "outputs": [],
   "source": [
    "# read the update_record.json file\n",
    "updata = read_json_data(config.UPDATE_FILE_STR)\n",
    "\n",
    "# get the update datetime list\n",
    "update_data = updata['update_list']"
   ]
  },
  {
   "cell_type": "code",
   "execution_count": 3,
   "metadata": {},
   "outputs": [],
   "source": [
    "# organize the column data\n",
    "\n",
    "update_dict = {\n",
    "    'datetime_strings': update_data,\n",
    "    'day_nums': [convert_datetime_str_to_obj(i, 'day_num') for i in update_data], \n",
    "    'days': [convert_datetime_str_to_obj(i, 'day') for i in update_data], \n",
    "    'hours': list(map(int, [convert_datetime_str_to_obj(i, 'hour') for i in update_data])), \n",
    "    'minutes': list(map(int, [convert_datetime_str_to_obj(i, 'minute') for i in update_data]))\n",
    "    }"
   ]
  },
  {
   "cell_type": "code",
   "execution_count": 4,
   "metadata": {},
   "outputs": [
    {
     "output_type": "execute_result",
     "data": {
      "text/plain": [
       "        datetime_strings  day_nums       days  hours  minutes\n",
       "0   2021-04-01T14:40:33Z         4   Thursday     14       40\n",
       "1   2021-04-03T09:02:46Z         6   Saturday      9        2\n",
       "2   2021-04-04T08:02:44Z         7     Sunday      8        2\n",
       "3   2021-04-05T13:02:56Z         1     Monday     13        2\n",
       "4   2021-04-06T18:02:52Z         2    Tuesday     18        2\n",
       "5   2021-04-07T16:02:51Z         3  Wednesday     16        2\n",
       "6   2021-04-08T05:02:50Z         4   Thursday      5        2\n",
       "7   2021-04-08T14:56:50Z         4   Thursday     14       56\n",
       "8   2021-04-09T11:31:06Z         5     Friday     11       31\n",
       "9   2021-04-10T09:03:00Z         6   Saturday      9        3\n",
       "10  2021-04-11T10:57:37Z         7     Sunday     10       57\n",
       "11  2021-04-12T05:02:36Z         1     Monday      5        2\n",
       "12  2021-04-12T14:02:51Z         1     Monday     14        2\n",
       "13  2021-04-12T20:02:48Z         1     Monday     20        2\n",
       "14  2021-04-13T17:02:58Z         2    Tuesday     17        2\n",
       "15  2021-04-13T20:02:52Z         2    Tuesday     20        2\n",
       "16  2021-04-14T14:02:53Z         3  Wednesday     14        2\n",
       "17  2021-04-15T09:56:12Z         4   Thursday      9       56\n",
       "18  2021-04-16T05:02:58Z         5     Friday      5        2\n",
       "19  2021-04-16T10:36:40Z         5     Friday     10       36"
      ],
      "text/html": "<div>\n<style scoped>\n    .dataframe tbody tr th:only-of-type {\n        vertical-align: middle;\n    }\n\n    .dataframe tbody tr th {\n        vertical-align: top;\n    }\n\n    .dataframe thead th {\n        text-align: right;\n    }\n</style>\n<table border=\"1\" class=\"dataframe\">\n  <thead>\n    <tr style=\"text-align: right;\">\n      <th></th>\n      <th>datetime_strings</th>\n      <th>day_nums</th>\n      <th>days</th>\n      <th>hours</th>\n      <th>minutes</th>\n    </tr>\n  </thead>\n  <tbody>\n    <tr>\n      <th>0</th>\n      <td>2021-04-01T14:40:33Z</td>\n      <td>4</td>\n      <td>Thursday</td>\n      <td>14</td>\n      <td>40</td>\n    </tr>\n    <tr>\n      <th>1</th>\n      <td>2021-04-03T09:02:46Z</td>\n      <td>6</td>\n      <td>Saturday</td>\n      <td>9</td>\n      <td>2</td>\n    </tr>\n    <tr>\n      <th>2</th>\n      <td>2021-04-04T08:02:44Z</td>\n      <td>7</td>\n      <td>Sunday</td>\n      <td>8</td>\n      <td>2</td>\n    </tr>\n    <tr>\n      <th>3</th>\n      <td>2021-04-05T13:02:56Z</td>\n      <td>1</td>\n      <td>Monday</td>\n      <td>13</td>\n      <td>2</td>\n    </tr>\n    <tr>\n      <th>4</th>\n      <td>2021-04-06T18:02:52Z</td>\n      <td>2</td>\n      <td>Tuesday</td>\n      <td>18</td>\n      <td>2</td>\n    </tr>\n    <tr>\n      <th>5</th>\n      <td>2021-04-07T16:02:51Z</td>\n      <td>3</td>\n      <td>Wednesday</td>\n      <td>16</td>\n      <td>2</td>\n    </tr>\n    <tr>\n      <th>6</th>\n      <td>2021-04-08T05:02:50Z</td>\n      <td>4</td>\n      <td>Thursday</td>\n      <td>5</td>\n      <td>2</td>\n    </tr>\n    <tr>\n      <th>7</th>\n      <td>2021-04-08T14:56:50Z</td>\n      <td>4</td>\n      <td>Thursday</td>\n      <td>14</td>\n      <td>56</td>\n    </tr>\n    <tr>\n      <th>8</th>\n      <td>2021-04-09T11:31:06Z</td>\n      <td>5</td>\n      <td>Friday</td>\n      <td>11</td>\n      <td>31</td>\n    </tr>\n    <tr>\n      <th>9</th>\n      <td>2021-04-10T09:03:00Z</td>\n      <td>6</td>\n      <td>Saturday</td>\n      <td>9</td>\n      <td>3</td>\n    </tr>\n    <tr>\n      <th>10</th>\n      <td>2021-04-11T10:57:37Z</td>\n      <td>7</td>\n      <td>Sunday</td>\n      <td>10</td>\n      <td>57</td>\n    </tr>\n    <tr>\n      <th>11</th>\n      <td>2021-04-12T05:02:36Z</td>\n      <td>1</td>\n      <td>Monday</td>\n      <td>5</td>\n      <td>2</td>\n    </tr>\n    <tr>\n      <th>12</th>\n      <td>2021-04-12T14:02:51Z</td>\n      <td>1</td>\n      <td>Monday</td>\n      <td>14</td>\n      <td>2</td>\n    </tr>\n    <tr>\n      <th>13</th>\n      <td>2021-04-12T20:02:48Z</td>\n      <td>1</td>\n      <td>Monday</td>\n      <td>20</td>\n      <td>2</td>\n    </tr>\n    <tr>\n      <th>14</th>\n      <td>2021-04-13T17:02:58Z</td>\n      <td>2</td>\n      <td>Tuesday</td>\n      <td>17</td>\n      <td>2</td>\n    </tr>\n    <tr>\n      <th>15</th>\n      <td>2021-04-13T20:02:52Z</td>\n      <td>2</td>\n      <td>Tuesday</td>\n      <td>20</td>\n      <td>2</td>\n    </tr>\n    <tr>\n      <th>16</th>\n      <td>2021-04-14T14:02:53Z</td>\n      <td>3</td>\n      <td>Wednesday</td>\n      <td>14</td>\n      <td>2</td>\n    </tr>\n    <tr>\n      <th>17</th>\n      <td>2021-04-15T09:56:12Z</td>\n      <td>4</td>\n      <td>Thursday</td>\n      <td>9</td>\n      <td>56</td>\n    </tr>\n    <tr>\n      <th>18</th>\n      <td>2021-04-16T05:02:58Z</td>\n      <td>5</td>\n      <td>Friday</td>\n      <td>5</td>\n      <td>2</td>\n    </tr>\n    <tr>\n      <th>19</th>\n      <td>2021-04-16T10:36:40Z</td>\n      <td>5</td>\n      <td>Friday</td>\n      <td>10</td>\n      <td>36</td>\n    </tr>\n  </tbody>\n</table>\n</div>"
     },
     "metadata": {},
     "execution_count": 4
    }
   ],
   "source": [
    "# create the dataframe\n",
    "#df = pd.DataFrame(col_data, columns=col_names)\n",
    "df = pd.DataFrame(update_dict)\n",
    "df"
   ]
  },
  {
   "cell_type": "code",
   "execution_count": 5,
   "metadata": {},
   "outputs": [
    {
     "output_type": "execute_result",
     "data": {
      "text/plain": [
       "    day_nums       days  hours  counts\n",
       "0          1     Monday      5       1\n",
       "1          1     Monday     13       1\n",
       "2          1     Monday     14       1\n",
       "3          1     Monday     20       1\n",
       "4          2    Tuesday     17       1\n",
       "5          2    Tuesday     18       1\n",
       "6          2    Tuesday     20       1\n",
       "7          3  Wednesday     14       1\n",
       "8          3  Wednesday     16       1\n",
       "9          4   Thursday      5       1\n",
       "10         4   Thursday      9       1\n",
       "11         4   Thursday     14       2\n",
       "12         5     Friday      5       1\n",
       "13         5     Friday     10       1\n",
       "14         5     Friday     11       1\n",
       "15         6   Saturday      9       2\n",
       "16         7     Sunday      8       1\n",
       "17         7     Sunday     10       1"
      ],
      "text/html": "<div>\n<style scoped>\n    .dataframe tbody tr th:only-of-type {\n        vertical-align: middle;\n    }\n\n    .dataframe tbody tr th {\n        vertical-align: top;\n    }\n\n    .dataframe thead th {\n        text-align: right;\n    }\n</style>\n<table border=\"1\" class=\"dataframe\">\n  <thead>\n    <tr style=\"text-align: right;\">\n      <th></th>\n      <th>day_nums</th>\n      <th>days</th>\n      <th>hours</th>\n      <th>counts</th>\n    </tr>\n  </thead>\n  <tbody>\n    <tr>\n      <th>0</th>\n      <td>1</td>\n      <td>Monday</td>\n      <td>5</td>\n      <td>1</td>\n    </tr>\n    <tr>\n      <th>1</th>\n      <td>1</td>\n      <td>Monday</td>\n      <td>13</td>\n      <td>1</td>\n    </tr>\n    <tr>\n      <th>2</th>\n      <td>1</td>\n      <td>Monday</td>\n      <td>14</td>\n      <td>1</td>\n    </tr>\n    <tr>\n      <th>3</th>\n      <td>1</td>\n      <td>Monday</td>\n      <td>20</td>\n      <td>1</td>\n    </tr>\n    <tr>\n      <th>4</th>\n      <td>2</td>\n      <td>Tuesday</td>\n      <td>17</td>\n      <td>1</td>\n    </tr>\n    <tr>\n      <th>5</th>\n      <td>2</td>\n      <td>Tuesday</td>\n      <td>18</td>\n      <td>1</td>\n    </tr>\n    <tr>\n      <th>6</th>\n      <td>2</td>\n      <td>Tuesday</td>\n      <td>20</td>\n      <td>1</td>\n    </tr>\n    <tr>\n      <th>7</th>\n      <td>3</td>\n      <td>Wednesday</td>\n      <td>14</td>\n      <td>1</td>\n    </tr>\n    <tr>\n      <th>8</th>\n      <td>3</td>\n      <td>Wednesday</td>\n      <td>16</td>\n      <td>1</td>\n    </tr>\n    <tr>\n      <th>9</th>\n      <td>4</td>\n      <td>Thursday</td>\n      <td>5</td>\n      <td>1</td>\n    </tr>\n    <tr>\n      <th>10</th>\n      <td>4</td>\n      <td>Thursday</td>\n      <td>9</td>\n      <td>1</td>\n    </tr>\n    <tr>\n      <th>11</th>\n      <td>4</td>\n      <td>Thursday</td>\n      <td>14</td>\n      <td>2</td>\n    </tr>\n    <tr>\n      <th>12</th>\n      <td>5</td>\n      <td>Friday</td>\n      <td>5</td>\n      <td>1</td>\n    </tr>\n    <tr>\n      <th>13</th>\n      <td>5</td>\n      <td>Friday</td>\n      <td>10</td>\n      <td>1</td>\n    </tr>\n    <tr>\n      <th>14</th>\n      <td>5</td>\n      <td>Friday</td>\n      <td>11</td>\n      <td>1</td>\n    </tr>\n    <tr>\n      <th>15</th>\n      <td>6</td>\n      <td>Saturday</td>\n      <td>9</td>\n      <td>2</td>\n    </tr>\n    <tr>\n      <th>16</th>\n      <td>7</td>\n      <td>Sunday</td>\n      <td>8</td>\n      <td>1</td>\n    </tr>\n    <tr>\n      <th>17</th>\n      <td>7</td>\n      <td>Sunday</td>\n      <td>10</td>\n      <td>1</td>\n    </tr>\n  </tbody>\n</table>\n</div>"
     },
     "metadata": {},
     "execution_count": 5
    }
   ],
   "source": [
    "df = df.groupby(['day_nums', 'days', 'hours']).size().reset_index(name='counts')\n",
    "df"
   ]
  },
  {
   "cell_type": "code",
   "execution_count": 7,
   "metadata": {},
   "outputs": [
    {
     "output_type": "error",
     "ename": "AttributeError",
     "evalue": "module 'matplotlib' has no attribute 'scatter'",
     "traceback": [
      "\u001b[1;31m---------------------------------------------------------------------------\u001b[0m",
      "\u001b[1;31mAttributeError\u001b[0m                            Traceback (most recent call last)",
      "\u001b[1;32m<ipython-input-7-4684afe2ac88>\u001b[0m in \u001b[0;36m<module>\u001b[1;34m\u001b[0m\n\u001b[0;32m     18\u001b[0m }\n\u001b[0;32m     19\u001b[0m \u001b[1;33m\u001b[0m\u001b[0m\n\u001b[1;32m---> 20\u001b[1;33m \u001b[0mscatter_plot\u001b[0m\u001b[1;33m(\u001b[0m\u001b[0mlabels\u001b[0m\u001b[1;33m,\u001b[0m \u001b[0mresults\u001b[0m\u001b[1;33m,\u001b[0m \u001b[0mparams\u001b[0m\u001b[1;33m)\u001b[0m\u001b[1;33m\u001b[0m\u001b[1;33m\u001b[0m\u001b[0m\n\u001b[0m",
      "\u001b[1;32mc:\\Users\\Ipgnosis\\Documents\\Github\\covid_analysis\\covid_package\\plots\\plot_results.py\u001b[0m in \u001b[0;36mscatter_plot\u001b[1;34m(these_labels, these_results, these_params)\u001b[0m\n\u001b[0;32m     27\u001b[0m \u001b[1;33m\u001b[0m\u001b[0m\n\u001b[0;32m     28\u001b[0m     \u001b[1;31m# define the chart and data\u001b[0m\u001b[1;33m\u001b[0m\u001b[1;33m\u001b[0m\u001b[1;33m\u001b[0m\u001b[0m\n\u001b[1;32m---> 29\u001b[1;33m     this_data = plt.scatter(\n\u001b[0m\u001b[0;32m     30\u001b[0m         \u001b[0mthese_results\u001b[0m\u001b[1;33m[\u001b[0m\u001b[1;34m'x_axis'\u001b[0m\u001b[1;33m]\u001b[0m\u001b[1;33m,\u001b[0m \u001b[1;31m# the x axis values\u001b[0m\u001b[1;33m\u001b[0m\u001b[1;33m\u001b[0m\u001b[0m\n\u001b[0;32m     31\u001b[0m         \u001b[0mthese_results\u001b[0m\u001b[1;33m[\u001b[0m\u001b[1;34m'y_axis'\u001b[0m\u001b[1;33m]\u001b[0m\u001b[1;33m,\u001b[0m \u001b[1;31m# the y axis values\u001b[0m\u001b[1;33m\u001b[0m\u001b[1;33m\u001b[0m\u001b[0m\n",
      "\u001b[1;31mAttributeError\u001b[0m: module 'matplotlib' has no attribute 'scatter'"
     ]
    }
   ],
   "source": [
    "\n",
    "labels = {\n",
    "    'title': 'Days vs. Hours',\n",
    "    'x_label': 'Days',\n",
    "    'y_label': 'Hours'\n",
    "}\n",
    "\n",
    "results = {\n",
    "    'x_axis': df['days'],\n",
    "    'y_axis': df['hours'],\n",
    "    'legend_label': 'Update hours'\n",
    "}\n",
    "\n",
    "params = {\n",
    "    'y_lim': (0, 23),\n",
    "    'area': df['counts']**5,\n",
    "    'colors': None,\n",
    "    'alpha': None\n",
    "}\n",
    "\n",
    "scatter_plot(labels, results, params)"
   ]
  },
  {
   "cell_type": "code",
   "execution_count": null,
   "metadata": {},
   "outputs": [],
   "source": []
  }
 ],
 "metadata": {
  "kernelspec": {
   "name": "python385jvsc74a57bd0274668973df437713a854b9d5e72148b8594a1d17fa2c70fe63cd5b464118f1e",
   "display_name": "Python 3.8.5 64-bit (conda)"
  },
  "language_info": {
   "codemirror_mode": {
    "name": "ipython",
    "version": 3
   },
   "file_extension": ".py",
   "mimetype": "text/x-python",
   "name": "python",
   "nbconvert_exporter": "python",
   "pygments_lexer": "ipython3",
   "version": "3.8.5-final"
  },
  "metadata": {
   "interpreter": {
    "hash": "3976d8988fe817a64d33bca2595f94024928979d5f9025bb0db2394ade483d15"
   }
  }
 },
 "nbformat": 4,
 "nbformat_minor": 2
}