{
 "metadata": {
  "language_info": {
   "codemirror_mode": {
    "name": "ipython",
    "version": 3
   },
   "file_extension": ".py",
   "mimetype": "text/x-python",
   "name": "python",
   "nbconvert_exporter": "python",
   "pygments_lexer": "ipython3",
   "version": "3.8.8"
  },
  "orig_nbformat": 2,
  "kernelspec": {
   "name": "python3",
   "display_name": "Python 3.8.8 64-bit ('jovian': conda)"
  },
  "metadata": {
   "interpreter": {
    "hash": "3d272f5f920203b3371390e95080956d0ef2d2ee59e4c15a61e97266d1098e8c"
   }
  },
  "interpreter": {
   "hash": "3d272f5f920203b3371390e95080956d0ef2d2ee59e4c15a61e97266d1098e8c"
  }
 },
 "nbformat": 4,
 "nbformat_minor": 2,
 "cells": [
  {
   "cell_type": "code",
   "execution_count": 1,
   "metadata": {},
   "outputs": [
    {
     "output_type": "stream",
     "name": "stdout",
     "text": [
      "Imports complete\n"
     ]
    }
   ],
   "source": [
    "# imports\n",
    "\n",
    "#import pandas as pd\n",
    "\n",
    "# set up file paths and other data globals\n",
    "\n",
    "import config\n",
    "import modify\n",
    "\n",
    "# local imports\n",
    "\n",
    "from covid_package.data_funcs.store_data import read_json_data, convert_owid_data\n",
    "\n",
    "#from covid_package.libs.valid_keys import fetch_l0_keys\n",
    "from covid_package.libs.aggregate_data import fetch_latest_data_date\n",
    "\n",
    "from covid_package.api.get_country_records import get_country_records\n",
    "\n",
    "print(\"Imports complete\")"
   ]
  },
  {
   "cell_type": "code",
   "execution_count": 2,
   "metadata": {},
   "outputs": [
    {
     "output_type": "stream",
     "name": "stdout",
     "text": [
      "Latest data is: 2021-06-17\n"
     ]
    }
   ],
   "source": [
    "# load data\n",
    "data = read_json_data(config.DATA_FILE_STR)\n",
    "\n",
    "# convert the OWID_ keys\n",
    "data = convert_owid_data(data)\n",
    "\n",
    "# populate the country keys\n",
    "#key_list = fetch_l0_keys(data)\n",
    "\n",
    "# get the date of the newest (valid) data records\n",
    "if config.LATEST_DATA_DATE == \"2018-01-01\": # initialization date not reset\n",
    "    #print(\"LATEST_DATA_DATE not yet set:\", config.LATEST_DATA_DATE)\n",
    "    config.LATEST_DATA_DATE = fetch_latest_data_date(data)\n",
    "\n",
    "print(\"Latest data is:\", config.LATEST_DATA_DATE)"
   ]
  },
  {
   "cell_type": "code",
   "execution_count": 3,
   "metadata": {},
   "outputs": [
    {
     "output_type": "stream",
     "name": "stdout",
     "text": [
      "\nAFG: Afghanistan = 480; from 2020-02-24 to 2021-06-17.\nALB: Albania = 479; from 2020-02-25 to 2021-06-17.\nDZA: Algeria = 479; from 2020-02-25 to 2021-06-17.\nAND: Andorra = 473; from 2020-03-02 to 2021-06-17.\nAGO: Angola = 455; from 2020-03-20 to 2021-06-17.\nAIA: Anguilla = 128; from 2021-02-04 to 2021-06-11.\nATG: Antigua and Barbuda = 462; from 2020-03-13 to 2021-06-17.\nARG: Argentina = 534; from 2020-01-01 to 2021-06-17.\nARM: Armenia = 474; from 2020-03-01 to 2021-06-17.\nABW: Aruba = 81; from 2021-03-29 to 2021-06-17.\nAUS: Australia = 509; from 2020-01-26 to 2021-06-17.\nAUT: Austria = 479; from 2020-02-25 to 2021-06-17.\nAZE: Azerbaijan = 474; from 2020-03-01 to 2021-06-17.\nBHS: Bahamas = 459; from 2020-03-16 to 2021-06-17.\nBHR: Bahrain = 480; from 2020-02-24 to 2021-06-17.\nBGD: Bangladesh = 472; from 2020-03-03 to 2021-06-17.\nBRB: Barbados = 458; from 2020-03-17 to 2021-06-17.\nBLR: Belarus = 476; from 2020-02-28 to 2021-06-17.\nBEL: Belgium = 500; from 2020-02-04 to 2021-06-17.\nBLZ: Belize = 452; from 2020-03-23 to 2021-06-17.\nBEN: Benin = 459; from 2020-03-16 to 2021-06-17.\nBMU: Bermuda = 156; from 2021-01-10 to 2021-06-14.\nBTN: Bhutan = 469; from 2020-03-06 to 2021-06-17.\nBOL: Bolivia = 464; from 2020-03-11 to 2021-06-17.\nBES: Bonaire Sint Eustatius and Saba = 1; from 2021-04-09 to 2021-04-09.\nBIH: Bosnia and Herzegovina = 470; from 2020-03-05 to 2021-06-17.\nBWA: Botswana = 445; from 2020-03-30 to 2021-06-17.\nBRA: Brazil = 478; from 2020-02-26 to 2021-06-17.\nVGB: British Virgin Islands = 22; from 2021-05-21 to 2021-06-11.\nBRN: Brunei = 466; from 2020-03-09 to 2021-06-17.\nBGR: Bulgaria = 467; from 2020-03-08 to 2021-06-17.\nBFA: Burkina Faso = 465; from 2020-03-10 to 2021-06-17.\nBDI: Burundi = 444; from 2020-03-31 to 2021-06-17.\nKHM: Cambodia = 508; from 2020-01-27 to 2021-06-17.\nCMR: Cameroon = 469; from 2020-03-06 to 2021-06-17.\nCAN: Canada = 509; from 2020-01-26 to 2021-06-17.\nCPV: Cape Verde = 455; from 2020-03-20 to 2021-06-17.\nCYM: Cayman Islands = 165; from 2020-12-26 to 2021-06-08.\nCAF: Central African Republic = 460; from 2020-03-15 to 2021-06-17.\nTCD: Chad = 456; from 2020-03-19 to 2021-06-17.\nCHL: Chile = 481; from 2020-02-23 to 2021-06-17.\nCHN: China = 513; from 2020-01-22 to 2021-06-17.\nCOL: Colombia = 469; from 2020-03-06 to 2021-06-17.\nCOM: Comoros = 414; from 2020-04-30 to 2021-06-17.\nCOG: Congo = 460; from 2020-03-15 to 2021-06-17.\nCOK: Cook Islands = 22; from 2021-05-25 to 2021-06-15.\nCRI: Costa Rica = 469; from 2020-03-06 to 2021-06-17.\nCIV: Cote d'Ivoire = 464; from 2020-03-11 to 2021-06-17.\nHRV: Croatia = 479; from 2020-02-25 to 2021-06-17.\nCUB: Cuba = 463; from 2020-03-12 to 2021-06-17.\nCUW: Curacao = 81; from 2021-03-29 to 2021-06-17.\nCYP: Cyprus = 468; from 2020-02-02 to 2021-06-17.\nCZE: Czechia = 474; from 2020-03-01 to 2021-06-17.\nCOD: Democratic Republic of Congo = 464; from 2020-03-11 to 2021-06-17.\nDNK: Denmark = 502; from 2020-02-02 to 2021-06-17.\nDJI: Djibouti = 457; from 2020-03-18 to 2021-06-17.\nDMA: Dominica = 453; from 2020-03-22 to 2021-06-17.\nDOM: Dominican Republic = 474; from 2020-03-01 to 2021-06-17.\nECU: Ecuador = 474; from 2020-03-01 to 2021-06-17.\nEGY: Egypt = 490; from 2020-02-14 to 2021-06-17.\nSLV: El Salvador = 456; from 2020-03-19 to 2021-06-17.\nGNQ: Equatorial Guinea = 460; from 2020-03-15 to 2021-06-17.\nERI: Eritrea = 454; from 2020-03-21 to 2021-06-17.\nEST: Estonia = 501; from 2020-01-06 to 2021-06-17.\nSWZ: Eswatini = 461; from 2020-03-14 to 2021-06-17.\nETH: Ethiopia = 462; from 2020-03-13 to 2021-06-17.\nFRO: Faeroe Islands = 139; from 2021-01-29 to 2021-06-16.\nFLK: Falkland Islands = 67; from 2021-02-07 to 2021-04-14.\nFJI: Fiji = 505; from 2020-01-30 to 2021-06-17.\nFIN: Finland = 506; from 2020-01-29 to 2021-06-17.\nFRA: France = 511; from 2020-01-24 to 2021-06-17.\nPYF: French Polynesia = 134; from 2021-02-02 to 2021-06-15.\nGAB: Gabon = 461; from 2020-03-14 to 2021-06-17.\nGMB: Gambia = 458; from 2020-03-17 to 2021-06-17.\nGEO: Georgia = 478; from 2020-02-26 to 2021-06-17.\nDEU: Germany = 511; from 2020-01-06 to 2021-06-17.\nGHA: Ghana = 461; from 2020-03-14 to 2021-06-17.\nGIB: Gibraltar = 154; from 2021-01-10 to 2021-06-12.\nGRC: Greece = 478; from 2020-02-26 to 2021-06-17.\nGRL: Greenland = 142; from 2021-01-27 to 2021-06-17.\nGRD: Grenada = 453; from 2020-03-22 to 2021-06-17.\nGTM: Guatemala = 487; from 2020-02-17 to 2021-06-17.\nGGY: Guernsey = 145; from 2021-01-24 to 2021-06-17.\nGIN: Guinea = 462; from 2020-03-13 to 2021-06-17.\nGNB: Guinea-Bissau = 450; from 2020-03-25 to 2021-06-17.\nGUY: Guyana = 463; from 2020-03-12 to 2021-06-17.\nHTI: Haiti = 455; from 2020-03-20 to 2021-06-17.\nHND: Honduras = 464; from 2020-03-11 to 2021-06-17.\nHKG: Hong Kong = 512; from 2020-01-23 to 2021-06-17.\nHUN: Hungary = 472; from 2020-03-03 to 2021-06-17.\nISL: Iceland = 477; from 2020-02-27 to 2021-06-17.\nIND: India = 505; from 2020-01-30 to 2021-06-17.\nIDN: Indonesia = 473; from 2020-03-02 to 2021-06-17.\nIRN: Iran = 485; from 2020-02-19 to 2021-06-17.\nIRQ: Iraq = 480; from 2020-02-24 to 2021-06-17.\nIRL: Ireland = 475; from 2020-02-29 to 2021-06-17.\nIMN: Isle of Man = 148; from 2021-01-21 to 2021-06-17.\nISR: Israel = 484; from 2020-02-20 to 2021-06-17.\nITA: Italy = 504; from 2020-01-31 to 2021-06-17.\nJAM: Jamaica = 464; from 2020-03-11 to 2021-06-17.\nJPN: Japan = 513; from 2020-01-22 to 2021-06-17.\nJEY: Jersey = 92; from 2021-03-14 to 2021-06-13.\nJOR: Jordan = 472; from 2020-03-03 to 2021-06-17.\nKAZ: Kazakhstan = 462; from 2020-03-13 to 2021-06-17.\nKEN: Kenya = 469; from 2020-03-06 to 2021-06-17.\nKIR: Kiribati = 31; from 2021-05-18 to 2021-06-17.\nKWT: Kuwait = 480; from 2020-02-24 to 2021-06-17.\nKGZ: Kyrgyzstan = 457; from 2020-03-18 to 2021-06-17.\nLAO: Laos = 451; from 2020-03-24 to 2021-06-17.\nLVA: Latvia = 482; from 2020-01-06 to 2021-06-17.\nLBN: Lebanon = 483; from 2020-02-21 to 2021-06-17.\nLSO: Lesotho = 401; from 2020-05-13 to 2021-06-17.\nLBR: Liberia = 459; from 2020-03-16 to 2021-06-17.\nLBY: Libya = 471; from 2020-03-04 to 2021-06-17.\nLIE: Liechtenstein = 471; from 2020-03-04 to 2021-06-17.\nLTU: Lithuania = 475; from 2020-02-29 to 2021-06-17.\nLUX: Luxembourg = 480; from 2020-02-24 to 2021-06-17.\nMAC: Macao = 130; from 2021-02-08 to 2021-06-17.\nMDG: Madagascar = 455; from 2020-03-20 to 2021-06-17.\nMWI: Malawi = 446; from 2020-03-29 to 2021-06-17.\nMYS: Malaysia = 510; from 2020-01-25 to 2021-06-17.\nMDV: Maldives = 467; from 2020-03-08 to 2021-06-17.\nMLI: Mali = 450; from 2020-03-25 to 2021-06-17.\nMLT: Malta = 498; from 2020-02-06 to 2021-06-17.\nMHL: Marshall Islands = 233; from 2020-10-28 to 2021-06-17.\nMRT: Mauritania = 461; from 2020-03-14 to 2021-06-17.\nMUS: Mauritius = 457; from 2020-03-18 to 2021-06-17.\nMEX: Mexico = 534; from 2020-01-01 to 2021-06-17.\nFSM: Micronesia (country) = 148; from 2021-01-21 to 2021-06-17.\nMDA: Moldova = 467; from 2020-03-08 to 2021-06-17.\nMCO: Monaco = 475; from 2020-02-29 to 2021-06-17.\nMNG: Mongolia = 465; from 2020-03-10 to 2021-06-17.\nMNE: Montenegro = 458; from 2020-03-17 to 2021-06-17.\nMSR: Montserrat = 124; from 2021-02-08 to 2021-06-11.\nMAR: Morocco = 497; from 2020-02-07 to 2021-06-17.\nMOZ: Mozambique = 453; from 2020-03-22 to 2021-06-17.\nMMR: Myanmar = 448; from 2020-03-27 to 2021-06-17.\nNAM: Namibia = 461; from 2020-03-14 to 2021-06-17.\nNRU: Nauru = 62; from 2021-04-08 to 2021-06-08.\nNPL: Nepal = 510; from 2020-01-25 to 2021-06-17.\nNLD: Netherlands = 477; from 2020-02-27 to 2021-06-17.\nNCL: New Caledonia = 134; from 2021-02-02 to 2021-06-15.\nNZL: New Zealand = 476; from 2020-02-28 to 2021-06-17.\nNIC: Nicaragua = 456; from 2020-03-19 to 2021-06-17.\nNER: Niger = 455; from 2020-03-20 to 2021-06-17.\nNGA: Nigeria = 476; from 2020-02-28 to 2021-06-17.\nMKD: North Macedonia = 478; from 2020-02-26 to 2021-06-17.\nNOR: Norway = 479; from 2020-02-23 to 2021-06-17.\nOMN: Oman = 480; from 2020-02-24 to 2021-06-17.\nPAK: Pakistan = 479; from 2020-02-25 to 2021-06-17.\nPLW: Palau = 18; from 2021-05-31 to 2021-06-17.\nPSE: Palestine = 470; from 2020-03-05 to 2021-06-17.\nPAN: Panama = 466; from 2020-03-09 to 2021-06-17.\nPNG: Papua New Guinea = 455; from 2020-03-20 to 2021-06-17.\nPRY: Paraguay = 468; from 2020-03-07 to 2021-06-17.\nPER: Peru = 529; from 2020-01-06 to 2021-06-17.\nPHL: Philippines = 505; from 2020-01-30 to 2021-06-17.\nPCN: Pitcairn = 1; from 2021-06-15 to 2021-06-15.\nPOL: Poland = 471; from 2020-03-04 to 2021-06-17.\nPRT: Portugal = 481; from 2020-01-06 to 2021-06-17.\nQAT: Qatar = 475; from 2020-02-29 to 2021-06-17.\nROU: Romania = 478; from 2020-02-26 to 2021-06-17.\nRUS: Russia = 504; from 2020-01-31 to 2021-06-17.\nRWA: Rwanda = 461; from 2020-03-14 to 2021-06-17.\nSHN: Saint Helena = 92; from 2021-02-03 to 2021-05-05.\nKNA: Saint Kitts and Nevis = 450; from 2020-03-25 to 2021-06-17.\nLCA: Saint Lucia = 461; from 2020-03-14 to 2021-06-17.\nVCT: Saint Vincent and the Grenadines = 461; from 2020-03-14 to 2021-06-17.\nWSM: Samoa = 212; from 2020-11-18 to 2021-06-17.\nSMR: San Marino = 477; from 2020-02-27 to 2021-06-17.\nSTP: Sao Tome and Principe = 438; from 2020-04-06 to 2021-06-17.\nSAU: Saudi Arabia = 473; from 2020-03-02 to 2021-06-17.\nSEN: Senegal = 476; from 2020-02-28 to 2021-06-17.\nSRB: Serbia = 478; from 2020-02-26 to 2021-06-17.\nSYC: Seychelles = 461; from 2020-03-14 to 2021-06-17.\nSLE: Sierra Leone = 444; from 2020-03-31 to 2021-06-17.\nSGP: Singapore = 512; from 2020-01-23 to 2021-06-17.\nSXM: Sint Maarten (Dutch part) = 36; from 2021-05-07 to 2021-06-11.\nSVK: Slovakia = 469; from 2020-03-06 to 2021-06-17.\nSVN: Slovenia = 502; from 2020-02-02 to 2021-06-17.\nSLB: Solomon Islands = 249; from 2020-10-12 to 2021-06-17.\nSOM: Somalia = 459; from 2020-03-16 to 2021-06-17.\nZAF: South Africa = 497; from 2020-02-07 to 2021-06-17.\nKOR: South Korea = 514; from 2020-01-21 to 2021-06-17.\nSSD: South Sudan = 439; from 2020-04-05 to 2021-06-17.\nESP: Spain = 503; from 2020-02-01 to 2021-06-17.\nLKA: Sri Lanka = 508; from 2020-01-27 to 2021-06-17.\nSDN: Sudan = 463; from 2020-03-12 to 2021-06-17.\nSUR: Suriname = 461; from 2020-03-14 to 2021-06-17.\nSWE: Sweden = 503; from 2020-02-01 to 2021-06-17.\nCHE: Switzerland = 479; from 2020-02-25 to 2021-06-17.\nSYR: Syria = 453; from 2020-03-22 to 2021-06-17.\nTWN: Taiwan = 519; from 2020-01-16 to 2021-06-17.\nTJK: Tajikistan = 414; from 2020-04-30 to 2021-06-17.\nTZA: Tanzania = 459; from 2020-03-16 to 2021-06-17.\nTHA: Thailand = 531; from 2020-01-04 to 2021-06-17.\nTLS: Timor = 453; from 2020-03-22 to 2021-06-17.\nTGO: Togo = 471; from 2020-03-04 to 2021-06-17.\nTON: Tonga = 43; from 2021-04-20 to 2021-06-01.\nTTO: Trinidad and Tobago = 461; from 2020-03-14 to 2021-06-17.\nTUN: Tunisia = 471; from 2020-03-04 to 2021-06-17.\nTUR: Turkey = 464; from 2020-03-11 to 2021-06-17.\nTKM: Turkmenistan = 1; from 2021-04-04 to 2021-04-04.\nTCA: Turks and Caicos Islands = 139; from 2021-01-10 to 2021-05-28.\nTUV: Tuvalu = 50; from 2021-04-27 to 2021-06-15.\nUGA: Uganda = 454; from 2020-03-21 to 2021-06-17.\nUKR: Ukraine = 472; from 2020-03-03 to 2021-06-17.\nARE: United Arab Emirates = 506; from 2020-01-29 to 2021-06-17.\nGBR: United Kingdom = 504; from 2020-01-31 to 2021-06-17.\nUSA: United States = 513; from 2020-01-22 to 2021-06-17.\nURY: Uruguay = 462; from 2020-03-13 to 2021-06-17.\nUZB: Uzbekistan = 460; from 2020-03-15 to 2021-06-17.\nVUT: Vanuatu = 220; from 2020-11-10 to 2021-06-17.\nVAT: Vatican = 469; from 2020-03-06 to 2021-06-17.\nVEN: Venezuela = 461; from 2020-03-14 to 2021-06-17.\nVNM: Vietnam = 512; from 2020-01-23 to 2021-06-17.\nWLF: Wallis and Futuna = 85; from 2021-03-23 to 2021-06-15.\nYEM: Yemen = 434; from 2020-04-10 to 2021-06-17.\nZMB: Zambia = 457; from 2020-03-18 to 2021-06-17.\nZWE: Zimbabwe = 455; from 2020-03-20 to 2021-06-17.\nCYN: Northern Cyprus = 134; from 2021-01-14 to 2021-05-27.\nKOS: Kosovo = 461; from 2020-03-14 to 2021-06-17.\nWRL: World = 513; from 2020-01-22 to 2021-06-17.\n"
     ]
    }
   ],
   "source": [
    "print(get_country_records(data))"
   ]
  }
 ]
}