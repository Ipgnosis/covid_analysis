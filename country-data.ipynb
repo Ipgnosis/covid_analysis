{
 "metadata": {
  "language_info": {
   "codemirror_mode": {
    "name": "ipython",
    "version": 3
   },
   "file_extension": ".py",
   "mimetype": "text/x-python",
   "name": "python",
   "nbconvert_exporter": "python",
   "pygments_lexer": "ipython3",
   "version": "3.8.10"
  },
  "orig_nbformat": 2,
  "kernelspec": {
   "name": "python3",
   "display_name": "Python 3.8.10 64-bit ('jovian': conda)"
  },
  "metadata": {
   "interpreter": {
    "hash": "3d272f5f920203b3371390e95080956d0ef2d2ee59e4c15a61e97266d1098e8c"
   }
  },
  "interpreter": {
   "hash": "3d272f5f920203b3371390e95080956d0ef2d2ee59e4c15a61e97266d1098e8c"
  }
 },
 "nbformat": 4,
 "nbformat_minor": 2,
 "cells": [
  {
   "cell_type": "code",
   "execution_count": 2,
   "metadata": {},
   "outputs": [
    {
     "output_type": "stream",
     "name": "stdout",
     "text": [
      "Imports complete\n"
     ]
    }
   ],
   "source": [
    "# imports\n",
    "\n",
    "#import pandas as pd\n",
    "\n",
    "# set up file paths and other data globals\n",
    "\n",
    "import config\n",
    "import modify\n",
    "\n",
    "# local imports\n",
    "\n",
    "from covid_package.data_funcs.store_data import read_json_data, convert_owid_data\n",
    "\n",
    "#from covid_package.libs.valid_keys import fetch_l0_keys\n",
    "from covid_package.libs.aggregate_data import fetch_latest_data_date\n",
    "\n",
    "from covid_package.api.get_country_records import get_country_records\n",
    "\n",
    "print(\"Imports complete\")"
   ]
  },
  {
   "cell_type": "code",
   "execution_count": 3,
   "metadata": {},
   "outputs": [
    {
     "output_type": "stream",
     "name": "stdout",
     "text": [
      "Latest data is: 2021-07-06\n"
     ]
    }
   ],
   "source": [
    "# load data\n",
    "data = read_json_data(config.DATA_FILE_STR)\n",
    "\n",
    "# convert the OWID_ keys\n",
    "data = convert_owid_data(data)\n",
    "\n",
    "# populate the country keys\n",
    "#key_list = fetch_l0_keys(data)\n",
    "\n",
    "# get the date of the newest (valid) data records\n",
    "if config.LATEST_DATA_DATE == \"2018-01-01\": # initialization date not reset\n",
    "    #print(\"LATEST_DATA_DATE not yet set:\", config.LATEST_DATA_DATE)\n",
    "    config.LATEST_DATA_DATE = fetch_latest_data_date(data)\n",
    "\n",
    "print(\"Latest data is:\", config.LATEST_DATA_DATE)"
   ]
  },
  {
   "cell_type": "code",
   "execution_count": 4,
   "metadata": {},
   "outputs": [
    {
     "output_type": "stream",
     "name": "stdout",
     "text": [
      "ABW: Aruba = 100; from 2021-03-29 to 2021-07-06\nAFG: Afghanistan = 499; from 2020-02-24 to 2021-07-06\nAGO: Angola = 474; from 2020-03-20 to 2021-07-06\nAIA: Anguilla = 149; from 2021-02-04 to 2021-07-02\nALB: Albania = 498; from 2020-02-25 to 2021-07-06\nAND: Andorra = 492; from 2020-03-02 to 2021-07-06\nARE: United Arab Emirates = 525; from 2020-01-29 to 2021-07-06\nARG: Argentina = 553; from 2020-01-01 to 2021-07-06\nARM: Armenia = 493; from 2020-03-01 to 2021-07-06\nATG: Antigua and Barbuda = 481; from 2020-03-13 to 2021-07-06\nAUS: Australia = 528; from 2020-01-26 to 2021-07-06\nAUT: Austria = 498; from 2020-02-25 to 2021-07-06\nAZE: Azerbaijan = 493; from 2020-03-01 to 2021-07-06\nBDI: Burundi = 463; from 2020-03-31 to 2021-07-06\nBEL: Belgium = 519; from 2020-02-04 to 2021-07-06\nBEN: Benin = 478; from 2020-03-16 to 2021-07-06\nBES: Bonaire Sint Eustatius and Saba = 1; from 2021-04-09 to 2021-04-09\nBFA: Burkina Faso = 484; from 2020-03-10 to 2021-07-06\nBGD: Bangladesh = 491; from 2020-03-03 to 2021-07-06\nBGR: Bulgaria = 486; from 2020-03-08 to 2021-07-06\nBHR: Bahrain = 499; from 2020-02-24 to 2021-07-06\nBHS: Bahamas = 478; from 2020-03-16 to 2021-07-06\nBIH: Bosnia and Herzegovina = 489; from 2020-03-05 to 2021-07-06\nBLR: Belarus = 495; from 2020-02-28 to 2021-07-06\nBLZ: Belize = 471; from 2020-03-23 to 2021-07-06\nBMU: Bermuda = 175; from 2021-01-10 to 2021-07-03\nBOL: Bolivia = 483; from 2020-03-11 to 2021-07-06\nBRA: Brazil = 497; from 2020-02-26 to 2021-07-06\nBRB: Barbados = 477; from 2020-03-17 to 2021-07-06\nBRN: Brunei = 485; from 2020-03-09 to 2021-07-06\nBTN: Bhutan = 488; from 2020-03-06 to 2021-07-06\nBWA: Botswana = 464; from 2020-03-30 to 2021-07-06\nCAF: Central African Republic = 479; from 2020-03-15 to 2021-07-06\nCAN: Canada = 528; from 2020-01-26 to 2021-07-06\nCHE: Switzerland = 498; from 2020-02-25 to 2021-07-06\nCHL: Chile = 500; from 2020-02-23 to 2021-07-06\nCHN: China = 532; from 2020-01-22 to 2021-07-06\nCIV: Cote d'Ivoire = 483; from 2020-03-11 to 2021-07-06\nCMR: Cameroon = 488; from 2020-03-06 to 2021-07-06\nCOD: Democratic Republic of Congo = 483; from 2020-03-11 to 2021-07-06\nCOG: Congo = 479; from 2020-03-15 to 2021-07-06\nCOK: Cook Islands = 36; from 2021-05-25 to 2021-06-29\nCOL: Colombia = 488; from 2020-03-06 to 2021-07-06\nCOM: Comoros = 433; from 2020-04-30 to 2021-07-06\nCPV: Cape Verde = 474; from 2020-03-20 to 2021-07-06\nCRI: Costa Rica = 488; from 2020-03-06 to 2021-07-06\nCUB: Cuba = 482; from 2020-03-12 to 2021-07-06\nCUW: Curacao = 100; from 2021-03-29 to 2021-07-06\nCYM: Cayman Islands = 193; from 2020-12-26 to 2021-07-06\nCYN: Northern Cyprus = 134; from 2021-01-14 to 2021-05-27\nCYP: Cyprus = 485; from 2020-03-09 to 2021-07-06\nCZE: Czechia = 493; from 2020-03-01 to 2021-07-06\nDEU: Germany = 530; from 2020-01-06 to 2021-07-06\nDJI: Djibouti = 476; from 2020-03-18 to 2021-07-06\nDMA: Dominica = 472; from 2020-03-22 to 2021-07-06\nDNK: Denmark = 521; from 2020-02-02 to 2021-07-06\nDOM: Dominican Republic = 493; from 2020-03-01 to 2021-07-06\nDZA: Algeria = 498; from 2020-02-25 to 2021-07-06\nECU: Ecuador = 493; from 2020-03-01 to 2021-07-06\nEGY: Egypt = 509; from 2020-02-14 to 2021-07-06\nERI: Eritrea = 473; from 2020-03-21 to 2021-07-06\nESP: Spain = 522; from 2020-02-01 to 2021-07-06\nEST: Estonia = 520; from 2020-01-06 to 2021-07-06\nETH: Ethiopia = 481; from 2020-03-13 to 2021-07-06\nFIN: Finland = 525; from 2020-01-29 to 2021-07-06\nFJI: Fiji = 524; from 2020-01-30 to 2021-07-06\nFLK: Falkland Islands = 67; from 2021-02-07 to 2021-04-14\nFRA: France = 530; from 2020-01-24 to 2021-07-06\nFRO: Faeroe Islands = 159; from 2021-01-29 to 2021-07-06\nFSM: Micronesia (country) = 167; from 2021-01-21 to 2021-07-06\nGAB: Gabon = 480; from 2020-03-14 to 2021-07-06\nGBR: United Kingdom = 523; from 2020-01-31 to 2021-07-06\nGEO: Georgia = 497; from 2020-02-26 to 2021-07-06\nGGY: Guernsey = 164; from 2021-01-24 to 2021-07-06\nGHA: Ghana = 480; from 2020-03-14 to 2021-07-06\nGIB: Gibraltar = 174; from 2021-01-10 to 2021-07-02\nGIN: Guinea = 481; from 2020-03-13 to 2021-07-06\nGMB: Gambia = 477; from 2020-03-17 to 2021-07-06\nGNB: Guinea-Bissau = 469; from 2020-03-25 to 2021-07-06\nGNQ: Equatorial Guinea = 479; from 2020-03-15 to 2021-07-06\nGRC: Greece = 504; from 2020-01-06 to 2021-07-06\nGRD: Grenada = 472; from 2020-03-22 to 2021-07-06\nGRL: Greenland = 161; from 2021-01-27 to 2021-07-06\nGTM: Guatemala = 506; from 2020-02-17 to 2021-07-06\nGUY: Guyana = 482; from 2020-03-12 to 2021-07-06\nHKG: Hong Kong = 531; from 2020-01-23 to 2021-07-06\nHND: Honduras = 483; from 2020-03-11 to 2021-07-06\nHRV: Croatia = 498; from 2020-02-25 to 2021-07-06\nHTI: Haiti = 474; from 2020-03-20 to 2021-07-06\nHUN: Hungary = 491; from 2020-03-03 to 2021-07-06\nIDN: Indonesia = 492; from 2020-03-02 to 2021-07-06\nIMN: Isle of Man = 167; from 2021-01-21 to 2021-07-06\nIND: India = 524; from 2020-01-30 to 2021-07-06\nIRL: Ireland = 494; from 2020-02-29 to 2021-07-06\nIRN: Iran = 504; from 2020-02-19 to 2021-07-06\nIRQ: Iraq = 499; from 2020-02-24 to 2021-07-06\nISL: Iceland = 496; from 2020-02-27 to 2021-07-06\nISR: Israel = 503; from 2020-02-20 to 2021-07-06\nITA: Italy = 523; from 2020-01-31 to 2021-07-06\nJAM: Jamaica = 483; from 2020-03-11 to 2021-07-06\nJEY: Jersey = 106; from 2021-03-14 to 2021-06-27\nJOR: Jordan = 491; from 2020-03-03 to 2021-07-06\nJPN: Japan = 532; from 2020-01-22 to 2021-07-06\nKAZ: Kazakhstan = 481; from 2020-03-13 to 2021-07-06\nKEN: Kenya = 488; from 2020-03-06 to 2021-07-06\nKGZ: Kyrgyzstan = 476; from 2020-03-18 to 2021-07-06\nKHM: Cambodia = 527; from 2020-01-27 to 2021-07-06\nKIR: Kiribati = 50; from 2021-05-18 to 2021-07-06\nKNA: Saint Kitts and Nevis = 469; from 2020-03-25 to 2021-07-06\nKOR: South Korea = 533; from 2020-01-21 to 2021-07-06\nKOS: Kosovo = 480; from 2020-03-14 to 2021-07-06\nKWT: Kuwait = 499; from 2020-02-24 to 2021-07-06\nLAO: Laos = 470; from 2020-03-24 to 2021-07-06\nLBN: Lebanon = 502; from 2020-02-21 to 2021-07-06\nLBR: Liberia = 478; from 2020-03-16 to 2021-07-06\nLBY: Libya = 490; from 2020-03-04 to 2021-07-06\nLCA: Saint Lucia = 480; from 2020-03-14 to 2021-07-06\nLIE: Liechtenstein = 490; from 2020-03-04 to 2021-07-06\nLKA: Sri Lanka = 527; from 2020-01-27 to 2021-07-06\nLSO: Lesotho = 420; from 2020-05-13 to 2021-07-06\nLTU: Lithuania = 494; from 2020-02-29 to 2021-07-06\nLUX: Luxembourg = 499; from 2020-02-24 to 2021-07-06\nLVA: Latvia = 501; from 2020-01-06 to 2021-07-06\nMAC: Macao = 149; from 2021-02-08 to 2021-07-06\nMAR: Morocco = 516; from 2020-02-07 to 2021-07-06\nMCO: Monaco = 494; from 2020-02-29 to 2021-07-06\nMDA: Moldova = 486; from 2020-03-08 to 2021-07-06\nMDG: Madagascar = 474; from 2020-03-20 to 2021-07-06\nMDV: Maldives = 486; from 2020-03-08 to 2021-07-06\nMEX: Mexico = 553; from 2020-01-01 to 2021-07-06\nMHL: Marshall Islands = 252; from 2020-10-28 to 2021-07-06\nMKD: North Macedonia = 497; from 2020-02-26 to 2021-07-06\nMLI: Mali = 469; from 2020-03-25 to 2021-07-06\nMLT: Malta = 517; from 2020-02-06 to 2021-07-06\nMMR: Myanmar = 467; from 2020-03-27 to 2021-07-06\nMNE: Montenegro = 477; from 2020-03-17 to 2021-07-06\nMNG: Mongolia = 484; from 2020-03-10 to 2021-07-06\nMOZ: Mozambique = 472; from 2020-03-22 to 2021-07-06\nMRT: Mauritania = 480; from 2020-03-14 to 2021-07-06\nMSR: Montserrat = 145; from 2021-02-08 to 2021-07-02\nMUS: Mauritius = 476; from 2020-03-18 to 2021-07-06\nMWI: Malawi = 465; from 2020-03-29 to 2021-07-06\nMYS: Malaysia = 529; from 2020-01-25 to 2021-07-06\nNAM: Namibia = 480; from 2020-03-14 to 2021-07-06\nNCL: New Caledonia = 155; from 2021-02-02 to 2021-07-06\nNER: Niger = 474; from 2020-03-20 to 2021-07-06\nNGA: Nigeria = 495; from 2020-02-28 to 2021-07-06\nNIC: Nicaragua = 475; from 2020-03-19 to 2021-07-06\nNLD: Netherlands = 496; from 2020-02-27 to 2021-07-06\nNOR: Norway = 498; from 2020-02-23 to 2021-07-06\nNPL: Nepal = 529; from 2020-01-25 to 2021-07-06\nNRU: Nauru = 83; from 2021-04-08 to 2021-06-29\nNZL: New Zealand = 495; from 2020-02-28 to 2021-07-06\nOMN: Oman = 499; from 2020-02-24 to 2021-07-06\nPAK: Pakistan = 498; from 2020-02-25 to 2021-07-06\nPAN: Panama = 485; from 2020-03-09 to 2021-07-06\nPCN: Pitcairn = 7; from 2021-06-15 to 2021-06-21\nPER: Peru = 548; from 2020-01-06 to 2021-07-06\nPHL: Philippines = 524; from 2020-01-30 to 2021-07-06\nPNG: Papua New Guinea = 474; from 2020-03-20 to 2021-07-06\nPOL: Poland = 490; from 2020-03-04 to 2021-07-06\nPRT: Portugal = 500; from 2020-01-06 to 2021-07-06\nPRY: Paraguay = 487; from 2020-03-07 to 2021-07-06\nPSE: Palestine = 489; from 2020-03-05 to 2021-07-06\nPYF: French Polynesia = 148; from 2021-02-02 to 2021-06-29\nQAT: Qatar = 494; from 2020-02-29 to 2021-07-06\nROU: Romania = 497; from 2020-02-26 to 2021-07-06\nRUS: Russia = 523; from 2020-01-31 to 2021-07-06\nRWA: Rwanda = 480; from 2020-03-14 to 2021-07-06\nSAU: Saudi Arabia = 492; from 2020-03-02 to 2021-07-06\nSDN: Sudan = 482; from 2020-03-12 to 2021-07-06\nSEN: Senegal = 495; from 2020-02-28 to 2021-07-06\nSGP: Singapore = 531; from 2020-01-23 to 2021-07-06\nSHN: Saint Helena = 92; from 2021-02-03 to 2021-05-05\nSLB: Solomon Islands = 268; from 2020-10-12 to 2021-07-06\nSLE: Sierra Leone = 463; from 2020-03-31 to 2021-07-06\nSLV: El Salvador = 475; from 2020-03-19 to 2021-07-06\nSMR: San Marino = 496; from 2020-02-27 to 2021-07-06\nSOM: Somalia = 478; from 2020-03-16 to 2021-07-06\nSRB: Serbia = 497; from 2020-02-26 to 2021-07-06\nSSD: South Sudan = 458; from 2020-04-05 to 2021-07-06\nSTP: Sao Tome and Principe = 457; from 2020-04-06 to 2021-07-06\nSUR: Suriname = 480; from 2020-03-14 to 2021-07-06\nSVK: Slovakia = 488; from 2020-03-06 to 2021-07-06\nSVN: Slovenia = 521; from 2020-02-02 to 2021-07-06\nSWE: Sweden = 522; from 2020-02-01 to 2021-07-06\nSWZ: Eswatini = 480; from 2020-03-14 to 2021-07-06\nSXM: Sint Maarten (Dutch part) = 57; from 2021-05-07 to 2021-07-02\nSYC: Seychelles = 480; from 2020-03-14 to 2021-07-06\nSYR: Syria = 472; from 2020-03-22 to 2021-07-06\nTCA: Turks and Caicos Islands = 174; from 2021-01-10 to 2021-07-02\nTCD: Chad = 475; from 2020-03-19 to 2021-07-06\nTGO: Togo = 490; from 2020-03-04 to 2021-07-06\nTHA: Thailand = 550; from 2020-01-04 to 2021-07-06\nTJK: Tajikistan = 433; from 2020-04-30 to 2021-07-06\nTKM: Turkmenistan = 1; from 2021-04-04 to 2021-04-04\nTLS: Timor = 472; from 2020-03-22 to 2021-07-06\nTON: Tonga = 44; from 2021-04-20 to 2021-06-21\nTTO: Trinidad and Tobago = 480; from 2020-03-14 to 2021-07-06\nTUN: Tunisia = 490; from 2020-03-04 to 2021-07-06\nTUR: Turkey = 483; from 2020-03-11 to 2021-07-06\nTUV: Tuvalu = 50; from 2021-04-27 to 2021-06-15\nTWN: Taiwan = 538; from 2020-01-16 to 2021-07-06\nTZA: Tanzania = 478; from 2020-03-16 to 2021-07-06\nUGA: Uganda = 473; from 2020-03-21 to 2021-07-06\nUKR: Ukraine = 491; from 2020-03-03 to 2021-07-06\nURY: Uruguay = 481; from 2020-03-13 to 2021-07-06\nUSA: United States = 532; from 2020-01-22 to 2021-07-06\nUZB: Uzbekistan = 479; from 2020-03-15 to 2021-07-06\nVAT: Vatican = 488; from 2020-03-06 to 2021-07-06\nVCT: Saint Vincent and the Grenadines = 480; from 2020-03-14 to 2021-07-06\nVEN: Venezuela = 480; from 2020-03-14 to 2021-07-06\nVGB: British Virgin Islands = 43; from 2021-05-21 to 2021-07-02\nVNM: Vietnam = 531; from 2020-01-23 to 2021-07-06\nVUT: Vanuatu = 239; from 2020-11-10 to 2021-07-06\nWLF: Wallis and Futuna = 106; from 2021-03-23 to 2021-07-06\nWRL: World = 532; from 2020-01-22 to 2021-07-06\nWSM: Samoa = 231; from 2020-11-18 to 2021-07-06\nYEM: Yemen = 453; from 2020-04-10 to 2021-07-06\nZAF: South Africa = 516; from 2020-02-07 to 2021-07-06\nZMB: Zambia = 476; from 2020-03-18 to 2021-07-06\nZWE: Zimbabwe = 474; from 2020-03-20 to 2021-07-06\n"
     ]
    }
   ],
   "source": [
    "for ele in get_country_records(data):\n",
    "    print(ele)"
   ]
  },
  {
   "cell_type": "code",
   "execution_count": null,
   "metadata": {},
   "outputs": [],
   "source": []
  }
 ]
}