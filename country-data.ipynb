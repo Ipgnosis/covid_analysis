{
 "metadata": {
  "language_info": {
   "codemirror_mode": {
    "name": "ipython",
    "version": 3
   },
   "file_extension": ".py",
   "mimetype": "text/x-python",
   "name": "python",
   "nbconvert_exporter": "python",
   "pygments_lexer": "ipython3",
   "version": "3.8.8"
  },
  "orig_nbformat": 2,
  "kernelspec": {
   "name": "python3",
   "display_name": "Python 3.8.8 64-bit ('jovian': conda)"
  },
  "metadata": {
   "interpreter": {
    "hash": "3d272f5f920203b3371390e95080956d0ef2d2ee59e4c15a61e97266d1098e8c"
   }
  },
  "interpreter": {
   "hash": "3d272f5f920203b3371390e95080956d0ef2d2ee59e4c15a61e97266d1098e8c"
  }
 },
 "nbformat": 4,
 "nbformat_minor": 2,
 "cells": [
  {
   "cell_type": "code",
   "execution_count": 1,
   "metadata": {},
   "outputs": [
    {
     "output_type": "stream",
     "name": "stdout",
     "text": [
      "Imports complete\n"
     ]
    }
   ],
   "source": [
    "# imports\n",
    "\n",
    "#import pandas as pd\n",
    "\n",
    "# set up file paths and other data globals\n",
    "\n",
    "import config\n",
    "import modify\n",
    "\n",
    "# local imports\n",
    "\n",
    "from covid_package.data_funcs.store_data import read_json_data, convert_owid_data\n",
    "\n",
    "#from covid_package.libs.valid_keys import fetch_l0_keys\n",
    "from covid_package.libs.aggregate_data import fetch_latest_data_date\n",
    "\n",
    "from covid_package.api.get_country_records import get_country_records\n",
    "\n",
    "print(\"Imports complete\")"
   ]
  },
  {
   "cell_type": "code",
   "execution_count": 2,
   "metadata": {},
   "outputs": [
    {
     "output_type": "stream",
     "name": "stdout",
     "text": [
      "Latest data is: 2021-06-25\n"
     ]
    }
   ],
   "source": [
    "# load data\n",
    "data = read_json_data(config.DATA_FILE_STR)\n",
    "\n",
    "# convert the OWID_ keys\n",
    "data = convert_owid_data(data)\n",
    "\n",
    "# populate the country keys\n",
    "#key_list = fetch_l0_keys(data)\n",
    "\n",
    "# get the date of the newest (valid) data records\n",
    "if config.LATEST_DATA_DATE == \"2018-01-01\": # initialization date not reset\n",
    "    #print(\"LATEST_DATA_DATE not yet set:\", config.LATEST_DATA_DATE)\n",
    "    config.LATEST_DATA_DATE = fetch_latest_data_date(data)\n",
    "\n",
    "print(\"Latest data is:\", config.LATEST_DATA_DATE)"
   ]
  },
  {
   "cell_type": "code",
   "execution_count": 3,
   "metadata": {},
   "outputs": [
    {
     "output_type": "stream",
     "name": "stdout",
     "text": [
      "\nAFG: Afghanistan = 488; from 2020-02-24 to 2021-06-25.\nALB: Albania = 487; from 2020-02-25 to 2021-06-25.\nDZA: Algeria = 487; from 2020-02-25 to 2021-06-25.\nAND: Andorra = 481; from 2020-03-02 to 2021-06-25.\nAGO: Angola = 463; from 2020-03-20 to 2021-06-25.\nAIA: Anguilla = 135; from 2021-02-04 to 2021-06-18.\nATG: Antigua and Barbuda = 470; from 2020-03-13 to 2021-06-25.\nARG: Argentina = 542; from 2020-01-01 to 2021-06-25.\nARM: Armenia = 482; from 2020-03-01 to 2021-06-25.\nABW: Aruba = 88; from 2021-03-29 to 2021-06-24.\nAUS: Australia = 517; from 2020-01-26 to 2021-06-25.\nAUT: Austria = 487; from 2020-02-25 to 2021-06-25.\nAZE: Azerbaijan = 482; from 2020-03-01 to 2021-06-25.\nBHS: Bahamas = 467; from 2020-03-16 to 2021-06-25.\nBHR: Bahrain = 488; from 2020-02-24 to 2021-06-25.\nBGD: Bangladesh = 480; from 2020-03-03 to 2021-06-25.\nBRB: Barbados = 466; from 2020-03-17 to 2021-06-25.\nBLR: Belarus = 484; from 2020-02-28 to 2021-06-25.\nBEL: Belgium = 508; from 2020-02-04 to 2021-06-25.\nBLZ: Belize = 460; from 2020-03-23 to 2021-06-25.\nBEN: Benin = 467; from 2020-03-16 to 2021-06-25.\nBMU: Bermuda = 156; from 2021-01-10 to 2021-06-14.\nBTN: Bhutan = 477; from 2020-03-06 to 2021-06-25.\nBOL: Bolivia = 472; from 2020-03-11 to 2021-06-25.\nBES: Bonaire Sint Eustatius and Saba = 1; from 2021-04-09 to 2021-04-09.\nBIH: Bosnia and Herzegovina = 478; from 2020-03-05 to 2021-06-25.\nBWA: Botswana = 453; from 2020-03-30 to 2021-06-25.\nBRA: Brazil = 486; from 2020-02-26 to 2021-06-25.\nVGB: British Virgin Islands = 29; from 2021-05-21 to 2021-06-18.\nBRN: Brunei = 474; from 2020-03-09 to 2021-06-25.\nBGR: Bulgaria = 475; from 2020-03-08 to 2021-06-25.\nBFA: Burkina Faso = 473; from 2020-03-10 to 2021-06-25.\nBDI: Burundi = 452; from 2020-03-31 to 2021-06-25.\nKHM: Cambodia = 516; from 2020-01-27 to 2021-06-25.\nCMR: Cameroon = 477; from 2020-03-06 to 2021-06-25.\nCAN: Canada = 517; from 2020-01-26 to 2021-06-25.\nCPV: Cape Verde = 463; from 2020-03-20 to 2021-06-25.\nCYM: Cayman Islands = 181; from 2020-12-26 to 2021-06-24.\nCAF: Central African Republic = 468; from 2020-03-15 to 2021-06-25.\nTCD: Chad = 464; from 2020-03-19 to 2021-06-25.\nCHL: Chile = 489; from 2020-02-23 to 2021-06-25.\nCHN: China = 521; from 2020-01-22 to 2021-06-25.\nCOL: Colombia = 477; from 2020-03-06 to 2021-06-25.\nCOM: Comoros = 422; from 2020-04-30 to 2021-06-25.\nCOG: Congo = 468; from 2020-03-15 to 2021-06-25.\nCOK: Cook Islands = 28; from 2021-05-25 to 2021-06-21.\nCRI: Costa Rica = 477; from 2020-03-06 to 2021-06-25.\nCIV: Cote d'Ivoire = 472; from 2020-03-11 to 2021-06-25.\nHRV: Croatia = 487; from 2020-02-25 to 2021-06-25.\nCUB: Cuba = 471; from 2020-03-12 to 2021-06-25.\nCUW: Curacao = 88; from 2021-03-29 to 2021-06-24.\nCYP: Cyprus = 474; from 2020-03-09 to 2021-06-25.\nCZE: Czechia = 482; from 2020-03-01 to 2021-06-25.\nCOD: Democratic Republic of Congo = 472; from 2020-03-11 to 2021-06-25.\nDNK: Denmark = 510; from 2020-02-02 to 2021-06-25.\nDJI: Djibouti = 465; from 2020-03-18 to 2021-06-25.\nDMA: Dominica = 461; from 2020-03-22 to 2021-06-25.\nDOM: Dominican Republic = 482; from 2020-03-01 to 2021-06-25.\nECU: Ecuador = 482; from 2020-03-01 to 2021-06-25.\nEGY: Egypt = 498; from 2020-02-14 to 2021-06-25.\nSLV: El Salvador = 464; from 2020-03-19 to 2021-06-25.\nGNQ: Equatorial Guinea = 468; from 2020-03-15 to 2021-06-25.\nERI: Eritrea = 462; from 2020-03-21 to 2021-06-25.\nEST: Estonia = 509; from 2020-01-06 to 2021-06-25.\nSWZ: Eswatini = 469; from 2020-03-14 to 2021-06-25.\nETH: Ethiopia = 470; from 2020-03-13 to 2021-06-25.\nFRO: Faeroe Islands = 147; from 2021-01-29 to 2021-06-24.\nFLK: Falkland Islands = 67; from 2021-02-07 to 2021-04-14.\nFJI: Fiji = 513; from 2020-01-30 to 2021-06-25.\nFIN: Finland = 514; from 2020-01-29 to 2021-06-25.\nFRA: France = 519; from 2020-01-24 to 2021-06-25.\nPYF: French Polynesia = 140; from 2021-02-02 to 2021-06-21.\nGAB: Gabon = 469; from 2020-03-14 to 2021-06-25.\nGMB: Gambia = 466; from 2020-03-17 to 2021-06-25.\nGEO: Georgia = 486; from 2020-02-26 to 2021-06-25.\nDEU: Germany = 519; from 2020-01-06 to 2021-06-25.\nGHA: Ghana = 469; from 2020-03-14 to 2021-06-25.\nGIB: Gibraltar = 166; from 2021-01-10 to 2021-06-24.\nGRC: Greece = 493; from 2020-01-06 to 2021-06-25.\nGRL: Greenland = 149; from 2021-01-27 to 2021-06-24.\nGRD: Grenada = 461; from 2020-03-22 to 2021-06-25.\nGTM: Guatemala = 495; from 2020-02-17 to 2021-06-25.\nGGY: Guernsey = 152; from 2021-01-24 to 2021-06-24.\nGIN: Guinea = 470; from 2020-03-13 to 2021-06-25.\nGNB: Guinea-Bissau = 458; from 2020-03-25 to 2021-06-25.\nGUY: Guyana = 471; from 2020-03-12 to 2021-06-25.\nHTI: Haiti = 463; from 2020-03-20 to 2021-06-25.\nHND: Honduras = 472; from 2020-03-11 to 2021-06-25.\nHKG: Hong Kong = 520; from 2020-01-23 to 2021-06-25.\nHUN: Hungary = 480; from 2020-03-03 to 2021-06-25.\nISL: Iceland = 485; from 2020-02-27 to 2021-06-25.\nIND: India = 513; from 2020-01-30 to 2021-06-25.\nIDN: Indonesia = 481; from 2020-03-02 to 2021-06-25.\nIRN: Iran = 493; from 2020-02-19 to 2021-06-25.\nIRQ: Iraq = 488; from 2020-02-24 to 2021-06-25.\nIRL: Ireland = 483; from 2020-02-29 to 2021-06-25.\nIMN: Isle of Man = 155; from 2021-01-21 to 2021-06-24.\nISR: Israel = 492; from 2020-02-20 to 2021-06-25.\nITA: Italy = 512; from 2020-01-31 to 2021-06-25.\nJAM: Jamaica = 472; from 2020-03-11 to 2021-06-25.\nJPN: Japan = 521; from 2020-01-22 to 2021-06-25.\nJEY: Jersey = 99; from 2021-03-14 to 2021-06-20.\nJOR: Jordan = 480; from 2020-03-03 to 2021-06-25.\nKAZ: Kazakhstan = 470; from 2020-03-13 to 2021-06-25.\nKEN: Kenya = 477; from 2020-03-06 to 2021-06-25.\nKIR: Kiribati = 39; from 2021-05-18 to 2021-06-25.\nKWT: Kuwait = 488; from 2020-02-24 to 2021-06-25.\nKGZ: Kyrgyzstan = 465; from 2020-03-18 to 2021-06-25.\nLAO: Laos = 459; from 2020-03-24 to 2021-06-25.\nLVA: Latvia = 490; from 2020-01-06 to 2021-06-25.\nLBN: Lebanon = 491; from 2020-02-21 to 2021-06-25.\nLSO: Lesotho = 409; from 2020-05-13 to 2021-06-25.\nLBR: Liberia = 467; from 2020-03-16 to 2021-06-25.\nLBY: Libya = 479; from 2020-03-04 to 2021-06-25.\nLIE: Liechtenstein = 479; from 2020-03-04 to 2021-06-25.\nLTU: Lithuania = 483; from 2020-02-29 to 2021-06-25.\nLUX: Luxembourg = 488; from 2020-02-24 to 2021-06-25.\nMAC: Macao = 137; from 2021-02-08 to 2021-06-24.\nMDG: Madagascar = 463; from 2020-03-20 to 2021-06-25.\nMWI: Malawi = 454; from 2020-03-29 to 2021-06-25.\nMYS: Malaysia = 518; from 2020-01-25 to 2021-06-25.\nMDV: Maldives = 475; from 2020-03-08 to 2021-06-25.\nMLI: Mali = 458; from 2020-03-25 to 2021-06-25.\nMLT: Malta = 506; from 2020-02-06 to 2021-06-25.\nMHL: Marshall Islands = 241; from 2020-10-28 to 2021-06-25.\nMRT: Mauritania = 469; from 2020-03-14 to 2021-06-25.\nMUS: Mauritius = 465; from 2020-03-18 to 2021-06-25.\nMEX: Mexico = 542; from 2020-01-01 to 2021-06-25.\nFSM: Micronesia (country) = 156; from 2021-01-21 to 2021-06-25.\nMDA: Moldova = 475; from 2020-03-08 to 2021-06-25.\nMCO: Monaco = 483; from 2020-02-29 to 2021-06-25.\nMNG: Mongolia = 473; from 2020-03-10 to 2021-06-25.\nMNE: Montenegro = 466; from 2020-03-17 to 2021-06-25.\nMSR: Montserrat = 131; from 2021-02-08 to 2021-06-18.\nMAR: Morocco = 505; from 2020-02-07 to 2021-06-25.\nMOZ: Mozambique = 461; from 2020-03-22 to 2021-06-25.\nMMR: Myanmar = 456; from 2020-03-27 to 2021-06-25.\nNAM: Namibia = 469; from 2020-03-14 to 2021-06-25.\nNRU: Nauru = 75; from 2021-04-08 to 2021-06-21.\nNPL: Nepal = 518; from 2020-01-25 to 2021-06-25.\nNLD: Netherlands = 485; from 2020-02-27 to 2021-06-25.\nNCL: New Caledonia = 140; from 2021-02-02 to 2021-06-21.\nNZL: New Zealand = 484; from 2020-02-28 to 2021-06-25.\nNIC: Nicaragua = 464; from 2020-03-19 to 2021-06-25.\nNER: Niger = 463; from 2020-03-20 to 2021-06-25.\nNGA: Nigeria = 484; from 2020-02-28 to 2021-06-25.\nMKD: North Macedonia = 486; from 2020-02-26 to 2021-06-25.\nNOR: Norway = 487; from 2020-02-23 to 2021-06-25.\nOMN: Oman = 488; from 2020-02-24 to 2021-06-25.\nPAK: Pakistan = 487; from 2020-02-25 to 2021-06-25.\nPSE: Palestine = 478; from 2020-03-05 to 2021-06-25.\nPAN: Panama = 474; from 2020-03-09 to 2021-06-25.\nPNG: Papua New Guinea = 463; from 2020-03-20 to 2021-06-25.\nPRY: Paraguay = 476; from 2020-03-07 to 2021-06-25.\nPER: Peru = 537; from 2020-01-06 to 2021-06-25.\nPHL: Philippines = 513; from 2020-01-30 to 2021-06-25.\nPCN: Pitcairn = 7; from 2021-06-15 to 2021-06-21.\nPOL: Poland = 479; from 2020-03-04 to 2021-06-25.\nPRT: Portugal = 489; from 2020-01-06 to 2021-06-25.\nQAT: Qatar = 483; from 2020-02-29 to 2021-06-25.\nROU: Romania = 486; from 2020-02-26 to 2021-06-25.\nRUS: Russia = 512; from 2020-01-31 to 2021-06-25.\nRWA: Rwanda = 469; from 2020-03-14 to 2021-06-25.\nSHN: Saint Helena = 92; from 2021-02-03 to 2021-05-05.\nKNA: Saint Kitts and Nevis = 458; from 2020-03-25 to 2021-06-25.\nLCA: Saint Lucia = 469; from 2020-03-14 to 2021-06-25.\nVCT: Saint Vincent and the Grenadines = 469; from 2020-03-14 to 2021-06-25.\nWSM: Samoa = 220; from 2020-11-18 to 2021-06-25.\nSMR: San Marino = 485; from 2020-02-27 to 2021-06-25.\nSTP: Sao Tome and Principe = 446; from 2020-04-06 to 2021-06-25.\nSAU: Saudi Arabia = 481; from 2020-03-02 to 2021-06-25.\nSEN: Senegal = 484; from 2020-02-28 to 2021-06-25.\nSRB: Serbia = 486; from 2020-02-26 to 2021-06-25.\nSYC: Seychelles = 469; from 2020-03-14 to 2021-06-25.\nSLE: Sierra Leone = 452; from 2020-03-31 to 2021-06-25.\nSGP: Singapore = 520; from 2020-01-23 to 2021-06-25.\nSXM: Sint Maarten (Dutch part) = 43; from 2021-05-07 to 2021-06-18.\nSVK: Slovakia = 477; from 2020-03-06 to 2021-06-25.\nSVN: Slovenia = 510; from 2020-02-02 to 2021-06-25.\nSLB: Solomon Islands = 257; from 2020-10-12 to 2021-06-25.\nSOM: Somalia = 467; from 2020-03-16 to 2021-06-25.\nZAF: South Africa = 505; from 2020-02-07 to 2021-06-25.\nKOR: South Korea = 522; from 2020-01-21 to 2021-06-25.\nSSD: South Sudan = 447; from 2020-04-05 to 2021-06-25.\nESP: Spain = 511; from 2020-02-01 to 2021-06-25.\nLKA: Sri Lanka = 516; from 2020-01-27 to 2021-06-25.\nSDN: Sudan = 471; from 2020-03-12 to 2021-06-25.\nSUR: Suriname = 469; from 2020-03-14 to 2021-06-25.\nSWE: Sweden = 511; from 2020-02-01 to 2021-06-25.\nCHE: Switzerland = 487; from 2020-02-25 to 2021-06-25.\nSYR: Syria = 461; from 2020-03-22 to 2021-06-25.\nTWN: Taiwan = 527; from 2020-01-16 to 2021-06-25.\nTJK: Tajikistan = 422; from 2020-04-30 to 2021-06-25.\nTZA: Tanzania = 467; from 2020-03-16 to 2021-06-25.\nTHA: Thailand = 539; from 2020-01-04 to 2021-06-25.\nTLS: Timor = 461; from 2020-03-22 to 2021-06-25.\nTGO: Togo = 479; from 2020-03-04 to 2021-06-25.\nTON: Tonga = 44; from 2021-04-20 to 2021-06-21.\nTTO: Trinidad and Tobago = 469; from 2020-03-14 to 2021-06-25.\nTUN: Tunisia = 479; from 2020-03-04 to 2021-06-25.\nTUR: Turkey = 472; from 2020-03-11 to 2021-06-25.\nTKM: Turkmenistan = 1; from 2021-04-04 to 2021-04-04.\nTCA: Turks and Caicos Islands = 160; from 2021-01-10 to 2021-06-18.\nTUV: Tuvalu = 50; from 2021-04-27 to 2021-06-15.\nUGA: Uganda = 462; from 2020-03-21 to 2021-06-25.\nUKR: Ukraine = 480; from 2020-03-03 to 2021-06-25.\nARE: United Arab Emirates = 514; from 2020-01-29 to 2021-06-25.\nGBR: United Kingdom = 512; from 2020-01-31 to 2021-06-25.\nUSA: United States = 521; from 2020-01-22 to 2021-06-25.\nURY: Uruguay = 470; from 2020-03-13 to 2021-06-25.\nUZB: Uzbekistan = 468; from 2020-03-15 to 2021-06-25.\nVUT: Vanuatu = 228; from 2020-11-10 to 2021-06-25.\nVAT: Vatican = 477; from 2020-03-06 to 2021-06-25.\nVEN: Venezuela = 469; from 2020-03-14 to 2021-06-25.\nVNM: Vietnam = 520; from 2020-01-23 to 2021-06-25.\nWLF: Wallis and Futuna = 91; from 2021-03-23 to 2021-06-21.\nYEM: Yemen = 442; from 2020-04-10 to 2021-06-25.\nZMB: Zambia = 465; from 2020-03-18 to 2021-06-25.\nZWE: Zimbabwe = 463; from 2020-03-20 to 2021-06-25.\nCYN: Northern Cyprus = 134; from 2021-01-14 to 2021-05-27.\nKOS: Kosovo = 469; from 2020-03-14 to 2021-06-25.\nWRL: World = 521; from 2020-01-22 to 2021-06-25.\n"
     ]
    }
   ],
   "source": [
    "print(get_country_records(data))"
   ]
  }
 ]
}