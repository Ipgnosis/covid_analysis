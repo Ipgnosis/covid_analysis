{
 "metadata": {
  "language_info": {
   "codemirror_mode": {
    "name": "ipython",
    "version": 3
   },
   "file_extension": ".py",
   "mimetype": "text/x-python",
   "name": "python",
   "nbconvert_exporter": "python",
   "pygments_lexer": "ipython3",
   "version": "3.8.8"
  },
  "orig_nbformat": 2,
  "kernelspec": {
   "name": "python388jvsc74a57bd03d272f5f920203b3371390e95080956d0ef2d2ee59e4c15a61e97266d1098e8c",
   "display_name": "Python 3.8.8 64-bit ('jovian': conda)"
  },
  "metadata": {
   "interpreter": {
    "hash": "3d272f5f920203b3371390e95080956d0ef2d2ee59e4c15a61e97266d1098e8c"
   }
  }
 },
 "nbformat": 4,
 "nbformat_minor": 2,
 "cells": [
  {
   "cell_type": "code",
   "execution_count": 1,
   "metadata": {},
   "outputs": [
    {
     "output_type": "stream",
     "name": "stdout",
     "text": [
      "Imports complete\n"
     ]
    }
   ],
   "source": [
    "# imports\n",
    "\n",
    "import pandas as pd\n",
    "\n",
    "from datetime import datetime, timedelta\n",
    "\n",
    "import matplotlib.pyplot as plt\n",
    "import matplotlib.dates as mdates\n",
    "\n",
    "# set up file paths and other data globals\n",
    "\n",
    "import config\n",
    "import modify\n",
    "\n",
    "# local imports\n",
    "\n",
    "from covid_package.data_funcs.store_data import read_json_data, convert_owid_data\n",
    "\n",
    "from covid_package.libs.valid_keys import fetch_l0_keys\n",
    "from covid_package.libs.aggregate_data import fetch_latest_data_date\n",
    "\n",
    "from covid_package.api.get_country_records import get_country_records\n",
    "\n",
    "from covid_package.api.get_country_data import get_l0_data, get_l1_data, get_l2_iso_data, get_l2_date_data\n",
    "from covid_package.api.get_case_death_data import get_case_death_stdev\n",
    "\n",
    "print(\"Imports complete\")"
   ]
  },
  {
   "cell_type": "code",
   "execution_count": 2,
   "metadata": {},
   "outputs": [
    {
     "output_type": "stream",
     "name": "stdout",
     "text": [
      "Latest data is: 2021-06-05\n"
     ]
    }
   ],
   "source": [
    "# load data\n",
    "data = read_json_data(config.DATA_FILE_STR)\n",
    "\n",
    "# convert the OWID_ keys\n",
    "data = convert_owid_data(data)\n",
    "\n",
    "# populate the country keys\n",
    "key_list = fetch_l0_keys(data)\n",
    "\n",
    "# get the date of the newest (valid) data records\n",
    "if config.LATEST_DATA_DATE == \"2018-01-01\": # initialization date not reset\n",
    "    #print(\"LATEST_DATA_DATE not yet set:\", config.LATEST_DATA_DATE)\n",
    "    config.LATEST_DATA_DATE = fetch_latest_data_date(data)\n",
    "\n",
    "print(\"Latest data is:\", config.LATEST_DATA_DATE)"
   ]
  },
  {
   "cell_type": "code",
   "execution_count": 3,
   "metadata": {},
   "outputs": [
    {
     "output_type": "stream",
     "name": "stdout",
     "text": [
      "\nAFG: Afghanistan = 468; from 2020-02-24 to 2021-06-05.\nALB: Albania = 467; from 2020-02-25 to 2021-06-05.\nDZA: Algeria = 467; from 2020-02-25 to 2021-06-05.\nAND: Andorra = 461; from 2020-03-02 to 2021-06-05.\nAGO: Angola = 443; from 2020-03-20 to 2021-06-05.\nAIA: Anguilla = 114; from 2021-02-04 to 2021-05-28.\nATG: Antigua and Barbuda = 450; from 2020-03-13 to 2021-06-05.\nARG: Argentina = 522; from 2020-01-01 to 2021-06-05.\nARM: Armenia = 462; from 2020-03-01 to 2021-06-05.\nABW: Aruba = 68; from 2021-03-29 to 2021-06-04.\nAUS: Australia = 497; from 2020-01-26 to 2021-06-05.\nAUT: Austria = 467; from 2020-02-25 to 2021-06-05.\nAZE: Azerbaijan = 462; from 2020-03-01 to 2021-06-05.\nBHS: Bahamas = 447; from 2020-03-16 to 2021-06-05.\nBHR: Bahrain = 468; from 2020-02-24 to 2021-06-05.\nBGD: Bangladesh = 460; from 2020-03-03 to 2021-06-05.\nBRB: Barbados = 446; from 2020-03-17 to 2021-06-05.\nBLR: Belarus = 464; from 2020-02-28 to 2021-06-05.\nBEL: Belgium = 488; from 2020-02-04 to 2021-06-05.\nBLZ: Belize = 440; from 2020-03-23 to 2021-06-05.\nBEN: Benin = 447; from 2020-03-16 to 2021-06-05.\nBMU: Bermuda = 142; from 2021-01-10 to 2021-05-31.\nBTN: Bhutan = 457; from 2020-03-06 to 2021-06-05.\nBOL: Bolivia = 452; from 2020-03-11 to 2021-06-05.\nBES: Bonaire Sint Eustatius and Saba = 1; from 2021-04-09 to 2021-04-09.\nBIH: Bosnia and Herzegovina = 458; from 2020-03-05 to 2021-06-05.\nBWA: Botswana = 433; from 2020-03-30 to 2021-06-05.\nBRA: Brazil = 466; from 2020-02-26 to 2021-06-05.\nVGB: British Virgin Islands = 8; from 2021-05-21 to 2021-05-28.\nBRN: Brunei = 454; from 2020-03-09 to 2021-06-05.\nBGR: Bulgaria = 455; from 2020-03-08 to 2021-06-05.\nBFA: Burkina Faso = 453; from 2020-03-10 to 2021-06-05.\nBDI: Burundi = 432; from 2020-03-31 to 2021-06-05.\nKHM: Cambodia = 496; from 2020-01-27 to 2021-06-05.\nCMR: Cameroon = 457; from 2020-03-06 to 2021-06-05.\nCAN: Canada = 497; from 2020-01-26 to 2021-06-05.\nCPV: Cape Verde = 443; from 2020-03-20 to 2021-06-05.\nCYM: Cayman Islands = 162; from 2020-12-26 to 2021-06-05.\nCAF: Central African Republic = 448; from 2020-03-15 to 2021-06-05.\nTCD: Chad = 444; from 2020-03-19 to 2021-06-05.\nCHL: Chile = 469; from 2020-02-23 to 2021-06-05.\nCHN: China = 501; from 2020-01-22 to 2021-06-05.\nCOL: Colombia = 457; from 2020-03-06 to 2021-06-05.\nCOM: Comoros = 402; from 2020-04-30 to 2021-06-05.\nCOG: Congo = 448; from 2020-03-15 to 2021-06-05.\nCOK: Cook Islands = 8; from 2021-05-25 to 2021-06-01.\nCRI: Costa Rica = 457; from 2020-03-06 to 2021-06-05.\nCIV: Cote d'Ivoire = 452; from 2020-03-11 to 2021-06-05.\nHRV: Croatia = 467; from 2020-02-25 to 2021-06-05.\nCUB: Cuba = 451; from 2020-03-12 to 2021-06-05.\nCUW: Curacao = 69; from 2021-03-29 to 2021-06-05.\nCYP: Cyprus = 456; from 2020-02-02 to 2021-06-05.\nCZE: Czechia = 462; from 2020-03-01 to 2021-06-05.\nCOD: Democratic Republic of Congo = 452; from 2020-03-11 to 2021-06-05.\nDNK: Denmark = 490; from 2020-02-02 to 2021-06-05.\nDJI: Djibouti = 445; from 2020-03-18 to 2021-06-05.\nDMA: Dominica = 441; from 2020-03-22 to 2021-06-05.\nDOM: Dominican Republic = 462; from 2020-03-01 to 2021-06-05.\nECU: Ecuador = 462; from 2020-03-01 to 2021-06-05.\nEGY: Egypt = 478; from 2020-02-14 to 2021-06-05.\nSLV: El Salvador = 444; from 2020-03-19 to 2021-06-05.\nGNQ: Equatorial Guinea = 448; from 2020-03-15 to 2021-06-05.\nERI: Eritrea = 442; from 2020-03-21 to 2021-06-05.\nEST: Estonia = 489; from 2020-01-06 to 2021-06-05.\nSWZ: Eswatini = 449; from 2020-03-14 to 2021-06-05.\nETH: Ethiopia = 450; from 2020-03-13 to 2021-06-05.\nFRO: Faeroe Islands = 127; from 2021-01-29 to 2021-06-04.\nFLK: Falkland Islands = 67; from 2021-02-07 to 2021-04-14.\nFJI: Fiji = 493; from 2020-01-30 to 2021-06-05.\nFIN: Finland = 494; from 2020-01-29 to 2021-06-05.\nFRA: France = 499; from 2020-01-24 to 2021-06-05.\nPYF: French Polynesia = 120; from 2021-02-02 to 2021-06-01.\nGAB: Gabon = 449; from 2020-03-14 to 2021-06-05.\nGMB: Gambia = 446; from 2020-03-17 to 2021-06-05.\nGEO: Georgia = 466; from 2020-02-26 to 2021-06-05.\nDEU: Germany = 499; from 2020-01-06 to 2021-06-05.\nGHA: Ghana = 449; from 2020-03-14 to 2021-06-05.\nGIB: Gibraltar = 144; from 2021-01-10 to 2021-06-02.\nGRC: Greece = 466; from 2020-02-26 to 2021-06-05.\nGRL: Greenland = 129; from 2021-01-27 to 2021-06-04.\nGRD: Grenada = 441; from 2020-03-22 to 2021-06-05.\nGTM: Guatemala = 475; from 2020-02-17 to 2021-06-05.\nGGY: Guernsey = 132; from 2021-01-24 to 2021-06-04.\nGIN: Guinea = 450; from 2020-03-13 to 2021-06-05.\nGNB: Guinea-Bissau = 438; from 2020-03-25 to 2021-06-05.\nGUY: Guyana = 451; from 2020-03-12 to 2021-06-05.\nHTI: Haiti = 443; from 2020-03-20 to 2021-06-05.\nHND: Honduras = 452; from 2020-03-11 to 2021-06-05.\nHKG: Hong Kong = 500; from 2020-01-23 to 2021-06-05.\nHUN: Hungary = 460; from 2020-03-03 to 2021-06-05.\nISL: Iceland = 465; from 2020-02-27 to 2021-06-05.\nIND: India = 493; from 2020-01-30 to 2021-06-05.\nIDN: Indonesia = 461; from 2020-03-02 to 2021-06-05.\nIRN: Iran = 473; from 2020-02-19 to 2021-06-05.\nIRQ: Iraq = 468; from 2020-02-24 to 2021-06-05.\nIRL: Ireland = 470; from 2020-01-06 to 2021-06-05.\nIMN: Isle of Man = 134; from 2021-01-21 to 2021-06-03.\nISR: Israel = 473; from 2020-02-20 to 2021-06-06.\nITA: Italy = 492; from 2020-01-31 to 2021-06-05.\nJAM: Jamaica = 452; from 2020-03-11 to 2021-06-05.\nJPN: Japan = 501; from 2020-01-22 to 2021-06-05.\nJEY: Jersey = 78; from 2021-03-14 to 2021-05-30.\nJOR: Jordan = 460; from 2020-03-03 to 2021-06-05.\nKAZ: Kazakhstan = 450; from 2020-03-13 to 2021-06-05.\nKEN: Kenya = 457; from 2020-03-06 to 2021-06-05.\nKIR: Kiribati = 19; from 2021-05-18 to 2021-06-05.\nKWT: Kuwait = 468; from 2020-02-24 to 2021-06-05.\nKGZ: Kyrgyzstan = 445; from 2020-03-18 to 2021-06-05.\nLAO: Laos = 439; from 2020-03-24 to 2021-06-05.\nLVA: Latvia = 470; from 2020-01-06 to 2021-06-05.\nLBN: Lebanon = 471; from 2020-02-21 to 2021-06-05.\nLSO: Lesotho = 389; from 2020-05-13 to 2021-06-05.\nLBR: Liberia = 447; from 2020-03-16 to 2021-06-05.\nLBY: Libya = 459; from 2020-03-04 to 2021-06-05.\nLIE: Liechtenstein = 459; from 2020-03-04 to 2021-06-05.\nLTU: Lithuania = 463; from 2020-02-29 to 2021-06-05.\nLUX: Luxembourg = 468; from 2020-02-24 to 2021-06-05.\nMAC: Macao = 118; from 2021-02-08 to 2021-06-05.\nMDG: Madagascar = 443; from 2020-03-20 to 2021-06-05.\nMWI: Malawi = 434; from 2020-03-29 to 2021-06-05.\nMYS: Malaysia = 498; from 2020-01-25 to 2021-06-05.\nMDV: Maldives = 455; from 2020-03-08 to 2021-06-05.\nMLI: Mali = 438; from 2020-03-25 to 2021-06-05.\nMLT: Malta = 486; from 2020-02-06 to 2021-06-05.\nMHL: Marshall Islands = 221; from 2020-10-28 to 2021-06-05.\nMRT: Mauritania = 449; from 2020-03-14 to 2021-06-05.\nMUS: Mauritius = 445; from 2020-03-18 to 2021-06-05.\nMEX: Mexico = 522; from 2020-01-01 to 2021-06-05.\nFSM: Micronesia (country) = 136; from 2021-01-21 to 2021-06-05.\nMDA: Moldova = 455; from 2020-03-08 to 2021-06-05.\nMCO: Monaco = 463; from 2020-02-29 to 2021-06-05.\nMNG: Mongolia = 453; from 2020-03-10 to 2021-06-05.\nMNE: Montenegro = 446; from 2020-03-17 to 2021-06-05.\nMSR: Montserrat = 110; from 2021-02-08 to 2021-05-28.\nMAR: Morocco = 485; from 2020-02-07 to 2021-06-05.\nMOZ: Mozambique = 441; from 2020-03-22 to 2021-06-05.\nMMR: Myanmar = 436; from 2020-03-27 to 2021-06-05.\nNAM: Namibia = 449; from 2020-03-14 to 2021-06-05.\nNRU: Nauru = 41; from 2021-04-08 to 2021-05-18.\nNPL: Nepal = 498; from 2020-01-25 to 2021-06-05.\nNLD: Netherlands = 465; from 2020-02-27 to 2021-06-05.\nNCL: New Caledonia = 120; from 2021-02-02 to 2021-06-01.\nNZL: New Zealand = 464; from 2020-02-28 to 2021-06-05.\nNIC: Nicaragua = 444; from 2020-03-19 to 2021-06-05.\nNER: Niger = 443; from 2020-03-20 to 2021-06-05.\nNGA: Nigeria = 464; from 2020-02-28 to 2021-06-05.\nMKD: North Macedonia = 466; from 2020-02-26 to 2021-06-05.\nNOR: Norway = 467; from 2020-02-23 to 2021-06-05.\nOMN: Oman = 468; from 2020-02-24 to 2021-06-05.\nPAK: Pakistan = 467; from 2020-02-25 to 2021-06-05.\nPSE: Palestine = 458; from 2020-03-05 to 2021-06-05.\nPAN: Panama = 454; from 2020-03-09 to 2021-06-05.\nPNG: Papua New Guinea = 443; from 2020-03-20 to 2021-06-05.\nPRY: Paraguay = 456; from 2020-03-07 to 2021-06-05.\nPER: Peru = 517; from 2020-01-06 to 2021-06-05.\nPHL: Philippines = 493; from 2020-01-30 to 2021-06-05.\nPOL: Poland = 459; from 2020-03-04 to 2021-06-05.\nPRT: Portugal = 469; from 2020-01-06 to 2021-06-05.\nQAT: Qatar = 463; from 2020-02-29 to 2021-06-05.\nROU: Romania = 466; from 2020-02-26 to 2021-06-05.\nRUS: Russia = 492; from 2020-01-31 to 2021-06-05.\nRWA: Rwanda = 449; from 2020-03-14 to 2021-06-05.\nSHN: Saint Helena = 92; from 2021-02-03 to 2021-05-05.\nKNA: Saint Kitts and Nevis = 438; from 2020-03-25 to 2021-06-05.\nLCA: Saint Lucia = 449; from 2020-03-14 to 2021-06-05.\nVCT: Saint Vincent and the Grenadines = 449; from 2020-03-14 to 2021-06-05.\nWSM: Samoa = 200; from 2020-11-18 to 2021-06-05.\nSMR: San Marino = 465; from 2020-02-27 to 2021-06-05.\nSTP: Sao Tome and Principe = 426; from 2020-04-06 to 2021-06-05.\nSAU: Saudi Arabia = 461; from 2020-03-02 to 2021-06-05.\nSEN: Senegal = 464; from 2020-02-28 to 2021-06-05.\nSRB: Serbia = 466; from 2020-02-26 to 2021-06-05.\nSYC: Seychelles = 449; from 2020-03-14 to 2021-06-05.\nSLE: Sierra Leone = 432; from 2020-03-31 to 2021-06-05.\nSGP: Singapore = 500; from 2020-01-23 to 2021-06-05.\nSXM: Sint Maarten (Dutch part) = 22; from 2021-05-07 to 2021-05-28.\nSVK: Slovakia = 457; from 2020-03-06 to 2021-06-05.\nSVN: Slovenia = 490; from 2020-02-02 to 2021-06-05.\nSLB: Solomon Islands = 237; from 2020-10-12 to 2021-06-05.\nSOM: Somalia = 447; from 2020-03-16 to 2021-06-05.\nZAF: South Africa = 485; from 2020-02-07 to 2021-06-05.\nKOR: South Korea = 502; from 2020-01-21 to 2021-06-05.\nSSD: South Sudan = 427; from 2020-04-05 to 2021-06-05.\nESP: Spain = 491; from 2020-02-01 to 2021-06-05.\nLKA: Sri Lanka = 496; from 2020-01-27 to 2021-06-05.\nSDN: Sudan = 451; from 2020-03-12 to 2021-06-05.\nSUR: Suriname = 449; from 2020-03-14 to 2021-06-05.\nSWE: Sweden = 491; from 2020-02-01 to 2021-06-05.\nCHE: Switzerland = 467; from 2020-02-25 to 2021-06-05.\nSYR: Syria = 441; from 2020-03-22 to 2021-06-05.\nTWN: Taiwan = 507; from 2020-01-16 to 2021-06-05.\nTJK: Tajikistan = 402; from 2020-04-30 to 2021-06-05.\nTZA: Tanzania = 447; from 2020-03-16 to 2021-06-05.\nTHA: Thailand = 519; from 2020-01-04 to 2021-06-05.\nTLS: Timor = 441; from 2020-03-22 to 2021-06-05.\nTGO: Togo = 459; from 2020-03-04 to 2021-06-05.\nTON: Tonga = 43; from 2021-04-20 to 2021-06-01.\nTTO: Trinidad and Tobago = 449; from 2020-03-14 to 2021-06-05.\nTUN: Tunisia = 459; from 2020-03-04 to 2021-06-05.\nTUR: Turkey = 452; from 2020-03-11 to 2021-06-05.\nTKM: Turkmenistan = 1; from 2021-04-04 to 2021-04-04.\nTCA: Turks and Caicos Islands = 139; from 2021-01-10 to 2021-05-28.\nTUV: Tuvalu = 36; from 2021-04-27 to 2021-06-01.\nUGA: Uganda = 442; from 2020-03-21 to 2021-06-05.\nUKR: Ukraine = 460; from 2020-03-03 to 2021-06-05.\nARE: United Arab Emirates = 494; from 2020-01-29 to 2021-06-05.\nGBR: United Kingdom = 493; from 2020-01-31 to 2021-06-06.\nUSA: United States = 502; from 2020-01-22 to 2021-06-06.\nURY: Uruguay = 450; from 2020-03-13 to 2021-06-05.\nUZB: Uzbekistan = 448; from 2020-03-15 to 2021-06-05.\nVUT: Vanuatu = 208; from 2020-11-10 to 2021-06-05.\nVAT: Vatican = 457; from 2020-03-06 to 2021-06-05.\nVEN: Venezuela = 449; from 2020-03-14 to 2021-06-05.\nVNM: Vietnam = 500; from 2020-01-23 to 2021-06-05.\nWLF: Wallis and Futuna = 71; from 2021-03-23 to 2021-06-01.\nYEM: Yemen = 422; from 2020-04-10 to 2021-06-05.\nZMB: Zambia = 445; from 2020-03-18 to 2021-06-05.\nZWE: Zimbabwe = 443; from 2020-03-20 to 2021-06-05.\nCYN: Northern Cyprus = 134; from 2021-01-14 to 2021-05-27.\nKOS: Kosovo = 449; from 2020-03-14 to 2021-06-05.\nWRL: World = 501; from 2020-01-22 to 2021-06-05.\n"
     ]
    }
   ],
   "source": [
    "print(get_country_records(data))"
   ]
  },
  {
   "cell_type": "code",
   "execution_count": null,
   "metadata": {},
   "outputs": [],
   "source": []
  }
 ]
}