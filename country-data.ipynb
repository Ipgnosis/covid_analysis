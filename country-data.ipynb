{
 "metadata": {
  "language_info": {
   "codemirror_mode": {
    "name": "ipython",
    "version": 3
   },
   "file_extension": ".py",
   "mimetype": "text/x-python",
   "name": "python",
   "nbconvert_exporter": "python",
   "pygments_lexer": "ipython3",
   "version": "3.8.8"
  },
  "orig_nbformat": 2,
  "kernelspec": {
   "name": "python3",
   "display_name": "Python 3.8.8 64-bit ('jovian': conda)"
  },
  "metadata": {
   "interpreter": {
    "hash": "3d272f5f920203b3371390e95080956d0ef2d2ee59e4c15a61e97266d1098e8c"
   }
  },
  "interpreter": {
   "hash": "3d272f5f920203b3371390e95080956d0ef2d2ee59e4c15a61e97266d1098e8c"
  }
 },
 "nbformat": 4,
 "nbformat_minor": 2,
 "cells": [
  {
   "cell_type": "code",
   "execution_count": 1,
   "metadata": {},
   "outputs": [
    {
     "output_type": "stream",
     "name": "stdout",
     "text": [
      "Imports complete\n"
     ]
    }
   ],
   "source": [
    "# imports\n",
    "\n",
    "#import pandas as pd\n",
    "\n",
    "# set up file paths and other data globals\n",
    "\n",
    "import config\n",
    "import modify\n",
    "\n",
    "# local imports\n",
    "\n",
    "from covid_package.data_funcs.store_data import read_json_data, convert_owid_data\n",
    "\n",
    "#from covid_package.libs.valid_keys import fetch_l0_keys\n",
    "from covid_package.libs.aggregate_data import fetch_latest_data_date\n",
    "\n",
    "from covid_package.api.get_country_records import get_country_records\n",
    "\n",
    "print(\"Imports complete\")"
   ]
  },
  {
   "cell_type": "code",
   "execution_count": 2,
   "metadata": {},
   "outputs": [
    {
     "output_type": "stream",
     "name": "stdout",
     "text": [
      "Latest data is: 2021-06-27\n"
     ]
    }
   ],
   "source": [
    "# load data\n",
    "data = read_json_data(config.DATA_FILE_STR)\n",
    "\n",
    "# convert the OWID_ keys\n",
    "data = convert_owid_data(data)\n",
    "\n",
    "# populate the country keys\n",
    "#key_list = fetch_l0_keys(data)\n",
    "\n",
    "# get the date of the newest (valid) data records\n",
    "if config.LATEST_DATA_DATE == \"2018-01-01\": # initialization date not reset\n",
    "    #print(\"LATEST_DATA_DATE not yet set:\", config.LATEST_DATA_DATE)\n",
    "    config.LATEST_DATA_DATE = fetch_latest_data_date(data)\n",
    "\n",
    "print(\"Latest data is:\", config.LATEST_DATA_DATE)"
   ]
  },
  {
   "cell_type": "code",
   "execution_count": 3,
   "metadata": {},
   "outputs": [
    {
     "output_type": "stream",
     "name": "stdout",
     "text": [
      "\nAFG: Afghanistan = 490; from 2020-02-24 to 2021-06-27.\nALB: Albania = 489; from 2020-02-25 to 2021-06-27.\nDZA: Algeria = 489; from 2020-02-25 to 2021-06-27.\nAND: Andorra = 483; from 2020-03-02 to 2021-06-27.\nAGO: Angola = 465; from 2020-03-20 to 2021-06-27.\nAIA: Anguilla = 135; from 2021-02-04 to 2021-06-18.\nATG: Antigua and Barbuda = 472; from 2020-03-13 to 2021-06-27.\nARG: Argentina = 544; from 2020-01-01 to 2021-06-27.\nARM: Armenia = 484; from 2020-03-01 to 2021-06-27.\nABW: Aruba = 91; from 2021-03-29 to 2021-06-27.\nAUS: Australia = 519; from 2020-01-26 to 2021-06-27.\nAUT: Austria = 489; from 2020-02-25 to 2021-06-27.\nAZE: Azerbaijan = 484; from 2020-03-01 to 2021-06-27.\nBHS: Bahamas = 469; from 2020-03-16 to 2021-06-27.\nBHR: Bahrain = 490; from 2020-02-24 to 2021-06-27.\nBGD: Bangladesh = 482; from 2020-03-03 to 2021-06-27.\nBRB: Barbados = 468; from 2020-03-17 to 2021-06-27.\nBLR: Belarus = 486; from 2020-02-28 to 2021-06-27.\nBEL: Belgium = 510; from 2020-02-04 to 2021-06-27.\nBLZ: Belize = 462; from 2020-03-23 to 2021-06-27.\nBEN: Benin = 469; from 2020-03-16 to 2021-06-27.\nBMU: Bermuda = 167; from 2021-01-10 to 2021-06-25.\nBTN: Bhutan = 479; from 2020-03-06 to 2021-06-27.\nBOL: Bolivia = 474; from 2020-03-11 to 2021-06-27.\nBES: Bonaire Sint Eustatius and Saba = 1; from 2021-04-09 to 2021-04-09.\nBIH: Bosnia and Herzegovina = 480; from 2020-03-05 to 2021-06-27.\nBWA: Botswana = 455; from 2020-03-30 to 2021-06-27.\nBRA: Brazil = 488; from 2020-02-26 to 2021-06-27.\nVGB: British Virgin Islands = 29; from 2021-05-21 to 2021-06-18.\nBRN: Brunei = 476; from 2020-03-09 to 2021-06-27.\nBGR: Bulgaria = 477; from 2020-03-08 to 2021-06-27.\nBFA: Burkina Faso = 475; from 2020-03-10 to 2021-06-27.\nBDI: Burundi = 454; from 2020-03-31 to 2021-06-27.\nKHM: Cambodia = 518; from 2020-01-27 to 2021-06-27.\nCMR: Cameroon = 479; from 2020-03-06 to 2021-06-27.\nCAN: Canada = 519; from 2020-01-26 to 2021-06-27.\nCPV: Cape Verde = 465; from 2020-03-20 to 2021-06-27.\nCYM: Cayman Islands = 182; from 2020-12-26 to 2021-06-25.\nCAF: Central African Republic = 470; from 2020-03-15 to 2021-06-27.\nTCD: Chad = 466; from 2020-03-19 to 2021-06-27.\nCHL: Chile = 491; from 2020-02-23 to 2021-06-27.\nCHN: China = 523; from 2020-01-22 to 2021-06-27.\nCOL: Colombia = 479; from 2020-03-06 to 2021-06-27.\nCOM: Comoros = 424; from 2020-04-30 to 2021-06-27.\nCOG: Congo = 470; from 2020-03-15 to 2021-06-27.\nCOK: Cook Islands = 28; from 2021-05-25 to 2021-06-21.\nCRI: Costa Rica = 479; from 2020-03-06 to 2021-06-27.\nCIV: Cote d'Ivoire = 474; from 2020-03-11 to 2021-06-27.\nHRV: Croatia = 489; from 2020-02-25 to 2021-06-27.\nCUB: Cuba = 473; from 2020-03-12 to 2021-06-27.\nCUW: Curacao = 91; from 2021-03-29 to 2021-06-27.\nCYP: Cyprus = 476; from 2020-03-09 to 2021-06-27.\nCZE: Czechia = 484; from 2020-03-01 to 2021-06-27.\nCOD: Democratic Republic of Congo = 474; from 2020-03-11 to 2021-06-27.\nDNK: Denmark = 512; from 2020-02-02 to 2021-06-27.\nDJI: Djibouti = 467; from 2020-03-18 to 2021-06-27.\nDMA: Dominica = 463; from 2020-03-22 to 2021-06-27.\nDOM: Dominican Republic = 484; from 2020-03-01 to 2021-06-27.\nECU: Ecuador = 484; from 2020-03-01 to 2021-06-27.\nEGY: Egypt = 500; from 2020-02-14 to 2021-06-27.\nSLV: El Salvador = 466; from 2020-03-19 to 2021-06-27.\nGNQ: Equatorial Guinea = 470; from 2020-03-15 to 2021-06-27.\nERI: Eritrea = 464; from 2020-03-21 to 2021-06-27.\nEST: Estonia = 511; from 2020-01-06 to 2021-06-27.\nSWZ: Eswatini = 471; from 2020-03-14 to 2021-06-27.\nETH: Ethiopia = 472; from 2020-03-13 to 2021-06-27.\nFRO: Faeroe Islands = 148; from 2021-01-29 to 2021-06-25.\nFLK: Falkland Islands = 67; from 2021-02-07 to 2021-04-14.\nFJI: Fiji = 515; from 2020-01-30 to 2021-06-27.\nFIN: Finland = 516; from 2020-01-29 to 2021-06-27.\nFRA: France = 521; from 2020-01-24 to 2021-06-27.\nPYF: French Polynesia = 140; from 2021-02-02 to 2021-06-21.\nGAB: Gabon = 471; from 2020-03-14 to 2021-06-27.\nGMB: Gambia = 468; from 2020-03-17 to 2021-06-27.\nGEO: Georgia = 488; from 2020-02-26 to 2021-06-27.\nDEU: Germany = 521; from 2020-01-06 to 2021-06-27.\nGHA: Ghana = 471; from 2020-03-14 to 2021-06-27.\nGIB: Gibraltar = 166; from 2021-01-10 to 2021-06-24.\nGRC: Greece = 495; from 2020-01-06 to 2021-06-27.\nGRL: Greenland = 150; from 2021-01-27 to 2021-06-25.\nGRD: Grenada = 463; from 2020-03-22 to 2021-06-27.\nGTM: Guatemala = 497; from 2020-02-17 to 2021-06-27.\nGGY: Guernsey = 153; from 2021-01-24 to 2021-06-25.\nGIN: Guinea = 472; from 2020-03-13 to 2021-06-27.\nGNB: Guinea-Bissau = 460; from 2020-03-25 to 2021-06-27.\nGUY: Guyana = 473; from 2020-03-12 to 2021-06-27.\nHTI: Haiti = 465; from 2020-03-20 to 2021-06-27.\nHND: Honduras = 474; from 2020-03-11 to 2021-06-27.\nHKG: Hong Kong = 522; from 2020-01-23 to 2021-06-27.\nHUN: Hungary = 482; from 2020-03-03 to 2021-06-27.\nISL: Iceland = 487; from 2020-02-27 to 2021-06-27.\nIND: India = 515; from 2020-01-30 to 2021-06-27.\nIDN: Indonesia = 483; from 2020-03-02 to 2021-06-27.\nIRN: Iran = 495; from 2020-02-19 to 2021-06-27.\nIRQ: Iraq = 490; from 2020-02-24 to 2021-06-27.\nIRL: Ireland = 485; from 2020-02-29 to 2021-06-27.\nIMN: Isle of Man = 156; from 2021-01-21 to 2021-06-25.\nISR: Israel = 494; from 2020-02-20 to 2021-06-27.\nITA: Italy = 514; from 2020-01-31 to 2021-06-27.\nJAM: Jamaica = 474; from 2020-03-11 to 2021-06-27.\nJPN: Japan = 523; from 2020-01-22 to 2021-06-27.\nJEY: Jersey = 99; from 2021-03-14 to 2021-06-20.\nJOR: Jordan = 482; from 2020-03-03 to 2021-06-27.\nKAZ: Kazakhstan = 472; from 2020-03-13 to 2021-06-27.\nKEN: Kenya = 479; from 2020-03-06 to 2021-06-27.\nKIR: Kiribati = 41; from 2021-05-18 to 2021-06-27.\nKWT: Kuwait = 490; from 2020-02-24 to 2021-06-27.\nKGZ: Kyrgyzstan = 467; from 2020-03-18 to 2021-06-27.\nLAO: Laos = 461; from 2020-03-24 to 2021-06-27.\nLVA: Latvia = 492; from 2020-01-06 to 2021-06-27.\nLBN: Lebanon = 493; from 2020-02-21 to 2021-06-27.\nLSO: Lesotho = 411; from 2020-05-13 to 2021-06-27.\nLBR: Liberia = 469; from 2020-03-16 to 2021-06-27.\nLBY: Libya = 481; from 2020-03-04 to 2021-06-27.\nLIE: Liechtenstein = 481; from 2020-03-04 to 2021-06-27.\nLTU: Lithuania = 485; from 2020-02-29 to 2021-06-27.\nLUX: Luxembourg = 490; from 2020-02-24 to 2021-06-27.\nMAC: Macao = 140; from 2021-02-08 to 2021-06-27.\nMDG: Madagascar = 465; from 2020-03-20 to 2021-06-27.\nMWI: Malawi = 456; from 2020-03-29 to 2021-06-27.\nMYS: Malaysia = 520; from 2020-01-25 to 2021-06-27.\nMDV: Maldives = 477; from 2020-03-08 to 2021-06-27.\nMLI: Mali = 460; from 2020-03-25 to 2021-06-27.\nMLT: Malta = 508; from 2020-02-06 to 2021-06-27.\nMHL: Marshall Islands = 243; from 2020-10-28 to 2021-06-27.\nMRT: Mauritania = 471; from 2020-03-14 to 2021-06-27.\nMUS: Mauritius = 467; from 2020-03-18 to 2021-06-27.\nMEX: Mexico = 544; from 2020-01-01 to 2021-06-27.\nFSM: Micronesia (country) = 158; from 2021-01-21 to 2021-06-27.\nMDA: Moldova = 477; from 2020-03-08 to 2021-06-27.\nMCO: Monaco = 485; from 2020-02-29 to 2021-06-27.\nMNG: Mongolia = 475; from 2020-03-10 to 2021-06-27.\nMNE: Montenegro = 468; from 2020-03-17 to 2021-06-27.\nMSR: Montserrat = 131; from 2021-02-08 to 2021-06-18.\nMAR: Morocco = 507; from 2020-02-07 to 2021-06-27.\nMOZ: Mozambique = 463; from 2020-03-22 to 2021-06-27.\nMMR: Myanmar = 458; from 2020-03-27 to 2021-06-27.\nNAM: Namibia = 471; from 2020-03-14 to 2021-06-27.\nNRU: Nauru = 75; from 2021-04-08 to 2021-06-21.\nNPL: Nepal = 520; from 2020-01-25 to 2021-06-27.\nNLD: Netherlands = 487; from 2020-02-27 to 2021-06-27.\nNCL: New Caledonia = 140; from 2021-02-02 to 2021-06-21.\nNZL: New Zealand = 486; from 2020-02-28 to 2021-06-27.\nNIC: Nicaragua = 466; from 2020-03-19 to 2021-06-27.\nNER: Niger = 465; from 2020-03-20 to 2021-06-27.\nNGA: Nigeria = 486; from 2020-02-28 to 2021-06-27.\nMKD: North Macedonia = 488; from 2020-02-26 to 2021-06-27.\nNOR: Norway = 489; from 2020-02-23 to 2021-06-27.\nOMN: Oman = 490; from 2020-02-24 to 2021-06-27.\nPAK: Pakistan = 489; from 2020-02-25 to 2021-06-27.\nPSE: Palestine = 480; from 2020-03-05 to 2021-06-27.\nPAN: Panama = 476; from 2020-03-09 to 2021-06-27.\nPNG: Papua New Guinea = 465; from 2020-03-20 to 2021-06-27.\nPRY: Paraguay = 478; from 2020-03-07 to 2021-06-27.\nPER: Peru = 539; from 2020-01-06 to 2021-06-27.\nPHL: Philippines = 515; from 2020-01-30 to 2021-06-27.\nPCN: Pitcairn = 7; from 2021-06-15 to 2021-06-21.\nPOL: Poland = 481; from 2020-03-04 to 2021-06-27.\nPRT: Portugal = 491; from 2020-01-06 to 2021-06-27.\nQAT: Qatar = 485; from 2020-02-29 to 2021-06-27.\nROU: Romania = 488; from 2020-02-26 to 2021-06-27.\nRUS: Russia = 514; from 2020-01-31 to 2021-06-27.\nRWA: Rwanda = 471; from 2020-03-14 to 2021-06-27.\nSHN: Saint Helena = 92; from 2021-02-03 to 2021-05-05.\nKNA: Saint Kitts and Nevis = 460; from 2020-03-25 to 2021-06-27.\nLCA: Saint Lucia = 471; from 2020-03-14 to 2021-06-27.\nVCT: Saint Vincent and the Grenadines = 471; from 2020-03-14 to 2021-06-27.\nWSM: Samoa = 222; from 2020-11-18 to 2021-06-27.\nSMR: San Marino = 487; from 2020-02-27 to 2021-06-27.\nSTP: Sao Tome and Principe = 448; from 2020-04-06 to 2021-06-27.\nSAU: Saudi Arabia = 483; from 2020-03-02 to 2021-06-27.\nSEN: Senegal = 486; from 2020-02-28 to 2021-06-27.\nSRB: Serbia = 488; from 2020-02-26 to 2021-06-27.\nSYC: Seychelles = 471; from 2020-03-14 to 2021-06-27.\nSLE: Sierra Leone = 454; from 2020-03-31 to 2021-06-27.\nSGP: Singapore = 522; from 2020-01-23 to 2021-06-27.\nSXM: Sint Maarten (Dutch part) = 43; from 2021-05-07 to 2021-06-18.\nSVK: Slovakia = 479; from 2020-03-06 to 2021-06-27.\nSVN: Slovenia = 512; from 2020-02-02 to 2021-06-27.\nSLB: Solomon Islands = 259; from 2020-10-12 to 2021-06-27.\nSOM: Somalia = 469; from 2020-03-16 to 2021-06-27.\nZAF: South Africa = 507; from 2020-02-07 to 2021-06-27.\nKOR: South Korea = 524; from 2020-01-21 to 2021-06-27.\nSSD: South Sudan = 449; from 2020-04-05 to 2021-06-27.\nESP: Spain = 513; from 2020-02-01 to 2021-06-27.\nLKA: Sri Lanka = 518; from 2020-01-27 to 2021-06-27.\nSDN: Sudan = 473; from 2020-03-12 to 2021-06-27.\nSUR: Suriname = 471; from 2020-03-14 to 2021-06-27.\nSWE: Sweden = 513; from 2020-02-01 to 2021-06-27.\nCHE: Switzerland = 489; from 2020-02-25 to 2021-06-27.\nSYR: Syria = 463; from 2020-03-22 to 2021-06-27.\nTWN: Taiwan = 529; from 2020-01-16 to 2021-06-27.\nTJK: Tajikistan = 424; from 2020-04-30 to 2021-06-27.\nTZA: Tanzania = 469; from 2020-03-16 to 2021-06-27.\nTHA: Thailand = 541; from 2020-01-04 to 2021-06-27.\nTLS: Timor = 463; from 2020-03-22 to 2021-06-27.\nTGO: Togo = 481; from 2020-03-04 to 2021-06-27.\nTON: Tonga = 44; from 2021-04-20 to 2021-06-21.\nTTO: Trinidad and Tobago = 471; from 2020-03-14 to 2021-06-27.\nTUN: Tunisia = 481; from 2020-03-04 to 2021-06-27.\nTUR: Turkey = 474; from 2020-03-11 to 2021-06-27.\nTKM: Turkmenistan = 1; from 2021-04-04 to 2021-04-04.\nTCA: Turks and Caicos Islands = 160; from 2021-01-10 to 2021-06-18.\nTUV: Tuvalu = 50; from 2021-04-27 to 2021-06-15.\nUGA: Uganda = 464; from 2020-03-21 to 2021-06-27.\nUKR: Ukraine = 482; from 2020-03-03 to 2021-06-27.\nARE: United Arab Emirates = 516; from 2020-01-29 to 2021-06-27.\nGBR: United Kingdom = 514; from 2020-01-31 to 2021-06-27.\nUSA: United States = 523; from 2020-01-22 to 2021-06-27.\nURY: Uruguay = 472; from 2020-03-13 to 2021-06-27.\nUZB: Uzbekistan = 470; from 2020-03-15 to 2021-06-27.\nVUT: Vanuatu = 230; from 2020-11-10 to 2021-06-27.\nVAT: Vatican = 479; from 2020-03-06 to 2021-06-27.\nVEN: Venezuela = 471; from 2020-03-14 to 2021-06-27.\nVNM: Vietnam = 522; from 2020-01-23 to 2021-06-27.\nWLF: Wallis and Futuna = 91; from 2021-03-23 to 2021-06-21.\nYEM: Yemen = 444; from 2020-04-10 to 2021-06-27.\nZMB: Zambia = 467; from 2020-03-18 to 2021-06-27.\nZWE: Zimbabwe = 465; from 2020-03-20 to 2021-06-27.\nCYN: Northern Cyprus = 134; from 2021-01-14 to 2021-05-27.\nKOS: Kosovo = 471; from 2020-03-14 to 2021-06-27.\nWRL: World = 523; from 2020-01-22 to 2021-06-27.\n"
     ]
    }
   ],
   "source": [
    "print(get_country_records(data))"
   ]
  }
 ]
}