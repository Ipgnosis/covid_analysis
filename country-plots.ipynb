{
 "cells": [
  {
   "cell_type": "code",
   "execution_count": 1,
   "metadata": {},
   "outputs": [
    {
     "name": "stdout",
     "output_type": "stream",
     "text": [
      "Imports complete\n"
     ]
    }
   ],
   "source": [
    "# imports\n",
    "\n",
    "from datetime import datetime, timedelta\n",
    "\n",
    "# set up file paths and other data globals\n",
    "\n",
    "import config\n",
    "import modify\n",
    "\n",
    "# local imports\n",
    "\n",
    "from covid_package.data_funcs.update_data import check_refresh_data\n",
    "from covid_package.data_funcs.store_data import read_json_data, convert_owid_data\n",
    "\n",
    "from covid_package.libs.aggregate_data import fetch_latest_data_date, fetch_date_list\n",
    "from covid_package.libs.compile_dict import collate_plot_data\n",
    "\n",
    "from covid_package.api.get_country_data import get_l2_date_data\n",
    "\n",
    "from covid_package.plots.multi_plot import multi_plots\n",
    "\n",
    "print(\"Imports complete\")"
   ]
  },
  {
   "cell_type": "code",
   "execution_count": 2,
   "metadata": {},
   "outputs": [
    {
     "name": "stdout",
     "output_type": "stream",
     "text": [
      "Checking that data is up to date\n",
      "Expired data file: current file = 2022-01-07T15:07:53Z, latest update = 2022-01-08T10:00:52Z\n",
      "Data cannot be downloaded from Github, trying OWID\n",
      "Data updated\n"
     ]
    },
    {
     "ename": "AttributeError",
     "evalue": "'str' object has no attribute 'pop'",
     "output_type": "error",
     "traceback": [
      "\u001b[1;31m---------------------------------------------------------------------------\u001b[0m",
      "\u001b[1;31mAttributeError\u001b[0m                            Traceback (most recent call last)",
      "\u001b[1;32m~\\AppData\\Local\\Temp/ipykernel_26952/2378908507.py\u001b[0m in \u001b[0;36m<module>\u001b[1;34m\u001b[0m\n\u001b[0;32m      7\u001b[0m \u001b[1;33m\u001b[0m\u001b[0m\n\u001b[0;32m      8\u001b[0m     \u001b[1;31m# convert the OWID_ data so that we don't trip up fetch_latest_data_date\u001b[0m\u001b[1;33m\u001b[0m\u001b[1;33m\u001b[0m\u001b[1;33m\u001b[0m\u001b[0m\n\u001b[1;32m----> 9\u001b[1;33m     \u001b[0mdata\u001b[0m \u001b[1;33m=\u001b[0m \u001b[0mconvert_owid_data\u001b[0m\u001b[1;33m(\u001b[0m\u001b[0mdata\u001b[0m\u001b[1;33m)\u001b[0m\u001b[1;33m\u001b[0m\u001b[1;33m\u001b[0m\u001b[0m\n\u001b[0m\u001b[0;32m     10\u001b[0m \u001b[1;33m\u001b[0m\u001b[0m\n\u001b[0;32m     11\u001b[0m     \u001b[1;31m# set the latest data date global\u001b[0m\u001b[1;33m\u001b[0m\u001b[1;33m\u001b[0m\u001b[1;33m\u001b[0m\u001b[0m\n",
      "\u001b[1;32mc:\\Users\\Ipgnosis\\Documents\\Github\\covid_analysis\\covid_package\\data_funcs\\store_data.py\u001b[0m in \u001b[0;36mconvert_owid_data\u001b[1;34m(this_data)\u001b[0m\n\u001b[0;32m     25\u001b[0m \u001b[1;33m\u001b[0m\u001b[0m\n\u001b[0;32m     26\u001b[0m     \u001b[1;31m# clear out the unneeded 'OWID_' entries\u001b[0m\u001b[1;33m\u001b[0m\u001b[1;33m\u001b[0m\u001b[1;33m\u001b[0m\u001b[0m\n\u001b[1;32m---> 27\u001b[1;33m     \u001b[1;33m[\u001b[0m\u001b[0mthis_data\u001b[0m\u001b[1;33m.\u001b[0m\u001b[0mpop\u001b[0m\u001b[1;33m(\u001b[0m\u001b[0mi\u001b[0m\u001b[1;33m)\u001b[0m \u001b[1;32mfor\u001b[0m \u001b[0mi\u001b[0m \u001b[1;32min\u001b[0m \u001b[0mowid_list\u001b[0m\u001b[1;33m]\u001b[0m\u001b[1;33m\u001b[0m\u001b[1;33m\u001b[0m\u001b[0m\n\u001b[0m\u001b[0;32m     28\u001b[0m \u001b[1;33m\u001b[0m\u001b[0m\n\u001b[0;32m     29\u001b[0m     \u001b[1;31m# change the iso_code for Northern Cyprus, for consistency\u001b[0m\u001b[1;33m\u001b[0m\u001b[1;33m\u001b[0m\u001b[1;33m\u001b[0m\u001b[0m\n",
      "\u001b[1;32mc:\\Users\\Ipgnosis\\Documents\\Github\\covid_analysis\\covid_package\\data_funcs\\store_data.py\u001b[0m in \u001b[0;36m<listcomp>\u001b[1;34m(.0)\u001b[0m\n\u001b[0;32m     25\u001b[0m \u001b[1;33m\u001b[0m\u001b[0m\n\u001b[0;32m     26\u001b[0m     \u001b[1;31m# clear out the unneeded 'OWID_' entries\u001b[0m\u001b[1;33m\u001b[0m\u001b[1;33m\u001b[0m\u001b[1;33m\u001b[0m\u001b[0m\n\u001b[1;32m---> 27\u001b[1;33m     \u001b[1;33m[\u001b[0m\u001b[0mthis_data\u001b[0m\u001b[1;33m.\u001b[0m\u001b[0mpop\u001b[0m\u001b[1;33m(\u001b[0m\u001b[0mi\u001b[0m\u001b[1;33m)\u001b[0m \u001b[1;32mfor\u001b[0m \u001b[0mi\u001b[0m \u001b[1;32min\u001b[0m \u001b[0mowid_list\u001b[0m\u001b[1;33m]\u001b[0m\u001b[1;33m\u001b[0m\u001b[1;33m\u001b[0m\u001b[0m\n\u001b[0m\u001b[0;32m     28\u001b[0m \u001b[1;33m\u001b[0m\u001b[0m\n\u001b[0;32m     29\u001b[0m     \u001b[1;31m# change the iso_code for Northern Cyprus, for consistency\u001b[0m\u001b[1;33m\u001b[0m\u001b[1;33m\u001b[0m\u001b[1;33m\u001b[0m\u001b[0m\n",
      "\u001b[1;31mAttributeError\u001b[0m: 'str' object has no attribute 'pop'"
     ]
    }
   ],
   "source": [
    "# check if data up to date; if not, reload\n",
    "\n",
    "if check_refresh_data():\n",
    "\n",
    "    # read the updated(?) data file from the data dir\n",
    "    data = read_json_data(config.DATA_FILE_STR)\n",
    "    \n",
    "    # convert the OWID_ data so that we don't trip up fetch_latest_data_date\n",
    "    data = convert_owid_data(data)\n",
    "    \n",
    "    # set the latest data date global\n",
    "    config.LATEST_DATA_DATE = fetch_latest_data_date(data)\n",
    "    \n",
    "    print(\"Latest data is:\", config.LATEST_DATA_DATE)\n",
    "    print(\"Current UTC 0 datetime = {}\".format(datetime.utcnow().strftime(\"%Y-%m-%dT%H:%M:%S%z\")))"
   ]
  },
  {
   "cell_type": "code",
   "execution_count": null,
   "metadata": {},
   "outputs": [],
   "source": [
    "# restrict analysis dates if required\n",
    " \n",
    "start_date = config.DATA_START_DATE\n",
    "end_date = config.LATEST_DATA_DATE\n",
    "\n",
    "#start_date = '2020-12-01'\n",
    "#end_date = '2021-01-01'\n",
    "analysis_window = 0\n",
    "#analysis_window = 28\n",
    "date_list = []\n",
    "\n",
    "# restrict the analysis to the last N days from the end_date\n",
    "\n",
    "if analysis_window > 0:\n",
    "    end_date_obj = datetime.strptime(end_date, \"%Y-%m-%d\")\n",
    "    start_date_obj = end_date_obj - timedelta(days = analysis_window)\n",
    "    start_date = datetime.strftime(start_date_obj, \"%Y-%m-%d\")\n",
    "    \n",
    "# compile the date_list to the default range or a restricted range\n",
    "if (start_date > config.DATA_START_DATE) or (end_date < config.LATEST_DATA_DATE):\n",
    "    # get a restrictive list of valid data dates\n",
    "    date_list = fetch_date_list(data, start_date = start_date, end_date = end_date)\n",
    "else: # just compile all available dates into date_list\n",
    "    # get an exhaustive list of date objects containing VALID DATA\n",
    "    date_list = fetch_date_list(data)\n",
    "    \n",
    "print(\"Analysis window is from {} to {}\".format(date_list[0], date_list[-1]))"
   ]
  },
  {
   "cell_type": "code",
   "execution_count": null,
   "metadata": {},
   "outputs": [],
   "source": [
    "# set up chart_labels dict\n",
    "\n",
    "chart_labels = dict()\n",
    "\n",
    "# define plot values\n",
    "chart_labels['width'] = 15\n",
    "chart_labels['height'] = 10\n",
    "chart_labels['tsize'] = 16\n",
    "chart_labels['fsize'] = 12\n",
    "chart_labels['lsize'] = 10"
   ]
  },
  {
   "cell_type": "code",
   "execution_count": null,
   "metadata": {},
   "outputs": [],
   "source": [
    "# define the list of required resources\n",
    "\n",
    "res = ['new_cases_smoothed_per_million', 'new_deaths_smoothed_per_million']\n",
    "chart_labels['expl_str'] = \"Cases/Deaths\"\n",
    "\n",
    "chart_labels['descr_str_1'] = res[0].replace('_', ' ').capitalize()\n",
    "chart_labels['descr_str_2'] = res[1].replace('_', ' ').capitalize()\n",
    "\n",
    "# returns a dict with key = date, values = dict of isos\n",
    "# the value of each iso key is a list of the required resources\n",
    "country_date_data = get_l2_date_data(data, date_list, res)\n",
    "    \n",
    "#print(country_date_data)"
   ]
  },
  {
   "cell_type": "code",
   "execution_count": null,
   "metadata": {},
   "outputs": [],
   "source": [
    "# re-juggle the data for a multi country chart\n",
    "\n",
    "# the countries being analyzed\n",
    "chart_labels['y_isos'] = ['USA', 'CAN']\n",
    "\n",
    "plot_data = collate_plot_data(chart_labels['y_isos'], country_date_data)\n",
    "\n",
    "# assemble the locations list\n",
    "chart_labels['y_axis_labels'] = []\n",
    "for iso in chart_labels['y_isos']:\n",
    "    chart_labels['y_axis_labels'].append(data[iso]['location'])\n",
    "    \n",
    "# call multi_plots\n",
    "multi_plots(chart_labels, plot_data)"
   ]
  },
  {
   "cell_type": "code",
   "execution_count": null,
   "metadata": {},
   "outputs": [],
   "source": [
    "# re-juggle the data for a multi country chart\n",
    "\n",
    "# the countries being analyzed\n",
    "chart_labels['y_isos'] = ['GBR', 'FRA', 'DEU', 'BEL', 'NLD']\n",
    "\n",
    "plot_data = collate_plot_data(chart_labels['y_isos'], country_date_data)\n",
    "\n",
    "# assemble the locations list\n",
    "chart_labels['y_axis_labels'] = []\n",
    "for iso in chart_labels['y_isos']:\n",
    "    chart_labels['y_axis_labels'].append(data[iso]['location'])\n",
    "    \n",
    "# call multi_plots\n",
    "multi_plots(chart_labels, plot_data)"
   ]
  },
  {
   "cell_type": "code",
   "execution_count": null,
   "metadata": {},
   "outputs": [],
   "source": [
    "# re-juggle the data for a multi country chart\n",
    "\n",
    "# the countries being analyzed\n",
    "chart_labels['y_isos'] = ['KOR', 'JPN', 'TWN', 'CHN']\n",
    "\n",
    "plot_data = collate_plot_data(chart_labels['y_isos'], country_date_data)\n",
    "\n",
    "# assemble the locations list\n",
    "chart_labels['y_axis_labels'] = []\n",
    "for iso in chart_labels['y_isos']:\n",
    "    chart_labels['y_axis_labels'].append(data[iso]['location'])\n",
    "    \n",
    "# call multi_plots\n",
    "multi_plots(chart_labels, plot_data)"
   ]
  },
  {
   "cell_type": "code",
   "execution_count": null,
   "metadata": {},
   "outputs": [],
   "source": [
    "# re-juggle the data for a multi country chart\n",
    "\n",
    "# the countries being analyzed\n",
    "chart_labels['y_isos'] = ['AUS', 'NZL', 'SGP', 'IDN']\n",
    "\n",
    "plot_data = collate_plot_data(chart_labels['y_isos'], country_date_data)\n",
    "\n",
    "# assemble the locations list\n",
    "chart_labels['y_axis_labels'] = []\n",
    "for iso in chart_labels['y_isos']:\n",
    "    chart_labels['y_axis_labels'].append(data[iso]['location'])\n",
    "    \n",
    "# call multi_plots\n",
    "multi_plots(chart_labels, plot_data)"
   ]
  }
 ],
 "metadata": {
  "interpreter": {
   "hash": "3d272f5f920203b3371390e95080956d0ef2d2ee59e4c15a61e97266d1098e8c"
  },
  "kernelspec": {
   "display_name": "Python 3.8.11 64-bit ('jovian': conda)",
   "name": "python3"
  },
  "language_info": {
   "codemirror_mode": {
    "name": "ipython",
    "version": 3
   },
   "file_extension": ".py",
   "mimetype": "text/x-python",
   "name": "python",
   "nbconvert_exporter": "python",
   "pygments_lexer": "ipython3",
   "version": "3.8.12"
  }
 },
 "nbformat": 4,
 "nbformat_minor": 2
}
