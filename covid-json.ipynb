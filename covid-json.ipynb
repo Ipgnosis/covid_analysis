{
 "metadata": {
  "language_info": {
   "codemirror_mode": {
    "name": "ipython",
    "version": 3
   },
   "file_extension": ".py",
   "mimetype": "text/x-python",
   "name": "python",
   "nbconvert_exporter": "python",
   "pygments_lexer": "ipython3",
   "version": "3.8.5-final"
  },
  "orig_nbformat": 2,
  "kernelspec": {
   "name": "python385jvsc74a57bd0b3ba2566441a7c06988d0923437866b63cedc61552a5af99d1f4fb67d367b25f",
   "display_name": "Python 3.8.5 64-bit (conda)"
  }
 },
 "nbformat": 4,
 "nbformat_minor": 2,
 "cells": [
  {
   "cell_type": "code",
   "execution_count": 1,
   "metadata": {},
   "outputs": [],
   "source": [
    "# imports\n",
    "import numpy as np\n",
    "import pandas as pd\n",
    "import json\n",
    "import requests\n",
    "import os\n",
    "import sys\n",
    "from pathlib import Path\n",
    "from operator import itemgetter"
   ]
  },
  {
   "cell_type": "code",
   "execution_count": 11,
   "metadata": {},
   "outputs": [],
   "source": [
    "# set up file paths and other data globals\n",
    "\n",
    "import config, modify\n",
    "\"\"\"\n",
    "config.CURRENT_DIR_STR\n",
    "config.COVID_PACKAGE_STR\n",
    "\n",
    "config.DATA_URL_STR\n",
    "config.UPDATE_DATETIME_STR\n",
    "config.DATA_FILE_STR\n",
    "config.OLD_FILE_STR\n",
    "config.UPDATE_FILE_STR\n",
    "\"\"\"\n",
    "sys.path.append(config.CURRENT_DIR_STR)\n",
    "sys.path.append(config.COVID_PACKAGE_STR)\n",
    "sys.path.append(config.UPDATE_FILE_STR)"
   ]
  },
  {
   "cell_type": "code",
   "execution_count": 12,
   "metadata": {},
   "outputs": [],
   "source": [
    "from covid_package.data_funcs.store_data import read_json_data\n",
    "from covid_package.data_funcs.update_data import check_refresh_data\n",
    "\n",
    "from covid_package.libs.valid_keys import fetch_l0_keys, fetch_l1_keys, fetch_l2_keys\n",
    "from covid_package.libs.aggregate_data import fetch_latest_data_date, fetch_date_list\n",
    "from covid_package.libs.country_list import fetch_countries\n",
    "\n",
    "from covid_package.api.get_country_records import get_country_records\n",
    "from covid_package.api.get_country_data import get_level_1_data, get_l2_keys_data, get_l2_date_data, get_country_data\n",
    "from covid_package.api.get_case_death_data import get_case_death_mean_std\n",
    "\n",
    "from covid_package.plots.plot_results import subplot_share_axis"
   ]
  },
  {
   "cell_type": "code",
   "execution_count": 13,
   "metadata": {},
   "outputs": [
    {
     "output_type": "error",
     "ename": "TypeError",
     "evalue": "expected str, bytes or os.PathLike object, not type",
     "traceback": [
      "\u001b[1;31m---------------------------------------------------------------------------\u001b[0m",
      "\u001b[1;31mTypeError\u001b[0m                                 Traceback (most recent call last)",
      "\u001b[1;32m<ipython-input-13-570401beb9a4>\u001b[0m in \u001b[0;36m<module>\u001b[1;34m\u001b[0m\n\u001b[1;32m----> 1\u001b[1;33m \u001b[1;32mif\u001b[0m \u001b[0mcheck_refresh_data\u001b[0m\u001b[1;33m(\u001b[0m\u001b[1;33m)\u001b[0m\u001b[1;33m:\u001b[0m\u001b[1;33m\u001b[0m\u001b[1;33m\u001b[0m\u001b[0m\n\u001b[0m\u001b[0;32m      2\u001b[0m     \u001b[1;31m# read the updated(?) data file from the data dir\u001b[0m\u001b[1;33m\u001b[0m\u001b[1;33m\u001b[0m\u001b[1;33m\u001b[0m\u001b[0m\n\u001b[0;32m      3\u001b[0m     \u001b[0mdata\u001b[0m \u001b[1;33m=\u001b[0m \u001b[0mread_json_data\u001b[0m\u001b[1;33m(\u001b[0m\u001b[0mconfig\u001b[0m\u001b[1;33m.\u001b[0m\u001b[0mDATA_FILE_STR\u001b[0m\u001b[1;33m)\u001b[0m\u001b[1;33m\u001b[0m\u001b[1;33m\u001b[0m\u001b[0m\n\u001b[0;32m      4\u001b[0m     \u001b[1;31m# repopulate the keys\u001b[0m\u001b[1;33m\u001b[0m\u001b[1;33m\u001b[0m\u001b[1;33m\u001b[0m\u001b[0m\n\u001b[0;32m      5\u001b[0m     \u001b[0mkey_list\u001b[0m \u001b[1;33m=\u001b[0m \u001b[0mfetch_l0_keys\u001b[0m\u001b[1;33m(\u001b[0m\u001b[0mdata\u001b[0m\u001b[1;33m)\u001b[0m\u001b[1;33m\u001b[0m\u001b[1;33m\u001b[0m\u001b[0m\n",
      "\u001b[1;32mc:\\Users\\Ipgnosis\\Documents\\Github\\covid_analysis\\covid_package\\data_funcs\\update_data.py\u001b[0m in \u001b[0;36mcheck_refresh_data\u001b[1;34m()\u001b[0m\n\u001b[0;32m     13\u001b[0m \u001b[1;32mdef\u001b[0m \u001b[0mcheck_refresh_data\u001b[0m\u001b[1;33m(\u001b[0m\u001b[1;33m)\u001b[0m\u001b[1;33m:\u001b[0m\u001b[1;33m\u001b[0m\u001b[1;33m\u001b[0m\u001b[0m\n\u001b[0;32m     14\u001b[0m \u001b[1;33m\u001b[0m\u001b[0m\n\u001b[1;32m---> 15\u001b[1;33m     \u001b[1;32mif\u001b[0m \u001b[0mexpired_data\u001b[0m\u001b[1;33m(\u001b[0m\u001b[1;33m)\u001b[0m\u001b[1;33m:\u001b[0m\u001b[1;33m\u001b[0m\u001b[1;33m\u001b[0m\u001b[0m\n\u001b[0m\u001b[0;32m     16\u001b[0m \u001b[1;33m\u001b[0m\u001b[0m\n\u001b[0;32m     17\u001b[0m         \u001b[1;31m# rename data file\u001b[0m\u001b[1;33m\u001b[0m\u001b[1;33m\u001b[0m\u001b[1;33m\u001b[0m\u001b[0m\n",
      "\u001b[1;32mc:\\Users\\Ipgnosis\\Documents\\Github\\covid_analysis\\covid_package\\data_funcs\\update_data.py\u001b[0m in \u001b[0;36mexpired_data\u001b[1;34m()\u001b[0m\n\u001b[0;32m     55\u001b[0m \u001b[1;33m\u001b[0m\u001b[0m\n\u001b[0;32m     56\u001b[0m     \u001b[1;31m# check last update datetime of current data file\u001b[0m\u001b[1;33m\u001b[0m\u001b[1;33m\u001b[0m\u001b[1;33m\u001b[0m\u001b[0m\n\u001b[1;32m---> 57\u001b[1;33m     \u001b[0mconfig\u001b[0m\u001b[1;33m.\u001b[0m\u001b[0mUPDATE_DATETIME_STR\u001b[0m \u001b[1;33m=\u001b[0m \u001b[0mget_last_file_update\u001b[0m\u001b[1;33m(\u001b[0m\u001b[1;33m)\u001b[0m\u001b[1;33m\u001b[0m\u001b[1;33m\u001b[0m\u001b[0m\n\u001b[0m\u001b[0;32m     58\u001b[0m     \u001b[0mlast_updatetime_obj\u001b[0m \u001b[1;33m=\u001b[0m \u001b[0mconvert_datetime_str_to_obj\u001b[0m\u001b[1;33m(\u001b[0m\u001b[0mconfig\u001b[0m\u001b[1;33m.\u001b[0m\u001b[0mUPDATE_DATETIME_STR\u001b[0m\u001b[1;33m)\u001b[0m\u001b[1;33m\u001b[0m\u001b[1;33m\u001b[0m\u001b[0m\n\u001b[0;32m     59\u001b[0m \u001b[1;33m\u001b[0m\u001b[0m\n",
      "\u001b[1;32mc:\\Users\\Ipgnosis\\Documents\\Github\\covid_analysis\\covid_package\\data_funcs\\store_data.py\u001b[0m in \u001b[0;36mget_last_file_update\u001b[1;34m()\u001b[0m\n\u001b[0;32m     96\u001b[0m \u001b[1;32mdef\u001b[0m \u001b[0mget_last_file_update\u001b[0m\u001b[1;33m(\u001b[0m\u001b[1;33m)\u001b[0m\u001b[1;33m:\u001b[0m\u001b[1;33m\u001b[0m\u001b[1;33m\u001b[0m\u001b[0m\n\u001b[0;32m     97\u001b[0m \u001b[1;33m\u001b[0m\u001b[0m\n\u001b[1;32m---> 98\u001b[1;33m     \u001b[0mupdate_data_file\u001b[0m \u001b[1;33m=\u001b[0m \u001b[0mread_json_data\u001b[0m\u001b[1;33m(\u001b[0m\u001b[0mconfig\u001b[0m\u001b[1;33m.\u001b[0m\u001b[0mUPDATE_FILE_STR\u001b[0m\u001b[1;33m)\u001b[0m\u001b[1;33m\u001b[0m\u001b[1;33m\u001b[0m\u001b[0m\n\u001b[0m\u001b[0;32m     99\u001b[0m     \u001b[0mprint\u001b[0m\u001b[1;33m(\u001b[0m\u001b[1;34m\"get_last_file_update: update_data_file = \"\u001b[0m\u001b[1;33m,\u001b[0m \u001b[0mupdate_data_file\u001b[0m\u001b[1;33m)\u001b[0m\u001b[1;33m\u001b[0m\u001b[1;33m\u001b[0m\u001b[0m\n\u001b[0;32m    100\u001b[0m \u001b[1;33m\u001b[0m\u001b[0m\n",
      "\u001b[1;32mc:\\Users\\Ipgnosis\\Documents\\Github\\covid_analysis\\covid_package\\data_funcs\\store_data.py\u001b[0m in \u001b[0;36mread_json_data\u001b[1;34m(fname)\u001b[0m\n\u001b[0;32m     31\u001b[0m \u001b[1;33m\u001b[0m\u001b[0m\n\u001b[0;32m     32\u001b[0m     \u001b[1;32mtry\u001b[0m\u001b[1;33m:\u001b[0m\u001b[1;33m\u001b[0m\u001b[1;33m\u001b[0m\u001b[0m\n\u001b[1;32m---> 33\u001b[1;33m         \u001b[1;32mwith\u001b[0m \u001b[0mopen\u001b[0m\u001b[1;33m(\u001b[0m\u001b[0mfname\u001b[0m\u001b[1;33m)\u001b[0m \u001b[1;32mas\u001b[0m \u001b[0mjson_file\u001b[0m\u001b[1;33m:\u001b[0m\u001b[1;33m\u001b[0m\u001b[1;33m\u001b[0m\u001b[0m\n\u001b[0m\u001b[0;32m     34\u001b[0m             \u001b[0mdata\u001b[0m \u001b[1;33m=\u001b[0m \u001b[0mjson\u001b[0m\u001b[1;33m.\u001b[0m\u001b[0mload\u001b[0m\u001b[1;33m(\u001b[0m\u001b[0mjson_file\u001b[0m\u001b[1;33m)\u001b[0m\u001b[1;33m\u001b[0m\u001b[1;33m\u001b[0m\u001b[0m\n\u001b[0;32m     35\u001b[0m         \u001b[1;32mreturn\u001b[0m \u001b[0mdata\u001b[0m\u001b[1;33m\u001b[0m\u001b[1;33m\u001b[0m\u001b[0m\n",
      "\u001b[1;31mTypeError\u001b[0m: expected str, bytes or os.PathLike object, not type"
     ]
    }
   ],
   "source": [
    "if check_refresh_data():\n",
    "    # read the updated(?) data file from the data dir\n",
    "    data = read_json_data(config.DATA_FILE_STR)\n",
    "    # repopulate the keys\n",
    "    key_list = fetch_l0_keys(data)\n",
    "    # need this?\n",
    "    #country_list = fetch_countries(data)\n",
    "\n",
    "print(\"Latest data is:\", fetch_latest_data_date(data, key_list))"
   ]
  },
  {
   "cell_type": "code",
   "execution_count": 1,
   "metadata": {
    "tags": []
   },
   "outputs": [],
   "source": [
    "# get the level 1 data for a country\n",
    "\n",
    "#print(get_level_1_data(data, key_list, ['population']))"
   ]
  },
  {
   "cell_type": "code",
   "execution_count": 2,
   "metadata": {
    "tags": []
   },
   "outputs": [],
   "source": [
    "# list of valid level 1 keys\n",
    "#print(fetch_l1_keys(data, key_list))"
   ]
  },
  {
   "cell_type": "code",
   "execution_count": 3,
   "metadata": {},
   "outputs": [],
   "source": [
    "# list of valid level 2 keys\n",
    "#print(fetch_l2_keys(data, key_list))"
   ]
  },
  {
   "cell_type": "code",
   "execution_count": 28,
   "metadata": {},
   "outputs": [],
   "source": [
    "# for each country, get record numbers and data dates\n",
    "#print(get_country_records(data, key_list))"
   ]
  },
  {
   "cell_type": "code",
   "execution_count": 29,
   "metadata": {},
   "outputs": [],
   "source": [
    "# get an exhaustive list of dates in the data\n",
    "\n",
    "date_list = fetch_date_list(data, key_list)\n",
    "\n",
    "#print(\"Number of distinct dates = \", len(date_list))"
   ]
  },
  {
   "cell_type": "code",
   "execution_count": 30,
   "metadata": {
    "tags": []
   },
   "outputs": [],
   "source": [
    "# calculate cases and deaths per day per million population\n",
    "\n",
    "res = ['new_cases_per_million', 'new_deaths_per_million']\n",
    "\n",
    "# get the data from those resources\n",
    "\n",
    "get_data = get_l2_keys_data(data, key_list, res)\n",
    "\n",
    "#for day in range(len(get_data['AFG'])):\n",
    "#    print(get_data['AFG'][day])\n"
   ]
  },
  {
   "cell_type": "code",
   "execution_count": 31,
   "metadata": {
    "tags": []
   },
   "outputs": [],
   "source": [
    "# get a dictionary of tuples containing data for all countries reporting:\n",
    "# mean cases, standard deviation of cases, mean deaths, standard deviation of deaths\n",
    "# one for each date in the dataset\n",
    "\n",
    "dates_obj = get_case_death_mean_std(data, key_list, date_list)\n",
    "\n",
    "#print(dates_obj) "
   ]
  },
  {
   "cell_type": "code",
   "execution_count": 32,
   "metadata": {
    "tags": []
   },
   "outputs": [],
   "source": [
    "# calculate the max values for the graph y indices\n",
    "# maybe don't need this?\n",
    "\n",
    "#sort_y_cases = sorted(dates_obj.values(), key=itemgetter(0), reverse=True)\n",
    "#sort_y_deaths = sorted(dates_obj.values(), key=itemgetter(2), reverse=True)\n",
    "\n",
    "#max_y_cases = sort_y_cases[0][0]\n",
    "#max_y_deaths = sort_y_deaths[0][2]\n",
    "\n",
    "#print(max_y_cases)\n",
    "#print(max_y_deaths)"
   ]
  },
  {
   "cell_type": "code",
   "execution_count": 38,
   "metadata": {},
   "outputs": [
    {
     "output_type": "error",
     "ename": "AttributeError",
     "evalue": "'numpy.ndarray' object has no attribute 'legend'",
     "traceback": [
      "\u001b[1;31m---------------------------------------------------------------------------\u001b[0m",
      "\u001b[1;31mAttributeError\u001b[0m                            Traceback (most recent call last)",
      "\u001b[1;32m<ipython-input-38-af6952d3068a>\u001b[0m in \u001b[0;36m<module>\u001b[1;34m\u001b[0m\n\u001b[0;32m     35\u001b[0m \u001b[1;33m\u001b[0m\u001b[0m\n\u001b[0;32m     36\u001b[0m \u001b[1;31m# call matplotlib driver function\u001b[0m\u001b[1;33m\u001b[0m\u001b[1;33m\u001b[0m\u001b[1;33m\u001b[0m\u001b[0m\n\u001b[1;32m---> 37\u001b[1;33m \u001b[0msubplot_share_axis\u001b[0m\u001b[1;33m(\u001b[0m\u001b[0mlabels_obj\u001b[0m\u001b[1;33m,\u001b[0m \u001b[0mresults_obj\u001b[0m\u001b[1;33m)\u001b[0m\u001b[1;33m\u001b[0m\u001b[1;33m\u001b[0m\u001b[0m\n\u001b[0m",
      "\u001b[1;32mc:\\Users\\Ipgnosis\\Documents\\Github\\covid_analysis\\covid_package\\plots\\plot_results.py\u001b[0m in \u001b[0;36msubplot_share_axis\u001b[1;34m(labels, results)\u001b[0m\n",
      "\u001b[1;31mAttributeError\u001b[0m: 'numpy.ndarray' object has no attribute 'legend'"
     ]
    }
   ],
   "source": [
    "# package up the matplotlib data\n",
    "\n",
    "# create the labels\n",
    "labels_obj = {}\n",
    "labels_obj['chart_title'] = \"Global daily mean new cases and new deaths\"\n",
    "labels_obj['x_axis_label'] = \"Date\"\n",
    "labels_obj['y1_axis_label'] = \"Mean new cases\"\n",
    "labels_obj['y2_axis_label'] = \"Mean new deaths\"\n",
    "labels_obj['legend_1'] = \"New cases\"\n",
    "labels_obj['legend_2'] = \"New deaths\"\n",
    "\n",
    "\n",
    "# reorganize the results\n",
    "results_obj = {}\n",
    "x_axis = []\n",
    "y1_mean = []\n",
    "y2_mean = []\n",
    "#y1_std = []\n",
    "#y2_std = []\n",
    "\n",
    "for key, value in dates_obj.items():\n",
    "    x_axis.append(key)\n",
    "    y1_mean.append(value[0])\n",
    "    #y1_std.append(value[1])\n",
    "    y2_mean.append(value[2])\n",
    "    #y2_std.append(value[3])\n",
    "\n",
    "results_obj['x_axis'] = x_axis\n",
    "results_obj['y1_axis'] = y1_mean\n",
    "#results_ojb['y1_std'] = y1_std\n",
    "results_obj['y2_axis'] = y2_mean\n",
    "#results_ojb['y2_std'] = y2_std\n",
    "\n",
    "#print(results[2])\n",
    "\n",
    "# call matplotlib driver function\n",
    "subplot_share_axis(labels_obj, results_obj)"
   ]
  },
  {
   "cell_type": "code",
   "execution_count": null,
   "metadata": {},
   "outputs": [],
   "source": []
  }
 ]
}