{
 "metadata": {
  "language_info": {
   "codemirror_mode": {
    "name": "ipython",
    "version": 3
   },
   "file_extension": ".py",
   "mimetype": "text/x-python",
   "name": "python",
   "nbconvert_exporter": "python",
   "pygments_lexer": "ipython3",
   "version": "3.8.8-final"
  },
  "orig_nbformat": 2,
  "kernelspec": {
   "name": "python388jvsc74a57bd03d272f5f920203b3371390e95080956d0ef2d2ee59e4c15a61e97266d1098e8c",
   "display_name": "Python 3.8.8 64-bit ('jovian': conda)"
  },
  "metadata": {
   "interpreter": {
    "hash": "3d272f5f920203b3371390e95080956d0ef2d2ee59e4c15a61e97266d1098e8c"
   }
  }
 },
 "nbformat": 4,
 "nbformat_minor": 2,
 "cells": [
  {
   "cell_type": "code",
   "execution_count": 1,
   "metadata": {},
   "outputs": [],
   "source": [
    "# imports\n",
    "import numpy as np\n",
    "import pandas as pd\n",
    "import json\n",
    "import requests\n",
    "import os\n",
    "import sys\n",
    "from operator import itemgetter\n",
    "\n",
    "# set up file paths and other data globals\n",
    "\n",
    "import config, modify\n",
    "\n",
    "sys.path.append(config.CURRENT_DIR_STR)\n",
    "sys.path.append(config.COVID_PACKAGE_STR)\n",
    "sys.path.append(config.UPDATE_FILE_STR)\n",
    "\n",
    "# local imports\n",
    "\n",
    "from covid_package.data_funcs.store_data import read_json_data, convert_owid_data, print_update_record\n",
    "from covid_package.data_funcs.update_data import check_refresh_data\n",
    "\n",
    "from covid_package.libs.valid_keys import fetch_l0_keys, fetch_l1_keys, fetch_l2_keys\n",
    "from covid_package.libs.aggregate_data import fetch_latest_data_date, fetch_date_list\n",
    "from covid_package.libs.country_list import fetch_countries\n",
    "\n",
    "from covid_package.api.get_country_records import get_country_records\n",
    "from covid_package.api.get_country_data import get_l0_data, get_l1_data, get_l2_iso_data, get_l2_date_data\n",
    "from covid_package.api.get_case_death_data import get_case_death_stdev\n",
    "\n",
    "from covid_package.plots.plot_results import subplot_share_axis"
   ]
  },
  {
   "cell_type": "code",
   "execution_count": 2,
   "metadata": {},
   "outputs": [
    {
     "output_type": "stream",
     "name": "stdout",
     "text": [
      "Checking that data is up to date\n",
      "Data file up to date\n",
      "Latest data is: 2021-04-20\n"
     ]
    }
   ],
   "source": [
    "# update data\n",
    "\n",
    "if check_refresh_data():\n",
    "    # read the updated(?) data file from the data dir\n",
    "    data = read_json_data(config.DATA_FILE_STR)\n",
    "    # convert the OWID_ keys\n",
    "    data = convert_owid_data(data)\n",
    "    # repopulate the keys\n",
    "    key_list = fetch_l0_keys(data)\n",
    "    # need this?\n",
    "    #country_list = fetch_countries(data)\n",
    "    # get the date of the newest data records in owid-covid-data.json\n",
    "    print(\"Latest data is:\", fetch_latest_data_date(data, key_list))"
   ]
  },
  {
   "cell_type": "code",
   "execution_count": 3,
   "metadata": {
    "tags": []
   },
   "outputs": [
    {
     "output_type": "stream",
     "name": "stdout",
     "text": [
      "Country_date_data complete...\n"
     ]
    }
   ],
   "source": [
    "#[print(k) for k in key_list]\n",
    "\n",
    "# get the data for a single country\n",
    "#print(get_l0_data(data, 'GBR'))\n",
    "\n",
    "# get the level 1 data for all countries\n",
    "#print(get_l1_data(data, key_list, ['population']))\n",
    "\n",
    "# list of valid level 1 keys\n",
    "#print(fetch_l1_keys(data, key_list))\n",
    "\n",
    "# list of valid level 2 keys\n",
    "#print(fetch_l2_keys(data, key_list))\n",
    "\n",
    "# for each country, get record numbers and data dates\n",
    "#print(get_country_records(data, key_list))\n",
    "\n",
    "# get an exhaustive list of dates in the data\n",
    "date_list = fetch_date_list(data, key_list)\n",
    "\n",
    "# define the list of required resources\n",
    "res = ['new_cases_per_million', 'new_deaths_per_million']\n",
    "\n",
    "# returns a dict with key = date, values = dict of isos\n",
    "# the value of each iso key is a list of the required resources\n",
    "country_date_data = get_l2_date_data(data, key_list, date_list, res)\n",
    "\n",
    "print(\"Country_date_data complete...\")"
   ]
  },
  {
   "cell_type": "code",
   "execution_count": 4,
   "metadata": {
    "tags": []
   },
   "outputs": [
    {
     "output_type": "stream",
     "name": "stdout",
     "text": [
      "{'wrl_new_cases_pm': 10.623, 'wrl_new_deaths_pm': 0.769, 'stdev_new_cases_pm': 37.013, 'stdev_new_deaths_pm': 3.272, 'country_vals': {'AFG': [0.565, 0.0], 'ALB': [5.56, 0.0], 'DZA': [2.987, 0.319], 'AND': [181.195, 25.885], 'AGO': [0.03, 0.0], 'ATG': [0.0, 0], 'ARG': [0.0, 0.022], 'ARM': [13.161, 0.337], 'AUS': [11.882, 0.078], 'AUT': [58.958, 1.999], 'AZE': [6.016, 0.0], 'BHS': [17.8, 2.543], 'BHR': [1.175, 0.0], 'BGD': [0.018, 0.006], 'BRB': [0.0, 0], 'BLR': [1.164, 0.106], 'BEL': [102.592, 10.613], 'BLZ': [0.0, 0], 'BEN': [0.33, 0], 'BTN': [0.0, 0], 'BOL': [0.685, 0.086], 'BIH': [11.887, 0.0], 'BWA': [0.0, 0.0], 'BRA': [5.264, 0.183], 'BRN': [4.572, 0.0], 'BGR': [3.31, 0.288], 'BFA': [1.005, 0.096], 'BDI': [0.0, 0], 'KHM': [0.0, 0], 'CMR': [1.507, 0.0], 'CAN': [27.37, 0.609], 'CPV': [0.0, 0.0], 'CAF': [0.0, 0], 'TCD': [0.0, 0], 'CHL': [15.327, 0.209], 'CHN': [0.057, 0.005], 'COL': [3.125, 0.02], 'COG': [0.0, 0], 'CRI': [5.497, 0.0], 'CIV': [0.417, 0.0], 'HRV': [23.385, 0.0], 'CUB': [2.295, 0.0], 'CYP': [66.218, 1.142], 'CZE': [18.676, 0.747], 'COD': [0.123, 0.011], 'DNK': [43.334, 2.417], 'DJI': [3.036, 0], 'DMA': [0.0, 0], 'DOM': [16.132, 0.553], 'ECU': [28.793, 1.02], 'EGY': [0.674, 0.059], 'SLV': [0.0, 0.0], 'GNQ': [2.138, 0], 'ERI': [0.0, 0], 'EST': [25.631, 0.754], 'SWZ': [0.0, 0], 'ETH': [0.026, 0], 'FJI': [0.0, 0], 'FIN': [5.053, 0.0], 'FRA': [71.081, 18.372], 'GAB': [0.899, 0.0], 'GMB': [0.0, 0.0], 'GEO': [1.755, 0], 'DEU': [72.377, 1.731], 'GHA': [1.094, 0.0], 'GRC': [9.69, 0.096], 'GRD': [0.0, 0], 'GTM': [0.056, 0.0], 'GIN': [0.609, 0], 'GNB': [0.508, 0], 'GUY': [8.9, 0.0], 'HTI': [0.0, 0], 'HND': [3.13, 0.303], 'HUN': [3.416, 0.414], 'ISL': [249.084, 0.0], 'IND': [0.436, 0.017], 'IDN': [0.545, 0.077], 'IRN': [35.574, 1.643], 'IRQ': [0.845, 0.05], 'IRL': [42.934, 2.835], 'ISR': [80.411, 0.924], 'ITA': [79.091, 12.024], 'JAM': [2.702, 0.675], 'JPN': [2.214, 0.04], 'JOR': [0.392, 0.0], 'KAZ': [1.971, 0.053], 'KEN': [0.409, 0.0], 'KWT': [6.557, 0], 'KGZ': [0.613, 0], 'LAO': [0.137, 0], 'LVA': [25.448, 0], 'LBN': [1.319, 0.293], 'LBR': [0.593, 0], 'LBY': [0.0, 0], 'LIE': [0.0, 0], 'LTU': [16.163, 0.735], 'LUX': [225.248, 9.585], 'MDG': [0.0, 0], 'MYS': [4.387, 0.062], 'MDV': [1.85, 0], 'MLI': [0.148, 0.049], 'MLT': [43.031, 0], 'MRT': [0.0, 0.0], 'MUS': [14.154, 0.786], 'MEX': [1.264, 0.062], 'MDA': [17.353, 0.248], 'MCO': [76.445, 0.0], 'MNG': [0.61, 0], 'MNE': [22.291, 0.0], 'MAR': [1.002, 0.081], 'MOZ': [0.064, 0], 'MMR': [0.0, 0.0], 'NAM': [1.181, 0], 'NPL': [0.0, 0], 'NLD': [60.053, 7.879], 'NZL': [12.65, 0.0], 'NIC': [0.0, 0.0], 'NER': [1.942, 0.083], 'NGA': [0.189, 0.0], 'MKD': [12.0, 0.96], 'NOR': [40.95, 0.922], 'OMN': [3.525, 0.0], 'PAK': [1.372, 0.032], 'PSE': [2.94, 0.0], 'PAN': [0.0, 0.0], 'PNG': [0.0, 0], 'PRY': [0.561, 0.0], 'PER': [7.825, 0.243], 'PHL': [2.072, 0.073], 'POL': [6.421, 0.264], 'PRT': [79.241, 2.648], 'QAT': [18.743, 0.0], 'ROU': [11.176, 0.52], 'RUS': [3.015, 0.048], 'RWA': [0.54, 0], 'KNA': [0.0, 0], 'LCA': [0.0, 0], 'VCT': [0.0, 0], 'SMR': [0.0, 0.0], 'SAU': [4.51, 0.172], 'SEN': [0.896, 0.06], 'SRB': [23.514, 1.764], 'SYC': [0.0, 0], 'SLE': [0.125, 0], 'SGP': [12.649, 0.0], 'SVK': [6.777, 0.183], 'SVN': [18.76, 0.0], 'SOM': [0.0, 0], 'ZAF': [0.455, 0.0], 'KOR': [1.97, 0.059], 'ESP': [175.276, 19.741], 'LKA': [0.14, 0.047], 'SDN': [0.0, 0.0], 'SUR': [1.705, 0], 'SWE': [48.122, 6.931], 'CHE': [134.379, 6.355], 'SYR': [0.0, 0.0], 'TWN': [0.294, 0.0], 'TZA': [0.017, 0.0], 'THA': [1.719, 0.029], 'TLS': [0.0, 0], 'TGO': [0.242, 0.121], 'TTO': [2.144, 1.429], 'TUN': [2.454, 0.169], 'TUR': [25.469, 0.747], 'UGA': [0.0, 0], 'UKR': [3.407, 0.069], 'ARE': [15.166, 0.202], 'GBR': [73.27, 9.914], 'USA': [97.458, 3.876], 'URY': [3.455, 0.288], 'UZB': [0.269, 0.0], 'VAT': [0.0, 0], 'VEN': [0.281, 0.0], 'VNM': [0.062, 0], 'ZMB': [0.054, 0], 'ZWE': [0.0, 0.0], 'KOS': [3.104, 0.0]}}\n",
      "C:\\Users\\Ipgnosis\\anaconda3\\envs\\jovian\\lib\\site-packages\\numpy\\core\\_methods.py:233: RuntimeWarning: Degrees of freedom <= 0 for slice\n",
      "  ret = _var(a, axis=axis, dtype=dtype, out=out, ddof=ddof,\n",
      "C:\\Users\\Ipgnosis\\anaconda3\\envs\\jovian\\lib\\site-packages\\numpy\\core\\_methods.py:194: RuntimeWarning: invalid value encountered in true_divide\n",
      "  arrmean = um.true_divide(\n",
      "C:\\Users\\Ipgnosis\\anaconda3\\envs\\jovian\\lib\\site-packages\\numpy\\core\\_methods.py:226: RuntimeWarning: invalid value encountered in double_scalars\n",
      "  ret = ret.dtype.type(ret / rcount)\n"
     ]
    }
   ],
   "source": [
    "# cycle through each day's collections of new cases and new deaths\n",
    "\n",
    "date_dict = dict()\n",
    "for day in country_date_data:\n",
    "\n",
    "    #print(country_date_data[day])\n",
    "\n",
    "    # calculate the wrl_new_ cases/deaths _per_million\n",
    "    if country_date_data[day]['WRL'][0]:\n",
    "        wrl_new_cases_pm = country_date_data[day]['WRL'][0]\n",
    "    else:\n",
    "        wrl_new_cases_pm = 0\n",
    "    \n",
    "    if country_date_data[day]['WRL'][1]:\n",
    "        wrl_new_deaths_pm = country_date_data[day]['WRL'][1]\n",
    "    else:\n",
    "        wrl_new_deaths_pm = 0\n",
    "\n",
    "    # pop the wrl vals out of the structure\n",
    "    # so they don't screw up the stdev calculation\n",
    "    country_date_data[day].pop('WRL')\n",
    "\n",
    "    # calculate the std dev for the day\n",
    "    mean_stdev = get_case_death_stdev(country_date_data[day])\n",
    "\n",
    "    \"\"\"\n",
    "    # safety checks\n",
    "\n",
    "    if mean_stdev[0] != wrl_new_cases_pm:\n",
    "        print('Deviation: for {}, WRL new_cases_per_million = {}; calcuated value = {}'.format(day, wrl_new_cases_pm, mean_stdev[0]))\n",
    "\n",
    "    if mean_stdev[2] != wrl_new_deaths_pm:\n",
    "        print('Deviation: for {}, WRL new_deaths_per_million = {}; calcuated value = {}'.format(day, wrl_new_deaths_pm, mean_stdev[2]))\n",
    "    \"\"\"\n",
    "\n",
    "    # populate the date dict for this day\n",
    "    date_dict[day] = {\n",
    "        \"wrl_new_cases_pm\": wrl_new_cases_pm,\n",
    "        \"wrl_new_deaths_pm\": wrl_new_deaths_pm,\n",
    "        \"stdev_new_cases_pm\": mean_stdev[0],\n",
    "        \"stdev_new_deaths_pm\": mean_stdev[1],\n",
    "        \"country_vals\": country_date_data[day]\n",
    "    }\n",
    "\n",
    "test_date = '2020-04-01'\n",
    "print(date_dict[test_date])"
   ]
  },
  {
   "cell_type": "code",
   "execution_count": 5,
   "metadata": {
    "tags": []
   },
   "outputs": [],
   "source": [
    "# calculate the max values for the graph y indices\n",
    "# maybe don't need this?\n",
    "\n",
    "#sort_y_cases = sorted(dates_obj.values(), key=itemgetter(0), reverse=True)\n",
    "#sort_y_deaths = sorted(dates_obj.values(), key=itemgetter(2), reverse=True)\n",
    "\n",
    "#max_y_cases = sort_y_cases[0][0]\n",
    "#max_y_deaths = sort_y_deaths[0][2]\n",
    "\n",
    "#print(max_y_cases)\n",
    "#print(max_y_deaths)"
   ]
  },
  {
   "cell_type": "code",
   "execution_count": 6,
   "metadata": {},
   "outputs": [
    {
     "output_type": "execute_result",
     "data": {
      "text/plain": [
       "'\\n# create the labels\\nlabels_obj = {}\\nlabels_obj[\\'chart_title\\'] = \"Global daily mean new cases and new deaths\"\\nlabels_obj[\\'x_axis_label\\'] = \"Date\"\\nlabels_obj[\\'y1_axis_label\\'] = \"Mean new cases\"\\nlabels_obj[\\'y2_axis_label\\'] = \"Mean new deaths\"\\nlabels_obj[\\'legend_1\\'] = \"New cases\"\\nlabels_obj[\\'legend_2\\'] = \"New deaths\"\\n\\n\\n# reorganize the results\\nresults_obj = {}\\nx_axis = []\\ny1_mean = []\\ny2_mean = []\\n#y1_std = []\\n#y2_std = []\\n\\nfor key, value in dates_obj.items():\\n    x_axis.append(key)\\n    y1_mean.append(value[0])\\n    #y1_std.append(value[1])\\n    y2_mean.append(value[2])\\n    #y2_std.append(value[3])\\n\\nresults_obj[\\'x_axis\\'] = x_axis\\nresults_obj[\\'y1_axis\\'] = y1_mean\\n#results_ojb[\\'y1_std\\'] = y1_std\\nresults_obj[\\'y2_axis\\'] = y2_mean\\n#results_ojb[\\'y2_std\\'] = y2_std\\n\\n#print(results[2])\\n\\n# call matplotlib driver function\\nsubplot_share_axis(labels_obj, results_obj)\\n'"
      ]
     },
     "metadata": {},
     "execution_count": 6
    }
   ],
   "source": [
    "# package up the matplotlib data\n",
    "\"\"\"\n",
    "# create the labels\n",
    "labels_obj = {}\n",
    "labels_obj['chart_title'] = \"Global daily mean new cases and new deaths\"\n",
    "labels_obj['x_axis_label'] = \"Date\"\n",
    "labels_obj['y1_axis_label'] = \"Mean new cases\"\n",
    "labels_obj['y2_axis_label'] = \"Mean new deaths\"\n",
    "labels_obj['legend_1'] = \"New cases\"\n",
    "labels_obj['legend_2'] = \"New deaths\"\n",
    "\n",
    "\n",
    "# reorganize the results\n",
    "results_obj = {}\n",
    "x_axis = []\n",
    "y1_mean = []\n",
    "y2_mean = []\n",
    "#y1_std = []\n",
    "#y2_std = []\n",
    "\n",
    "for key, value in dates_obj.items():\n",
    "    x_axis.append(key)\n",
    "    y1_mean.append(value[0])\n",
    "    #y1_std.append(value[1])\n",
    "    y2_mean.append(value[2])\n",
    "    #y2_std.append(value[3])\n",
    "\n",
    "results_obj['x_axis'] = x_axis\n",
    "results_obj['y1_axis'] = y1_mean\n",
    "#results_ojb['y1_std'] = y1_std\n",
    "results_obj['y2_axis'] = y2_mean\n",
    "#results_ojb['y2_std'] = y2_std\n",
    "\n",
    "#print(results[2])\n",
    "\n",
    "# call matplotlib driver function\n",
    "subplot_share_axis(labels_obj, results_obj)\n",
    "\"\"\""
   ]
  },
  {
   "cell_type": "code",
   "execution_count": null,
   "metadata": {},
   "outputs": [],
   "source": []
  }
 ]
}