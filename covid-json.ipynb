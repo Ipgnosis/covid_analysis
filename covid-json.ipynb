{
 "metadata": {
  "language_info": {
   "codemirror_mode": {
    "name": "ipython",
    "version": 3
   },
   "file_extension": ".py",
   "mimetype": "text/x-python",
   "name": "python",
   "nbconvert_exporter": "python",
   "pygments_lexer": "ipython3",
   "version": "3.8.5-final"
  },
  "orig_nbformat": 2,
  "kernelspec": {
   "name": "python385jvsc74a57bd0b3ba2566441a7c06988d0923437866b63cedc61552a5af99d1f4fb67d367b25f",
   "display_name": "Python 3.8.5 64-bit (conda)"
  }
 },
 "nbformat": 4,
 "nbformat_minor": 2,
 "cells": [
  {
   "cell_type": "code",
   "execution_count": 2,
   "metadata": {},
   "outputs": [],
   "source": [
    "# imports\n",
    "import numpy as np\n",
    "import pandas as pd\n",
    "import json\n",
    "import requests\n",
    "import os\n",
    "import sys\n",
    "#from pathlib import Path\n",
    "from operator import itemgetter"
   ]
  },
  {
   "cell_type": "code",
   "execution_count": 3,
   "metadata": {},
   "outputs": [],
   "source": [
    "# set up file paths and other data globals\n",
    "\n",
    "import config, modify\n",
    "\n",
    "sys.path.append(config.CURRENT_DIR_STR)\n",
    "sys.path.append(config.COVID_PACKAGE_STR)\n",
    "sys.path.append(config.UPDATE_FILE_STR)"
   ]
  },
  {
   "cell_type": "code",
   "execution_count": 4,
   "metadata": {},
   "outputs": [],
   "source": [
    "from covid_package.data_funcs.store_data import read_json_data, convert_owid_data\n",
    "from covid_package.data_funcs.update_data import check_refresh_data\n",
    "\n",
    "from covid_package.libs.valid_keys import fetch_l0_keys, fetch_l1_keys, fetch_l2_keys\n",
    "from covid_package.libs.aggregate_data import fetch_latest_data_date, fetch_date_list\n",
    "from covid_package.libs.country_list import fetch_countries\n",
    "\n",
    "from covid_package.api.get_country_records import get_country_records\n",
    "from covid_package.api.get_country_data import get_level_1_data, get_l2_keys_data, get_l2_date_data, get_country_data\n",
    "from covid_package.api.get_case_death_data import get_case_death_mean_std\n",
    "\n",
    "from covid_package.plots.plot_results import subplot_share_axis"
   ]
  },
  {
   "cell_type": "code",
   "execution_count": 6,
   "metadata": {},
   "outputs": [
    {
     "output_type": "stream",
     "name": "stdout",
     "text": [
      "Checking that data is up to date\n",
      "Expired data file\n",
      "Data updated\n",
      "Latest data is: 2021-04-09\n"
     ]
    }
   ],
   "source": [
    "if check_refresh_data():\n",
    "    # read the updated(?) data file from the data dir\n",
    "    data = read_json_data(config.DATA_FILE_STR)\n",
    "    # convert the KOS and WRL keys\n",
    "    data = convert_owid_data(data)\n",
    "    # repopulate the keys\n",
    "    key_list = fetch_l0_keys(data)\n",
    "    # need this?\n",
    "    #country_list = fetch_countries(data)\n",
    "\n",
    "print(\"Latest data is:\", fetch_latest_data_date(data, key_list))"
   ]
  },
  {
   "cell_type": "code",
   "execution_count": 18,
   "metadata": {},
   "outputs": [],
   "source": [
    "#for key in key_list:\n",
    "#    print(key)\n",
    "\n",
    "# get the data for a single country\n",
    "#print(get_country_data(data, 'WRL'))\n",
    "\n",
    "# get the level 1 data for all countries\n",
    "#print(get_level_1_data(data, key_list, ['population']))\n",
    "\n",
    "# list of valid level 1 keys\n",
    "#print(fetch_l1_keys(data, key_list))\n",
    "\n",
    "# list of valid level 2 keys\n",
    "#print(fetch_l2_keys(data, key_list))\n",
    "\n",
    "# for each country, get record numbers and data dates\n",
    "#print(get_country_records(data, key_list))"
   ]
  },
  {
   "cell_type": "code",
   "execution_count": 19,
   "metadata": {},
   "outputs": [],
   "source": [
    "# get an exhaustive list of dates in the data\n",
    "\n",
    "#date_list = fetch_date_list(data, key_list)\n",
    "date_list = ['2021-02-23']\n",
    "\n",
    "#print(\"Number of distinct dates = \", len(date_list))\n",
    "\n",
    "# define the list of required resources\n",
    "\n",
    "res = ['new_cases_per_million', 'new_deaths_per_million']\n",
    "\n",
    "# get the data from those resources\n",
    "\n",
    "#get_data = get_l2_keys_data(data, key_list, res)\n",
    "\n",
    "#for day in range(len(get_data['AFG'])):\n",
    "    #print(get_data['AFG'][day])"
   ]
  },
  {
   "cell_type": "code",
   "execution_count": 20,
   "metadata": {
    "tags": []
   },
   "outputs": [
    {
     "output_type": "error",
     "ename": "UnboundLocalError",
     "evalue": "local variable 'date_data' referenced before assignment",
     "traceback": [
      "\u001b[1;31m---------------------------------------------------------------------------\u001b[0m",
      "\u001b[1;31mUnboundLocalError\u001b[0m                         Traceback (most recent call last)",
      "\u001b[1;32m<ipython-input-20-2c2db985783e>\u001b[0m in \u001b[0;36m<module>\u001b[1;34m\u001b[0m\n\u001b[0;32m      6\u001b[0m \u001b[1;31m#this needs to be fixed - weighted averages on the country means\u001b[0m\u001b[1;33m\u001b[0m\u001b[1;33m\u001b[0m\u001b[1;33m\u001b[0m\u001b[0m\n\u001b[0;32m      7\u001b[0m \u001b[1;31m#####################\u001b[0m\u001b[1;33m\u001b[0m\u001b[1;33m\u001b[0m\u001b[1;33m\u001b[0m\u001b[0m\n\u001b[1;32m----> 8\u001b[1;33m \u001b[0mdates_obj\u001b[0m \u001b[1;33m=\u001b[0m \u001b[0mget_case_death_mean_std\u001b[0m\u001b[1;33m(\u001b[0m\u001b[0mdata\u001b[0m\u001b[1;33m,\u001b[0m \u001b[0mkey_list\u001b[0m\u001b[1;33m,\u001b[0m \u001b[0mdate_list\u001b[0m\u001b[1;33m,\u001b[0m \u001b[0mres\u001b[0m\u001b[1;33m)\u001b[0m\u001b[1;33m\u001b[0m\u001b[1;33m\u001b[0m\u001b[0m\n\u001b[0m\u001b[0;32m      9\u001b[0m \u001b[1;33m\u001b[0m\u001b[0m\n\u001b[0;32m     10\u001b[0m \u001b[0mprint\u001b[0m\u001b[1;33m(\u001b[0m\u001b[0mdates_obj\u001b[0m\u001b[1;33m)\u001b[0m\u001b[1;33m\u001b[0m\u001b[1;33m\u001b[0m\u001b[0m\n",
      "\u001b[1;32mc:\\Users\\Ipgnosis\\Documents\\Github\\covid_analysis\\covid_package\\api\\get_case_death_data.py\u001b[0m in \u001b[0;36mget_case_death_mean_std\u001b[1;34m(this_data, these_keys, these_dates, res_list)\u001b[0m\n\u001b[0;32m     26\u001b[0m         \u001b[0mdeath_list\u001b[0m \u001b[1;33m=\u001b[0m \u001b[1;33m[\u001b[0m\u001b[1;33m]\u001b[0m\u001b[1;33m\u001b[0m\u001b[1;33m\u001b[0m\u001b[0m\n\u001b[0;32m     27\u001b[0m \u001b[1;33m\u001b[0m\u001b[0m\n\u001b[1;32m---> 28\u001b[1;33m         \u001b[0mglobal_new_cases_pm\u001b[0m \u001b[1;33m=\u001b[0m \u001b[0mthis_data\u001b[0m\u001b[1;33m[\u001b[0m\u001b[1;34m'WRL'\u001b[0m\u001b[1;33m]\u001b[0m\u001b[1;33m[\u001b[0m\u001b[1;34m'data'\u001b[0m\u001b[1;33m]\u001b[0m\u001b[1;33m[\u001b[0m\u001b[0mdate_data\u001b[0m\u001b[1;33m]\u001b[0m\u001b[1;33m[\u001b[0m\u001b[0mres_list\u001b[0m\u001b[1;33m[\u001b[0m\u001b[1;36m0\u001b[0m\u001b[1;33m]\u001b[0m\u001b[1;33m]\u001b[0m\u001b[1;33m\u001b[0m\u001b[1;33m\u001b[0m\u001b[0m\n\u001b[0m\u001b[0;32m     29\u001b[0m         \u001b[0mglobal_new_deaths_pm\u001b[0m \u001b[1;33m=\u001b[0m \u001b[0mthis_data\u001b[0m\u001b[1;33m[\u001b[0m\u001b[1;34m'WRL'\u001b[0m\u001b[1;33m]\u001b[0m\u001b[1;33m[\u001b[0m\u001b[1;34m'data'\u001b[0m\u001b[1;33m]\u001b[0m\u001b[1;33m[\u001b[0m\u001b[0mdate_data\u001b[0m\u001b[1;33m]\u001b[0m\u001b[1;33m[\u001b[0m\u001b[0mres_list\u001b[0m\u001b[1;33m[\u001b[0m\u001b[1;36m1\u001b[0m\u001b[1;33m]\u001b[0m\u001b[1;33m]\u001b[0m\u001b[1;33m\u001b[0m\u001b[1;33m\u001b[0m\u001b[0m\n\u001b[0;32m     30\u001b[0m \u001b[1;33m\u001b[0m\u001b[0m\n",
      "\u001b[1;31mUnboundLocalError\u001b[0m: local variable 'date_data' referenced before assignment"
     ]
    }
   ],
   "source": [
    "# get a dictionary of tuples containing data for all countries reporting:\n",
    "# mean cases, standard deviation of cases, mean deaths, standard deviation of deaths\n",
    "# one for each date in the dataset\n",
    "\n",
    "#####################\n",
    "#this needs to be fixed - weighted averages on the country means\n",
    "#####################\n",
    "dates_obj = get_case_death_mean_std(data, key_list, date_list, res)\n",
    "\n",
    "print(dates_obj) "
   ]
  },
  {
   "cell_type": "code",
   "execution_count": 32,
   "metadata": {
    "tags": []
   },
   "outputs": [],
   "source": [
    "# calculate the max values for the graph y indices\n",
    "# maybe don't need this?\n",
    "\n",
    "#sort_y_cases = sorted(dates_obj.values(), key=itemgetter(0), reverse=True)\n",
    "#sort_y_deaths = sorted(dates_obj.values(), key=itemgetter(2), reverse=True)\n",
    "\n",
    "#max_y_cases = sort_y_cases[0][0]\n",
    "#max_y_deaths = sort_y_deaths[0][2]\n",
    "\n",
    "#print(max_y_cases)\n",
    "#print(max_y_deaths)"
   ]
  },
  {
   "cell_type": "code",
   "execution_count": 38,
   "metadata": {},
   "outputs": [
    {
     "output_type": "error",
     "ename": "AttributeError",
     "evalue": "'numpy.ndarray' object has no attribute 'legend'",
     "traceback": [
      "\u001b[1;31m---------------------------------------------------------------------------\u001b[0m",
      "\u001b[1;31mAttributeError\u001b[0m                            Traceback (most recent call last)",
      "\u001b[1;32m<ipython-input-38-af6952d3068a>\u001b[0m in \u001b[0;36m<module>\u001b[1;34m\u001b[0m\n\u001b[0;32m     35\u001b[0m \u001b[1;33m\u001b[0m\u001b[0m\n\u001b[0;32m     36\u001b[0m \u001b[1;31m# call matplotlib driver function\u001b[0m\u001b[1;33m\u001b[0m\u001b[1;33m\u001b[0m\u001b[1;33m\u001b[0m\u001b[0m\n\u001b[1;32m---> 37\u001b[1;33m \u001b[0msubplot_share_axis\u001b[0m\u001b[1;33m(\u001b[0m\u001b[0mlabels_obj\u001b[0m\u001b[1;33m,\u001b[0m \u001b[0mresults_obj\u001b[0m\u001b[1;33m)\u001b[0m\u001b[1;33m\u001b[0m\u001b[1;33m\u001b[0m\u001b[0m\n\u001b[0m",
      "\u001b[1;32mc:\\Users\\Ipgnosis\\Documents\\Github\\covid_analysis\\covid_package\\plots\\plot_results.py\u001b[0m in \u001b[0;36msubplot_share_axis\u001b[1;34m(labels, results)\u001b[0m\n",
      "\u001b[1;31mAttributeError\u001b[0m: 'numpy.ndarray' object has no attribute 'legend'"
     ]
    }
   ],
   "source": [
    "# package up the matplotlib data\n",
    "\n",
    "# create the labels\n",
    "labels_obj = {}\n",
    "labels_obj['chart_title'] = \"Global daily mean new cases and new deaths\"\n",
    "labels_obj['x_axis_label'] = \"Date\"\n",
    "labels_obj['y1_axis_label'] = \"Mean new cases\"\n",
    "labels_obj['y2_axis_label'] = \"Mean new deaths\"\n",
    "labels_obj['legend_1'] = \"New cases\"\n",
    "labels_obj['legend_2'] = \"New deaths\"\n",
    "\n",
    "\n",
    "# reorganize the results\n",
    "results_obj = {}\n",
    "x_axis = []\n",
    "y1_mean = []\n",
    "y2_mean = []\n",
    "#y1_std = []\n",
    "#y2_std = []\n",
    "\n",
    "for key, value in dates_obj.items():\n",
    "    x_axis.append(key)\n",
    "    y1_mean.append(value[0])\n",
    "    #y1_std.append(value[1])\n",
    "    y2_mean.append(value[2])\n",
    "    #y2_std.append(value[3])\n",
    "\n",
    "results_obj['x_axis'] = x_axis\n",
    "results_obj['y1_axis'] = y1_mean\n",
    "#results_ojb['y1_std'] = y1_std\n",
    "results_obj['y2_axis'] = y2_mean\n",
    "#results_ojb['y2_std'] = y2_std\n",
    "\n",
    "#print(results[2])\n",
    "\n",
    "# call matplotlib driver function\n",
    "subplot_share_axis(labels_obj, results_obj)"
   ]
  },
  {
   "cell_type": "code",
   "execution_count": null,
   "metadata": {},
   "outputs": [],
   "source": []
  }
 ]
}