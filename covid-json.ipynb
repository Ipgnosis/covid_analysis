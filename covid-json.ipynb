{
 "metadata": {
  "language_info": {
   "codemirror_mode": {
    "name": "ipython",
    "version": 3
   },
   "file_extension": ".py",
   "mimetype": "text/x-python",
   "name": "python",
   "nbconvert_exporter": "python",
   "pygments_lexer": "ipython3",
   "version": "3.8.5-final"
  },
  "orig_nbformat": 2,
  "kernelspec": {
   "name": "python3",
   "display_name": "Python 3",
   "language": "python"
  }
 },
 "nbformat": 4,
 "nbformat_minor": 2,
 "cells": [
  {
   "cell_type": "code",
   "execution_count": 1,
   "metadata": {},
   "outputs": [],
   "source": [
    "# imports\n",
    "import numpy as np\n",
    "import pandas as pd\n",
    "import json\n",
    "import requests\n",
    "import os\n",
    "import sys\n",
    "from pathlib import Path\n",
    "\n",
    "from covid_package.libs.store_data import read_data\n",
    "from covid_package.libs.valid_keys import fetch_l0_keys, fetch_l1_keys, fetch_l2_keys\n",
    "from covid_package.libs.aggregate_data import fetch_latest_data_date\n",
    "from covid_package.api.get_country_records import get_country_records\n",
    "from covid_package.libs.country_list import fetch_countries\n",
    "from covid_package.api.get_country_data import get_level_1_data"
   ]
  },
  {
   "cell_type": "code",
   "execution_count": 2,
   "metadata": {},
   "outputs": [],
   "source": [
    "# set up data file path\n",
    "CURRENT_DIR = os.path.abspath('')\n",
    "sys.path.append(CURRENT_DIR)\n",
    "\n",
    "FILE_NAME = 'owid-covid-data.json'\n",
    "file_path = os.path.join(CURRENT_DIR, 'data', FILE_NAME)\n",
    "DATA_FILE = Path(file_path)\n",
    "\n",
    "# read the data file from the data dir\n",
    "data = read_data(DATA_FILE)"
   ]
  },
  {
   "cell_type": "code",
   "execution_count": 3,
   "metadata": {},
   "outputs": [
    {
     "output_type": "stream",
     "name": "stdout",
     "text": [
      "Latest data is: 2021-02-28\n"
     ]
    }
   ],
   "source": [
    "# populate the keys\n",
    "key_list = fetch_l0_keys(data)\n",
    "country_list = fetch_countries(data)\n",
    "print(\"Latest data is:\", fetch_latest_data_date(data, key_list))"
   ]
  },
  {
   "cell_type": "code",
   "execution_count": 17,
   "metadata": {
    "tags": []
   },
   "outputs": [],
   "source": [
    "# list of valid level 1 keys\n",
    "#print(fetch_l1_keys(data, key_list))"
   ]
  },
  {
   "cell_type": "code",
   "execution_count": 18,
   "metadata": {},
   "outputs": [],
   "source": [
    "# list of valid level 2 keys\n",
    "#print(fetch_l2_keys(data, key_list))"
   ]
  },
  {
   "cell_type": "code",
   "execution_count": 20,
   "metadata": {},
   "outputs": [],
   "source": [
    "# for each country, get record numbers and data dates\n",
    "#print(get_country_records(data, key_list))"
   ]
  },
  {
   "cell_type": "code",
   "execution_count": 4,
   "metadata": {},
   "outputs": [
    {
     "output_type": "stream",
     "name": "stdout",
     "text": [
      "AFG {'population': 38928341.0, 'gdp_per_capita': 1803.987}\nALB {'population': 2877800.0, 'gdp_per_capita': 11803.431}\nDZA {'population': 43851043.0, 'gdp_per_capita': 13913.839}\nAND {'population': 77265.0}\nAGO {'population': 32866268.0, 'gdp_per_capita': 5819.495}\nAIA {'population': 15002.0}\nATG {'population': 97928.0, 'gdp_per_capita': 21490.943}\nARG {'population': 45195777.0, 'gdp_per_capita': 18933.907}\nARM {'population': 2963234.0, 'gdp_per_capita': 8787.58}\nAUS {'population': 25499881.0, 'gdp_per_capita': 44648.71}\nAUT {'population': 9006400.0, 'gdp_per_capita': 45436.686}\nAZE {'population': 10139175.0, 'gdp_per_capita': 15847.419}\nBHS {'population': 393248.0, 'gdp_per_capita': 27717.847}\nBHR {'population': 1701583.0, 'gdp_per_capita': 43290.705}\nBGD {'population': 164689383.0, 'gdp_per_capita': 3523.984}\nBRB {'population': 287371.0, 'gdp_per_capita': 16978.068}\nBLR {'population': 9449321.0, 'gdp_per_capita': 17167.967}\nBEL {'population': 11589616.0, 'gdp_per_capita': 42658.576}\nBLZ {'population': 397621.0, 'gdp_per_capita': 7824.362}\nBEN {'population': 12123198.0, 'gdp_per_capita': 2064.236}\nBMU {'population': 62273.0, 'gdp_per_capita': 50669.315}\nBTN {'population': 771612.0, 'gdp_per_capita': 8708.597}\nBOL {'population': 11673029.0, 'gdp_per_capita': 6885.829}\nBIH {'population': 3280815.0, 'gdp_per_capita': 11713.895}\nBWA {'population': 2351625.0, 'gdp_per_capita': 15807.374}\nBRA {'population': 212559409.0, 'gdp_per_capita': 14103.452}\nBRN {'population': 437483.0, 'gdp_per_capita': 71809.251}\nBGR {'population': 6948445.0, 'gdp_per_capita': 18563.307}\nBFA {'population': 20903278.0, 'gdp_per_capita': 1703.102}\nBDI {'population': 11890781.0, 'gdp_per_capita': 702.225}\nKHM {'population': 16718971.0, 'gdp_per_capita': 3645.07}\nCMR {'population': 26545864.0, 'gdp_per_capita': 3364.926}\nCAN {'population': 37742157.0, 'gdp_per_capita': 44017.591}\nCPV {'population': 555988.0, 'gdp_per_capita': 6222.554}\nCYM {'population': 65720.0, 'gdp_per_capita': 49903.029}\nCAF {'population': 4829764.0, 'gdp_per_capita': 661.24}\nTCD {'population': 16425859.0, 'gdp_per_capita': 1768.153}\nCHL {'population': 19116209.0, 'gdp_per_capita': 22767.037}\nCHN {'population': 1439323774.0, 'gdp_per_capita': 15308.712}\nCOL {'population': 50882884.0, 'gdp_per_capita': 13254.949}\nCOM {'population': 869595.0, 'gdp_per_capita': 1413.89}\nCOG {'population': 5518092.0, 'gdp_per_capita': 4881.406}\nCRI {'population': 5094114.0, 'gdp_per_capita': 15524.995}\nCIV {'population': 26378275.0, 'gdp_per_capita': 3601.006}\nHRV {'population': 4105268.0, 'gdp_per_capita': 22669.797}\nCUB {'population': 11326616.0}\nCYP {'population': 875899.0, 'gdp_per_capita': 32415.132}\nCZE {'population': 10708982.0, 'gdp_per_capita': 32605.906}\nCOD {'population': 89561404.0, 'gdp_per_capita': 808.133}\nDNK {'population': 5792203.0, 'gdp_per_capita': 46682.515}\nDJI {'population': 988002.0, 'gdp_per_capita': 2705.406}\nDMA {'population': 71991.0, 'gdp_per_capita': 9673.367}\nDOM {'population': 10847904.0, 'gdp_per_capita': 14600.861}\nECU {'population': 17643060.0, 'gdp_per_capita': 10581.936}\nEGY {'population': 102334403.0, 'gdp_per_capita': 10550.206}\nSLV {'population': 6486201.0, 'gdp_per_capita': 7292.458}\nGNQ {'population': 1402985.0, 'gdp_per_capita': 22604.873}\nERI {'population': 3546427.0, 'gdp_per_capita': 1510.459}\nEST {'population': 1326539.0, 'gdp_per_capita': 29481.252}\nSWZ {'population': 1160164.0, 'gdp_per_capita': 7738.975}\nETH {'population': 114963583.0, 'gdp_per_capita': 1729.927}\nFRO {'population': 48865.0}\nFLK {'population': 3483.0}\nFJI {'population': 896444.0, 'gdp_per_capita': 8702.975}\nFIN {'population': 5540718.0, 'gdp_per_capita': 40585.721}\nFRA {'population': 65273512.0, 'gdp_per_capita': 38605.671}\nGAB {'population': 2225728.0, 'gdp_per_capita': 16562.413}\nGMB {'population': 2416664.0, 'gdp_per_capita': 1561.767}\nGEO {'population': 3989175.0, 'gdp_per_capita': 9745.079}\nDEU {'population': 83783945.0, 'gdp_per_capita': 45229.245}\nGHA {'population': 31072945.0, 'gdp_per_capita': 4227.63}\nGIB {'population': 33691.0}\nGRC {'population': 10423056.0, 'gdp_per_capita': 24574.382}\nGRL {'population': 56772.0}\nGRD {'population': 112519.0, 'gdp_per_capita': 13593.877}\nGTM {'population': 17915567.0, 'gdp_per_capita': 7423.808}\nGGY {'population': 67052.0}\nGIN {'population': 13132792.0, 'gdp_per_capita': 1998.926}\nGNB {'population': 1967998.0, 'gdp_per_capita': 1548.675}\nGUY {'population': 786559.0, 'gdp_per_capita': 7435.047}\nHTI {'population': 11402533.0, 'gdp_per_capita': 1653.173}\nHND {'population': 9904608.0, 'gdp_per_capita': 4541.795}\nHKG {'population': 7496988.0, 'gdp_per_capita': 56054.92}\nHUN {'population': 9660350.0, 'gdp_per_capita': 26777.561}\nISL {'population': 341250.0, 'gdp_per_capita': 46482.958}\nIND {'population': 1380004385.0, 'gdp_per_capita': 6426.674}\nIDN {'population': 273523621.0, 'gdp_per_capita': 11188.744}\nIRN {'population': 83992953.0, 'gdp_per_capita': 19082.62}\nIRQ {'population': 40222503.0, 'gdp_per_capita': 15663.986}\nIRL {'population': 4937796.0, 'gdp_per_capita': 67335.293}\nIMN {'population': 85032.0}\nISR {'population': 8655541.0, 'gdp_per_capita': 33132.32}\nITA {'population': 60461828.0, 'gdp_per_capita': 35220.084}\nJAM {'population': 2961161.0, 'gdp_per_capita': 8193.571}\nJPN {'population': 126476458.0, 'gdp_per_capita': 39002.223}\nJEY {'population': 101073.0}\nJOR {'population': 10203140.0, 'gdp_per_capita': 8337.49}\nKAZ {'population': 18776707.0, 'gdp_per_capita': 24055.588}\nKEN {'population': 53771300.0, 'gdp_per_capita': 2993.028}\nKWT {'population': 4270563.0, 'gdp_per_capita': 65530.537}\nKGZ {'population': 6524191.0, 'gdp_per_capita': 3393.474}\nLAO {'population': 7275556.0, 'gdp_per_capita': 6397.36}\nLVA {'population': 1886202.0, 'gdp_per_capita': 25063.846}\nLBN {'population': 6825442.0, 'gdp_per_capita': 13367.565}\nLSO {'population': 2142252.0, 'gdp_per_capita': 2851.153}\nLBR {'population': 5057677.0, 'gdp_per_capita': 752.788}\nLBY {'population': 6871287.0, 'gdp_per_capita': 17881.509}\nLIE {'population': 38137.0}\nLTU {'population': 2722291.0, 'gdp_per_capita': 29524.265}\nLUX {'population': 625976.0, 'gdp_per_capita': 94277.965}\nMAC {'population': 649342.0, 'gdp_per_capita': 104861.851}\nMDG {'population': 27691019.0, 'gdp_per_capita': 1416.44}\nMWI {'population': 19129955.0, 'gdp_per_capita': 1095.042}\nMYS {'population': 32365998.0, 'gdp_per_capita': 26808.164}\nMDV {'population': 540542.0, 'gdp_per_capita': 15183.616}\nMLI {'population': 20250834.0, 'gdp_per_capita': 2014.306}\nMLT {'population': 441539.0, 'gdp_per_capita': 36513.323}\nMHL {'population': 59194.0, 'gdp_per_capita': 3819.202}\nMRT {'population': 4649660.0, 'gdp_per_capita': 3597.633}\nMUS {'population': 1271767.0, 'gdp_per_capita': 20292.745}\nMEX {'population': 128932753.0, 'gdp_per_capita': 17336.469}\nFSM {'population': 115021.0, 'gdp_per_capita': 3299.464}\nMDA {'population': 4033963.0, 'gdp_per_capita': 5189.972}\nMCO {'population': 39244.0}\nMNG {'population': 3278292.0, 'gdp_per_capita': 11840.846}\nMNE {'population': 628062.0, 'gdp_per_capita': 16409.288}\nMAR {'population': 36910558.0, 'gdp_per_capita': 7485.013}\nMOZ {'population': 31255435.0, 'gdp_per_capita': 1136.103}\nMMR {'population': 54409794.0, 'gdp_per_capita': 5591.597}\nNAM {'population': 2540916.0, 'gdp_per_capita': 9541.808}\nNPL {'population': 29136808.0, 'gdp_per_capita': 2442.804}\nNLD {'population': 17134873.0, 'gdp_per_capita': 48472.545}\nNZL {'population': 4822233.0, 'gdp_per_capita': 36085.843}\nNIC {'population': 6624554.0, 'gdp_per_capita': 5321.444}\nNER {'population': 24206636.0, 'gdp_per_capita': 926.0}\nNGA {'population': 206139587.0, 'gdp_per_capita': 5338.454}\nMKD {'population': 2083380.0, 'gdp_per_capita': 13111.214}\nNOR {'population': 5421242.0, 'gdp_per_capita': 64800.057}\nOMN {'population': 5106622.0, 'gdp_per_capita': 37960.709}\nPAK {'population': 220892331.0, 'gdp_per_capita': 5034.708}\nPSE {'population': 5101416.0, 'gdp_per_capita': 4449.898}\nPAN {'population': 4314768.0, 'gdp_per_capita': 22267.037}\nPNG {'population': 8947027.0, 'gdp_per_capita': 3823.194}\nPRY {'population': 7132530.0, 'gdp_per_capita': 8827.01}\nPER {'population': 32971846.0, 'gdp_per_capita': 12236.706}\nPHL {'population': 109581085.0, 'gdp_per_capita': 7599.188}\nPOL {'population': 37846605.0, 'gdp_per_capita': 27216.445}\nPRT {'population': 10196707.0, 'gdp_per_capita': 27936.896}\nQAT {'population': 2881060.0, 'gdp_per_capita': 116935.6}\nROU {'population': 19237682.0, 'gdp_per_capita': 23313.199}\nRUS {'population': 145934460.0, 'gdp_per_capita': 24765.954}\nRWA {'population': 12952209.0, 'gdp_per_capita': 1854.211}\nSHN {'population': 6071.0}\nKNA {'population': 53192.0, 'gdp_per_capita': 24654.385}\nLCA {'population': 183629.0, 'gdp_per_capita': 12951.839}\nVCT {'population': 110947.0, 'gdp_per_capita': 10727.146}\nWSM {'population': 198410.0, 'gdp_per_capita': 6021.557}\nSMR {'population': 33938.0, 'gdp_per_capita': 56861.47}\nSTP {'population': 219161.0, 'gdp_per_capita': 3052.714}\nSAU {'population': 34813867.0, 'gdp_per_capita': 49045.411}\nSEN {'population': 16743930.0, 'gdp_per_capita': 2470.58}\nSRB {'population': 6804596.0, 'gdp_per_capita': 14048.881}\nSYC {'population': 98340.0, 'gdp_per_capita': 26382.287}\nSLE {'population': 7976985.0, 'gdp_per_capita': 1390.3}\nSGP {'population': 5850343.0, 'gdp_per_capita': 85535.383}\nSVK {'population': 5459643.0, 'gdp_per_capita': 30155.152}\nSVN {'population': 2078932.0, 'gdp_per_capita': 31400.84}\nSLB {'population': 686878.0, 'gdp_per_capita': 2205.923}\nSOM {'population': 15893219.0}\nZAF {'population': 59308690.0, 'gdp_per_capita': 12294.876}\nKOR {'population': 51269183.0, 'gdp_per_capita': 35938.374}\nSSD {'population': 11193729.0, 'gdp_per_capita': 1569.888}\nESP {'population': 46754783.0, 'gdp_per_capita': 34272.36}\nLKA {'population': 21413250.0, 'gdp_per_capita': 11669.077}\nSDN {'population': 43849269.0, 'gdp_per_capita': 4466.507}\nSUR {'population': 586634.0, 'gdp_per_capita': 13767.119}\nSWE {'population': 10099270.0, 'gdp_per_capita': 46949.283}\nCHE {'population': 8654618.0, 'gdp_per_capita': 57410.166}\nSYR {'population': 17500657.0}\nTWN {'population': 23816775.0}\nTJK {'population': 9537642.0, 'gdp_per_capita': 2896.913}\nTZA {'population': 59734213.0, 'gdp_per_capita': 2683.304}\nTHA {'population': 69799978.0, 'gdp_per_capita': 16277.671}\nTLS {'population': 1318442.0, 'gdp_per_capita': 6570.102}\nTGO {'population': 8278737.0, 'gdp_per_capita': 1429.813}\nTTO {'population': 1399491.0, 'gdp_per_capita': 28763.071}\nTUN {'population': 11818618.0, 'gdp_per_capita': 10849.297}\nTUR {'population': 84339067.0, 'gdp_per_capita': 25129.341}\nTCA {'population': 38718.0}\nUGA {'population': 45741000.0, 'gdp_per_capita': 1697.707}\nUKR {'population': 43733759.0, 'gdp_per_capita': 7894.393}\nARE {'population': 9890400.0, 'gdp_per_capita': 67293.483}\nGBR {'population': 67886004.0, 'gdp_per_capita': 39753.244}\nUSA {'population': 331002647.0, 'gdp_per_capita': 54225.446}\nURY {'population': 3473727.0, 'gdp_per_capita': 20551.409}\nUZB {'population': 33469199.0, 'gdp_per_capita': 6253.104}\nVUT {'population': 307150.0, 'gdp_per_capita': 2921.909}\nVAT {'population': 809.0}\nVEN {'population': 28435943.0, 'gdp_per_capita': 16745.022}\nVNM {'population': 97338583.0, 'gdp_per_capita': 6171.884}\nYEM {'population': 29825968.0, 'gdp_per_capita': 1479.147}\nZMB {'population': 18383956.0, 'gdp_per_capita': 3689.251}\nZWE {'population': 14862927.0, 'gdp_per_capita': 1899.775}\nKOS {'population': 1932774.0, 'gdp_per_capita': 9795.834}\n"
     ]
    }
   ],
   "source": [
    "req_res = ['population', 'gdp_per_capita']\n",
    "l1_data = get_level_1_data(data, key_list, req_res)\n",
    "\n",
    "for key in l1_data:\n",
    "    print(key, l1_data[key])\n"
   ]
  },
  {
   "cell_type": "code",
   "execution_count": null,
   "metadata": {},
   "outputs": [],
   "source": []
  }
 ]
}