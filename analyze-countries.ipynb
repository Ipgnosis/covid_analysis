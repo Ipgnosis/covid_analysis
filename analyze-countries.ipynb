{
 "metadata": {
  "language_info": {
   "codemirror_mode": {
    "name": "ipython",
    "version": 3
   },
   "file_extension": ".py",
   "mimetype": "text/x-python",
   "name": "python",
   "nbconvert_exporter": "python",
   "pygments_lexer": "ipython3",
   "version": "3.8.8"
  },
  "orig_nbformat": 2,
  "kernelspec": {
   "name": "python388jvsc74a57bd03d272f5f920203b3371390e95080956d0ef2d2ee59e4c15a61e97266d1098e8c",
   "display_name": "Python 3.8.8 64-bit ('jovian': conda)"
  }
 },
 "nbformat": 4,
 "nbformat_minor": 2,
 "cells": [
  {
   "cell_type": "code",
   "execution_count": 1,
   "metadata": {},
   "outputs": [
    {
     "output_type": "stream",
     "name": "stdout",
     "text": [
      "Imports complete\n"
     ]
    }
   ],
   "source": [
    "# imports\n",
    "from datetime import datetime, date\n",
    "\n",
    "import matplotlib.pyplot as plt\n",
    "import matplotlib.dates as mdates\n",
    "\n",
    "# set up file paths and other data globals\n",
    "\n",
    "import config\n",
    "import modify\n",
    "\n",
    "# local imports\n",
    "\n",
    "from covid_package.data_funcs.store_data import read_json_data, convert_owid_data\n",
    "\n",
    "from covid_package.libs.valid_keys import fetch_l0_keys\n",
    "from covid_package.libs.aggregate_data import fetch_latest_data_date, fetch_date_list\n",
    "from covid_package.libs.resource_min_max import get_min_max\n",
    "\n",
    "print(\"Imports complete\")"
   ]
  },
  {
   "cell_type": "code",
   "execution_count": 2,
   "metadata": {},
   "outputs": [
    {
     "output_type": "stream",
     "name": "stdout",
     "text": [
      "Latest data is: 2021-05-26\nCurrent UTC 0 dateime = 2021-05-27T22:32:19\n"
     ]
    }
   ],
   "source": [
    "# load data\n",
    "data = read_json_data(config.DATA_FILE_STR)\n",
    "\n",
    "# convert the OWID_ keys\n",
    "data = convert_owid_data(data)\n",
    "\n",
    "# populate the country keys\n",
    "key_list = fetch_l0_keys(data)\n",
    "\n",
    "# get an exhaustive list of dates CONTAINING VALID DATA in the data\n",
    "date_list = fetch_date_list(data)\n",
    "\n",
    "# get the date of the newest data records in owid-covid-data.json\n",
    "latest_data = fetch_latest_data_date(data)\n",
    "print(\"Latest data is: {}; last updated at: {}\", latest_data)\n",
    "print(\"Current UTC 0 dateime = {}\".format(datetime.utcnow().strftime(\"%Y-%m-%dT%H:%M:%S%z\")))"
   ]
  },
  {
   "cell_type": "code",
   "execution_count": 5,
   "metadata": {},
   "outputs": [
    {
     "output_type": "stream",
     "name": "stdout",
     "text": [
      "[('SYC', 18293.675), ('VAT', 8652.658), ('MDV', 4058.889), ('AND', 3869.799), ('BLZ', 3475.672), ('SWE', 3216.569), ('LUX', 3142.293), ('SMR', 2622.429), ('CHE', 2533.445), ('KOS', 2202.534), ('LCA', 2118.402), ('URY', 2098.323), ('BEL', 2064.003), ('ESP', 2006.682), ('BHR', 1867.085), ('KGZ', 1763.437), ('FRA', 1745.006), ('IRL', 1666.128), ('CZE', 1659.635), ('LIE', 1625.718), ('SVN', 1613.328), ('PRT', 1611.501), ('EST', 1474.514), ('SRB', 1467.097), ('LTU', 1463.473), ('VCT', 1424.103), ('MNE', 1391.582), ('GEO', 1366.197), ('GNQ', 1247.34), ('PAN', 1201.919), ('CRI', 1176.26), ('HUN', 1166.107), ('SVK', 1156.669), ('MLT', 1155.051), ('MCO', 1146.672), ('BIH', 1144.533), ('HRV', 1125.383), ('BGR', 1088.013), ('CYP', 1074.325), ('AUT', 1064.354), ('GBR', 1004.507), ('BWA', 1001.86), ('KAZ', 998.95), ('LVA', 986.639), ('JOR', 934.516), ('POL', 931.471), ('USA', 907.274), ('LBN', 901.627), ('CPV', 883.113), ('ARG', 877.339), ('SWZ', 876.6), ('ATG', 837.35), ('ARM', 835.574), ('QAT', 817.407), ('BHS', 788.307), ('DNK', 778.288), ('MNG', 770.828), ('NLD', 762.889), ('TUR', 747.957), ('CHL', 731.84), ('MKD', 725.264), ('BRB', 720.323), ('OMN', 694.001), ('STP', 688.991), ('ITA', 676.493), ('ECU', 653.855), ('PER', 647.765), ('DEU', 585.363), ('PSE', 565.333), ('MDA', 563.466), ('PRY', 537.818), ('ROU', 533.796), ('TTO', 505.898), ('BOL', 487.962), ('TUN', 486.69), ('BRA', 471.2), ('UKR', 467.739), ('COL', 461.589), ('AZE', 438.99), ('LSO', 434.589), ('ALB', 430.537), ('CAN', 427.665), ('DJI', 420.04), ('GRC', 414.658), ('GUY', 408.107), ('ARE', 402.107), ('KWT', 401.821), ('SUR', 383.544), ('ZAF', 370.603), ('CMR', 364.2), ('TLS', 325.384), ('NPL', 319.767), ('ISL', 310.623), ('NOR', 309.892), ('IRN', 304.573), ('IND', 300.135), ('JAM', 296.505), ('HND', 274.62), ('COM', 269.091), ('NAM', 268.801), ('GAB', 267.328), ('SGP', 243.746), ('LBY', 238.529), ('GTM', 236.275), ('DMA', 236.141), ('GRD', 231.072), ('MYS', 231.045), ('DOM', 218.475), ('MEX', 218.059), ('IRQ', 216.197), ('BLR', 209.01), ('RUS', 202.139), ('KNA', 187.998), ('LKA', 169.194), ('MAR', 167.838), ('FIN', 155.756), ('SLV', 153.865), ('SAU', 141.294), ('PHL', 139.604), ('THA', 138.037), ('CUB', 122.102), ('COG', 117.613), ('WRL', 116.23), ('GMB', 102.621), ('ZMB', 97.694), ('ZWE', 91.839), ('VEN', 80.989), ('GNB', 79.268), ('BTN', 73.871), ('NIC', 72.458), ('MWI', 68.793), ('MRT', 63.661), ('JPN', 62.573), ('PNG', 61.585), ('BRN', 59.431), ('ERI', 58.933), ('KHM', 56.104), ('PAK', 54.656), ('IDN', 53.078), ('BEN', 52.544), ('GHA', 50.945), ('CAF', 50.934), ('MHL', 50.681), ('TGO', 48.921), ('MUS', 48.751), ('BGD', 46.305), ('RWA', 44.317), ('MDG', 43.371), ('MOZ', 40.793), ('UGA', 40.642), ('MMR', 39.662), ('AFG', 38.147), ('KEN', 37.343), ('FJI', 32.35), ('SSD', 31.089), ('TWN', 30.357), ('UZB', 29.311), ('CIV', 29.077), ('AUS', 28.079), ('SDN', 27.709), ('SEN', 27.592), ('DZA', 25.837), ('HTI', 24.907), ('KOR', 24.128), ('GIN', 23.986), ('HKG', 23.076), ('TJK', 22.123), ('ETH', 20.633), ('SOM', 20.449), ('MLI', 20.394), ('LBR', 19.179), ('NZL', 18.456), ('SLE', 18.303), ('EGY', 17.335), ('LAO', 15.531), ('BFA', 15.069), ('BDI', 13.96), ('AGO', 12.323), ('NGA', 11.953), ('CHN', 10.514), ('SYR', 9.828), ('FSM', 8.694), ('SLB', 7.279), ('VUT', 6.511), ('COD', 6.108), ('NER', 5.99), ('YEM', 5.834), ('TCD', 5.54), ('VNM', 5.414), ('WSM', 5.04), ('TZA', 3.03), ('ABW', 0), ('AIA', 0), ('BES', 0), ('BMU', 0), ('CUW', 0), ('CYM', 0), ('CYN', 0), ('FLK', 0), ('FRO', 0), ('GGY', 0), ('GIB', 0), ('GRL', 0), ('IMN', 0), ('ISR', 0), ('JEY', 0), ('MAC', 0), ('MSR', 0), ('NCL', 0), ('NRU', 0), ('PCN', 0), ('PYF', 0), ('SHN', 0), ('SXM', 0), ('TCA', 0), ('TKM', 0), ('TON', 0), ('TUV', 0), ('VGB', 0), ('WLF', 0)]\n[('ECU', 218.329), ('SMR', 176.793), ('BOL', 141.865), ('PER', 125.653), ('KGZ', 111.431), ('LIE', 104.885), ('ATG', 91.904), ('AND', 77.655), ('MCO', 76.445), ('ARG', 74.144), ('BIH', 63.094), ('CHL', 55.293), ('LBN', 51.425), ('SWE', 46.934), ('LUX', 46.328), ('IRL', 44.554), ('BEL', 42.797), ('SYC', 40.675), ('BLZ', 40.239), ('BHS', 38.144), ('SVK', 37.365), ('KOS', 35.7), ('BGR', 35.691), ('ESP', 34.713), ('HUN', 32.193), ('SVN', 31.747), ('PRT', 29.715), ('MNE', 28.66), ('CZE', 27.547), ('GBR', 26.898), ('BWA', 26.365), ('URY', 25.333), ('POL', 25.26), ('MKD', 24.479), ('AUT', 24.205), ('MEX', 23.656), ('LVA', 23.327), ('GNQ', 22.809), ('HRV', 22.41), ('LTU', 22.408), ('LCA', 21.783), ('FRA', 21.283), ('NPL', 21.245), ('DEU', 20.696), ('SWZ', 20.687), ('BRA', 19.99), ('PRY', 19.769), ('CHE', 19.758), ('MDV', 18.5), ('TUN', 18.361), ('STP', 18.251), ('VCT', 18.027), ('KAZ', 17.255), ('GUY', 16.528), ('CRI', 16.49), ('BHR', 16.455), ('TTO', 16.435), ('ITA', 16.424), ('MLT', 15.854), ('SUR', 15.342), ('ISL', 14.652), ('ZAF', 14.231), ('PAN', 14.137), ('ARM', 13.836), ('COM', 13.8), ('NLD', 13.656), ('USA', 13.52), ('COL', 13.502), ('GEO', 13.286), ('OMN', 13.12), ('GRC', 12.856), ('EST', 12.815), ('HND', 12.519), ('ROU', 12.32), ('SRB', 11.757), ('LSO', 11.67), ('MDA', 11.403), ('UKR', 11.113), ('JOR', 10.879), ('BRB', 10.439), ('DNK', 10.359), ('NAM', 9.445), ('CYP', 9.133), ('DJI', 9.109), ('CPV', 8.993), ('GRD', 8.887), ('FIN', 7.761), ('LBY', 7.713), ('ALB', 7.297), ('MNG', 7.016), ('PSE', 6.665), ('CAN', 6.465), ('SDN', 6.34), ('IRN', 5.905), ('GMB', 5.793), ('JAM', 5.741), ('NOR', 4.98), ('CMR', 4.897), ('SLV', 4.779), ('ZWE', 4.71), ('TUR', 4.672), ('AZE', 4.635), ('COG', 4.349), ('RUS', 4.276), ('LKA', 3.829), ('MWI', 3.816), ('PHL', 3.659), ('ZMB', 3.644), ('DOM', 3.595), ('QAT', 3.471), ('GTM', 3.405), ('LBR', 3.361), ('IND', 3.282), ('KWT', 3.278), ('VUT', 3.256), ('IRQ', 3.033), ('MRT', 2.796), ('NIC', 2.717), ('GNB', 2.541), ('MAR', 2.493), ('SOM', 2.391), ('MUS', 2.359), ('AUS', 2.314), ('WRL', 2.297), ('BRN', 2.286), ('TLS', 2.275), ('GAB', 2.246), ('COD', 2.188), ('ARE', 2.022), ('JPN', 1.961), ('MYS', 1.946), ('MOZ', 1.856), ('YEM', 1.743), ('IDN', 1.74), ('SAU', 1.666), ('CUB', 1.589), ('PNG', 1.453), ('CAF', 1.449), ('PAK', 1.417), ('BTN', 1.296), ('AFG', 1.182), ('BLR', 1.164), ('SYR', 1.143), ('FJI', 1.116), ('SEN', 1.075), ('VEN', 1.055), ('EGY', 0.948), ('MDG', 0.939), ('GHA', 0.901), ('CHN', 0.896), ('MMR', 0.882), ('SLE', 0.878), ('ERI', 0.846), ('TJK', 0.839), ('NZL', 0.829), ('HKG', 0.8), ('KOR', 0.78), ('KEN', 0.762), ('BEN', 0.742), ('HTI', 0.702), ('RWA', 0.695), ('DZA', 0.684), ('BGD', 0.68), ('TCD', 0.609), ('KHM', 0.598), ('THA', 0.587), ('AGO', 0.548), ('MLI', 0.543), ('TGO', 0.483), ('TWN', 0.462), ('SSD', 0.447), ('ETH', 0.409), ('UGA', 0.35), ('SGP', 0.342), ('GIN', 0.305), ('NER', 0.289), ('BDI', 0.252), ('BFA', 0.239), ('UZB', 0.239), ('CIV', 0.227), ('NGA', 0.15), ('LAO', 0.137), ('TZA', 0.1), ('VNM', 0.031), ('ABW', 0), ('AIA', 0), ('BES', 0), ('BMU', 0), ('CUW', 0), ('CYM', 0), ('CYN', 0), ('DMA', 0), ('FLK', 0), ('FRO', 0), ('FSM', 0), ('GGY', 0), ('GIB', 0), ('GRL', 0), ('IMN', 0), ('ISR', 0), ('JEY', 0), ('KNA', 0), ('MAC', 0), ('MHL', 0), ('MSR', 0), ('NCL', 0), ('NRU', 0), ('PCN', 0), ('PYF', 0), ('SHN', 0), ('SLB', 0), ('SXM', 0), ('TCA', 0), ('TKM', 0), ('TON', 0), ('TUV', 0), ('VAT', 0), ('VGB', 0), ('WLF', 0), ('WSM', 0)]\n"
     ]
    },
    {
     "output_type": "execute_result",
     "data": {
      "text/plain": [
       "'\\n# cycle through each day\\'s collections of new cases and new deaths\\ndate_dict = dict()\\nfor day in country_date_data:\\n\\n    #print(country_date_data[day])\\n\\n    # calculate the wrl_new_ cases/deaths _per_million\\n    if country_date_data[day][\\'WRL\\'][0]:\\n        wrl_new_cases_pm = country_date_data[day][\\'WRL\\'][0]\\n    else:\\n        wrl_new_cases_pm = 0\\n    \\n    if country_date_data[day][\\'WRL\\'][1]:\\n        wrl_new_deaths_pm = country_date_data[day][\\'WRL\\'][1]\\n    else:\\n        wrl_new_deaths_pm = 0\\n\\n    # pop the wrl vals out of the structure\\n    # so they don\\'t screw up the stdev calculation\\n    country_date_data[day].pop(\\'WRL\\')\\n\\n    # calculate the std dev for the day\\n    mean_stdev = get_case_death_stdev(country_date_data[day])\\n\\n    # populate the date dict for this day\\n    date_dict[day] = {\\n        \"wrl_new_cases_pm\": wrl_new_cases_pm,\\n        \"wrl_new_deaths_pm\": wrl_new_deaths_pm,\\n        \"stdev_upper_new_cases_pm\": wrl_new_cases_pm + mean_stdev[0],\\n        \"stdev_lower_new_cases_pm\": max(wrl_new_cases_pm - mean_stdev[0], 0),\\n        \"stdev_upper_new_deaths_pm\": wrl_new_deaths_pm + mean_stdev[1],\\n        \"stdev_lower_new_deaths_pm\": max(wrl_new_deaths_pm - mean_stdev[1], 0),\\n        \"country_vals\": country_date_data[day]\\n    }\\n\\nprint(\"date_dict compiled\")\\n'"
      ]
     },
     "metadata": {},
     "execution_count": 5
    }
   ],
   "source": [
    "# define the list of required resources\n",
    "res1 = 'new_cases_per_million'\n",
    "res2 = 'new_deaths_per_million'\n",
    "\n",
    "max_min = 'max'\n",
    "lvl = 'l2'\n",
    "cnt = 0\n",
    "\n",
    "# returns a dict with key = date, values = dict of isos\n",
    "# the value of each iso key is a list of the required resources\n",
    "full_vax_data = get_min_max(data, lvl, max_min, res1, cnt)\n",
    "string_idx = get_min_max(data, lvl, max_min, res2, cnt)\n",
    "\n",
    "print(full_vax_data)\n",
    "print(string_idx)"
   ]
  },
  {
   "cell_type": "code",
   "execution_count": null,
   "metadata": {},
   "outputs": [],
   "source": [
    "\"\"\"\n",
    "# cycle through each day's collections of new cases and new deaths\n",
    "date_dict = dict()\n",
    "for day in country_date_data:\n",
    "\n",
    "    #print(country_date_data[day])\n",
    "\n",
    "    # calculate the wrl_new_ cases/deaths _per_million\n",
    "    if country_date_data[day]['WRL'][0]:\n",
    "        wrl_new_cases_pm = country_date_data[day]['WRL'][0]\n",
    "    else:\n",
    "        wrl_new_cases_pm = 0\n",
    "    \n",
    "    if country_date_data[day]['WRL'][1]:\n",
    "        wrl_new_deaths_pm = country_date_data[day]['WRL'][1]\n",
    "    else:\n",
    "        wrl_new_deaths_pm = 0\n",
    "\n",
    "    # pop the wrl vals out of the structure\n",
    "    # so they don't screw up the stdev calculation\n",
    "    country_date_data[day].pop('WRL')\n",
    "\n",
    "    # calculate the std dev for the day\n",
    "    mean_stdev = get_case_death_stdev(country_date_data[day])\n",
    "\n",
    "    # populate the date dict for this day\n",
    "    date_dict[day] = {\n",
    "        \"wrl_new_cases_pm\": wrl_new_cases_pm,\n",
    "        \"wrl_new_deaths_pm\": wrl_new_deaths_pm,\n",
    "        \"stdev_upper_new_cases_pm\": wrl_new_cases_pm + mean_stdev[0],\n",
    "        \"stdev_lower_new_cases_pm\": max(wrl_new_cases_pm - mean_stdev[0], 0),\n",
    "        \"stdev_upper_new_deaths_pm\": wrl_new_deaths_pm + mean_stdev[1],\n",
    "        \"stdev_lower_new_deaths_pm\": max(wrl_new_deaths_pm - mean_stdev[1], 0),\n",
    "        \"country_vals\": country_date_data[day]\n",
    "    }\n",
    "\n",
    "print(\"date_dict compiled\")\n",
    "\"\"\""
   ]
  }
 ]
}