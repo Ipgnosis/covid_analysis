{
 "cells": [
  {
   "cell_type": "code",
   "execution_count": 1,
   "metadata": {},
   "outputs": [
    {
     "name": "stdout",
     "output_type": "stream",
     "text": [
      "Imports complete\n"
     ]
    }
   ],
   "source": [
    "# imports\n",
    "from datetime import datetime, date\n",
    "\n",
    "import matplotlib.pyplot as plt\n",
    "import matplotlib.dates as mdates\n",
    "\n",
    "# set up file paths and other data globals\n",
    "\n",
    "import config\n",
    "import modify\n",
    "\n",
    "# local imports\n",
    "\n",
    "from covid_package.data_funcs.store_data import read_json_data, convert_owid_data\n",
    "\n",
    "from covid_package.libs.valid_keys import fetch_l0_keys\n",
    "from covid_package.libs.aggregate_data import fetch_latest_data_date, fetch_date_list\n",
    "from covid_package.libs.resource_min_max import get_min_max\n",
    "\n",
    "print(\"Imports complete\")"
   ]
  },
  {
   "cell_type": "code",
   "execution_count": 2,
   "metadata": {},
   "outputs": [
    {
     "name": "stdout",
     "output_type": "stream",
     "text": [
      "Latest data is: {}; last updated at: {} 2021-11-06\n",
      "Current UTC 0 dateime = 2021-11-07T16:19:52\n"
     ]
    }
   ],
   "source": [
    "# load data\n",
    "data = read_json_data(config.DATA_FILE_STR)\n",
    "\n",
    "# convert the OWID_ keys\n",
    "data = convert_owid_data(data)\n",
    "\n",
    "# populate the country keys\n",
    "key_list = fetch_l0_keys(data)\n",
    "\n",
    "# get an exhaustive list of dates CONTAINING VALID DATA in the data\n",
    "date_list = fetch_date_list(data)\n",
    "\n",
    "# get the date of the newest data records in owid-covid-data.json\n",
    "latest_data = fetch_latest_data_date(data)\n",
    "print(\"Latest data is: {}; last updated at: {}\", latest_data)\n",
    "print(\"Current UTC 0 dateime = {}\".format(datetime.utcnow().strftime(\"%Y-%m-%dT%H:%M:%S%z\")))"
   ]
  },
  {
   "cell_type": "code",
   "execution_count": 3,
   "metadata": {},
   "outputs": [
    {
     "name": "stdout",
     "output_type": "stream",
     "text": [
      "[('VAT', 8620.69), ('PSE', 5812.257), ('DMA', 5348.335), ('SYC', 4893.337), ('GRD', 4618.856), ('MDV', 4035.907), ('AND', 3865.346), ('BWA', 3558.259), ('KAZ', 3480.976), ('BLZ', 3413.062), ('KNA', 3230.867), ('LSO', 3207.404), ('SWE', 3197.292), ('LUX', 3098.545), ('ATG', 3028.523), ('VCT', 2893.888), ('BEL', 2811.817), ('ISR', 2536.015), ('CHE', 2515.75), ('KOS', 2397.799), ('MNG', 2220.899), ('SVN', 2174.893), ('LCA', 2109.533), ('URY', 2091.444), ('FJI', 2053.386), ('ESP', 2007.093), ('BHR', 1872.11), ('SMR', 1852.396), ('SUR', 1789.462), ('HRV', 1738.02), ('KGZ', 1735.727), ('EST', 1735.603), ('LVA', 1717.254), ('CZE', 1657.225), ('IRL', 1651.045), ('PRT', 1616.063), ('GEO', 1559.888), ('BRB', 1546.707), ('LIE', 1542.322), ('LTU', 1481.117), ('SRB', 1445.089), ('MNE', 1391.607), ('CRI', 1352.778), ('BHS', 1327.744), ('BRN', 1313.608), ('CYP', 1285.707), ('NAM', 1263.071), ('SVK', 1246.171), ('GNQ', 1206.987), ('MUS', 1200.696), ('PAN', 1183.59), ('HUN', 1169.277), ('BIH', 1150.62), ('MCO', 1138.664), ('AUT', 1099.516), ('BGR', 1096.184), ('OMN', 1056.213), ('GBR', 999.778), ('MLT', 991.13), ('ROU', 986.158), ('POL', 932.693), ('JOR', 928.521), ('SWZ', 910.976), ('USA', 910.701), ('LBN', 909.124), ('SGP', 902.88), ('ARG', 900.762), ('ARM', 876.984), ('CUB', 875.37), ('CPV', 873.819), ('TUN', 822.989), ('CAF', 821.953), ('QAT', 803.611), ('DNK', 775.463), ('NLD', 761.191), ('MYS', 750.514), ('TUR', 741.768), ('CHL', 728.177), ('MKD', 725.514), ('ISL', 719.362), ('AZE', 715.911), ('ITA', 677.55), ('STP', 676.027), ('GUY', 669.342), ('GRC', 664.272), ('COL', 655.29), ('UKR', 655.143), ('ECU', 644.885), ('PER', 640.239), ('LBY', 621.107), ('BOL', 597.654), ('IRN', 590.718), ('MDA', 564.857), ('DEU', 540.319), ('LKA', 528.717), ('FRA', 527.365), ('TTO', 504.498), ('OWID_HIC', 490.975), ('PRY', 482.157), ('JAM', 480.921), ('KWT', 460.431), ('SLV', 458.234), ('UGA', 452.513), ('ARE', 447.499), ('ZAF', 441.108), ('ALB', 431.266), ('DJI', 414.09), ('HND', 401.769), ('TZA', 398.043), ('TLS', 395.87), ('CMR', 355.124), ('THA', 334.778), ('IRQ', 328.198), ('NOR', 326.586), ('MAR', 322.374), ('GTM', 319.235), ('NPL', 313.969), ('FIN', 312.164), ('CAN', 298.966), ('IND', 297.248), ('GAB', 280.846), ('RUS', 275.577), ('COM', 263.378), ('PHL', 251.128), ('MEX', 247.531), ('GMB', 236.033), ('RWA', 231.386), ('BLR', 222.072), ('DOM', 216.365), ('JPN', 206.203), ('BEN', 206.087), ('ZWE', 206.067), ('IDN', 205.372), ('ZMB', 189.951), ('VNM', 177.531), ('BDI', 176.82), ('BRA', 170.44), ('PLW', 165.071), ('LAO', 158.55), ('SAU', 153.902), ('OWID_LMC', 144.768), ('MMR', 129.238), ('BTN', 128.222), ('OWID_UMC', 122.333), ('WRL', 115.297), ('COG', 114.725), ('NIC', 107.126), ('PNG', 106.92), ('AUS', 106.405), ('VEN', 103.78), ('SEN', 100.138), ('BGD', 97.593), ('MRT', 83.977), ('AFG', 81.41), ('GNB', 79.385), ('ERI', 78.302), ('LBR', 76.831), ('MOZ', 76.485), ('MWI', 66.98), ('KHM', 66.681), ('KOR', 63.736), ('GHA', 62.24), ('TGO', 61.687), ('PAK', 53.61), ('MHL', 50.32), ('HTI', 46.96), ('SOM', 44.561), ('AGO', 43.998), ('DZA', 43.19), ('MDG', 42.248), ('NZL', 41.97), ('TJK', 41.745), ('KEN', 36.519), ('OWID_LIC', 34.732), ('SSD', 30.576), ('TWN', 30.308), ('UZB', 28.908), ('SYR', 28.727), ('CIV', 28.351), ('GIN', 27.413), ('SDN', 27.054), ('SLE', 23.583), ('HKG', 22.905), ('ETH', 20.123), ('MLI', 19.803), ('EGY', 17.015), ('BFA', 14.653), ('NGA', 11.656), ('CHN', 10.478), ('TON', 9.367), ('FSM', 8.602), ('KIR', 8.238), ('SLB', 7.102), ('VUT', 6.36), ('COD', 6.311), ('NER', 5.77), ('YEM', 5.707), ('TCD', 5.38), ('WSM', 4.996), ('ABW', 0), ('AIA', 0), ('BES', 0), ('BMU', 0), ('COK', 0), ('CUW', 0), ('CYM', 0), ('CYN', 0), ('FLK', 0), ('FRO', 0), ('GGY', 0), ('GIB', 0), ('GRL', 0), ('IMN', 0), ('JEY', 0), ('MAC', 0), ('MSR', 0), ('NCL', 0), ('NIU', 0), ('NRU', 0), ('PCN', 0), ('PYF', 0), ('SHN', 0), ('SXM', 0), ('TCA', 0), ('TKL', 0), ('TKM', 0), ('TUV', 0), ('VGB', 0), ('WLF', 0)]\n",
      "[('GRD', 203.513), ('SMR', 176.419), ('BOL', 139.948), ('ATG', 121.546), ('KAZ', 120.611), ('SYC', 111.212), ('KGZ', 109.68), ('LSO', 106.527), ('LIE', 104.564), ('LCA', 97.613), ('BHS', 90.7), ('VCT', 80.885), ('AND', 77.565), ('MCO', 75.911), ('ARG', 73.477), ('DMA', 69.279), ('BIH', 63.43), ('BWA', 58.818), ('NAM', 57.975), ('CHL', 55.017), ('LBN', 51.853), ('PSE', 51.314), ('OMN', 48.819), ('SWE', 46.653), ('LUX', 45.683), ('BGR', 44.949), ('IRL', 44.151), ('BEL', 42.64), ('SUR', 42.244), ('ECU', 42.038), ('BLZ', 39.514), ('KOS', 38.865), ('BRN', 38.502), ('SVK', 37.358), ('KNA', 37.351), ('PER', 36.991), ('ESP', 34.72), ('LVA', 34.281), ('HUN', 32.281), ('FJI', 32.119), ('TUN', 31.921), ('SVN', 31.75), ('BRB', 31.282), ('ROU', 30.897), ('PRT', 29.8), ('MNE', 28.66), ('CZE', 27.507), ('GBR', 26.771), ('POL', 25.293), ('URY', 25.25), ('MKD', 24.488), ('AUT', 24.107), ('LTU', 22.678), ('PRY', 22.577), ('HRV', 22.54), ('GNQ', 22.071), ('GEO', 21.609), ('MDA', 21.372), ('FRA', 21.283), ('ARM', 20.889), ('NPL', 20.859), ('CRI', 20.821), ('DEU', 20.667), ('SWZ', 20.471), ('BRA', 19.856), ('UKR', 19.072), ('GUY', 18.979), ('MDV', 18.395), ('UGA', 18.144), ('MYS', 18.062), ('STP', 17.908), ('BHR', 16.588), ('ITA', 16.449), ('TTO', 16.389), ('MUS', 15.706), ('LKA', 15.537), ('CHE', 15.031), ('ISL', 14.562), ('ZAF', 14.057), ('COL', 14.044), ('PAN', 13.922), ('LBR', 13.899), ('NLD', 13.626), ('MLT', 13.604), ('COM', 13.507), ('USA', 13.343), ('GRC', 12.921), ('EST', 12.828), ('HND', 12.322), ('SRB', 11.58), ('ISR', 11.491), ('MNG', 11.414), ('TZA', 10.878), ('AZE', 10.858), ('JOR', 10.809), ('MEX', 10.548), ('JAM', 10.426), ('DNK', 10.321), ('OWID_HIC', 8.991), ('DJI', 8.98), ('CPV', 8.898), ('CUB', 8.659), ('IRN', 8.338), ('VNM', 8.19), ('GMB', 8.042), ('RUS', 7.984), ('CYP', 7.812), ('FIN', 7.75), ('LBY', 7.617), ('IDN', 7.487), ('ALB', 7.31), ('MMR', 7.244), ('ZWE', 7.09), ('CAN', 6.41), ('SDN', 6.19), ('GTM', 5.589), ('IND', 5.292), ('SOM', 5.257), ('PHL', 5.115), ('NOR', 4.94), ('CMR', 4.775), ('SLV', 4.756), ('PNG', 4.715), ('TUR', 4.633), ('KWT', 4.62), ('THA', 4.46), ('COG', 4.243), ('AFG', 3.991), ('ZMB', 3.805), ('TLS', 3.721), ('MWI', 3.715), ('DOM', 3.56), ('QAT', 3.412), ('MAR', 3.401), ('VUT', 3.18), ('BLR', 3.071), ('SGP', 3.053), ('OWID_UMC', 2.991), ('GNB', 2.977), ('IRQ', 2.963), ('MRT', 2.722), ('NIC', 2.686), ('GAB', 2.633), ('OWID_LMC', 2.508), ('BDI', 2.366), ('KHM', 2.301), ('AUS', 2.288), ('WRL', 2.287), ('SAU', 2.179), ('COD', 2.122), ('ARE', 2.002), ('HTI', 1.819), ('MOZ', 1.803), ('SEN', 1.803), ('JPN', 1.714), ('YEM', 1.705), ('RWA', 1.657), ('BGD', 1.587), ('TWN', 1.551), ('OWID_LIC', 1.428), ('CAF', 1.423), ('PAK', 1.39), ('BTN', 1.282), ('VEN', 1.219), ('SYR', 1.204), ('DZA', 1.098), ('GIN', 1.037), ('EGY', 0.93), ('TJK', 0.923), ('MDG', 0.915), ('CHN', 0.893), ('AGO', 0.884), ('GHA', 0.882), ('SLE', 0.86), ('ERI', 0.833), ('NZL', 0.823), ('HKG', 0.794), ('KOR', 0.78), ('KEN', 0.746), ('BEN', 0.723), ('LAO', 0.678), ('SSD', 0.615), ('TCD', 0.591), ('TGO', 0.59), ('MLI', 0.527), ('CIV', 0.517), ('NGA', 0.44), ('ETH', 0.416), ('BFA', 0.326), ('NER', 0.279), ('UZB', 0.265), ('ABW', 0), ('AIA', 0), ('BES', 0), ('BMU', 0), ('COK', 0), ('CUW', 0), ('CYM', 0), ('CYN', 0), ('FLK', 0), ('FRO', 0), ('FSM', 0), ('GGY', 0), ('GIB', 0), ('GRL', 0), ('IMN', 0), ('JEY', 0), ('KIR', 0), ('MAC', 0), ('MHL', 0), ('MSR', 0), ('NCL', 0), ('NIU', 0), ('NRU', 0), ('PCN', 0), ('PLW', 0), ('PYF', 0), ('SHN', 0), ('SLB', 0), ('SXM', 0), ('TCA', 0), ('TKL', 0), ('TKM', 0), ('TON', 0), ('TUV', 0), ('VAT', 0), ('VGB', 0), ('WLF', 0), ('WSM', 0)]\n"
     ]
    }
   ],
   "source": [
    "# define the list of required resources\n",
    "res1 = 'new_cases_per_million'\n",
    "res2 = 'new_deaths_per_million'\n",
    "\n",
    "max_min = 'max'\n",
    "lvl = 'l2'\n",
    "cnt = 0\n",
    "\n",
    "# returns a dict with key = date, values = dict of isos\n",
    "# the value of each iso key is a list of the required resources\n",
    "full_vax_data = get_min_max(data, lvl, max_min, res1, cnt)\n",
    "string_idx = get_min_max(data, lvl, max_min, res2, cnt)\n",
    "\n",
    "print(full_vax_data)\n",
    "print(string_idx)"
   ]
  },
  {
   "cell_type": "code",
   "execution_count": 4,
   "metadata": {},
   "outputs": [
    {
     "data": {
      "text/plain": [
       "'\\n# cycle through each day\\'s collections of new cases and new deaths\\ndate_dict = dict()\\nfor day in country_date_data:\\n\\n    #print(country_date_data[day])\\n\\n    # calculate the wrl_new_ cases/deaths _per_million\\n    if country_date_data[day][\\'WRL\\'][0]:\\n        wrl_new_cases_pm = country_date_data[day][\\'WRL\\'][0]\\n    else:\\n        wrl_new_cases_pm = 0\\n    \\n    if country_date_data[day][\\'WRL\\'][1]:\\n        wrl_new_deaths_pm = country_date_data[day][\\'WRL\\'][1]\\n    else:\\n        wrl_new_deaths_pm = 0\\n\\n    # pop the wrl vals out of the structure\\n    # so they don\\'t screw up the stdev calculation\\n    country_date_data[day].pop(\\'WRL\\')\\n\\n    # calculate the std dev for the day\\n    mean_stdev = get_case_death_stdev(country_date_data[day])\\n\\n    # populate the date dict for this day\\n    date_dict[day] = {\\n        \"wrl_new_cases_pm\": wrl_new_cases_pm,\\n        \"wrl_new_deaths_pm\": wrl_new_deaths_pm,\\n        \"stdev_upper_new_cases_pm\": wrl_new_cases_pm + mean_stdev[0],\\n        \"stdev_lower_new_cases_pm\": max(wrl_new_cases_pm - mean_stdev[0], 0),\\n        \"stdev_upper_new_deaths_pm\": wrl_new_deaths_pm + mean_stdev[1],\\n        \"stdev_lower_new_deaths_pm\": max(wrl_new_deaths_pm - mean_stdev[1], 0),\\n        \"country_vals\": country_date_data[day]\\n    }\\n\\nprint(\"date_dict compiled\")\\n'"
      ]
     },
     "execution_count": 4,
     "metadata": {},
     "output_type": "execute_result"
    }
   ],
   "source": [
    "\"\"\"\n",
    "# cycle through each day's collections of new cases and new deaths\n",
    "date_dict = dict()\n",
    "for day in country_date_data:\n",
    "\n",
    "    #print(country_date_data[day])\n",
    "\n",
    "    # calculate the wrl_new_ cases/deaths _per_million\n",
    "    if country_date_data[day]['WRL'][0]:\n",
    "        wrl_new_cases_pm = country_date_data[day]['WRL'][0]\n",
    "    else:\n",
    "        wrl_new_cases_pm = 0\n",
    "    \n",
    "    if country_date_data[day]['WRL'][1]:\n",
    "        wrl_new_deaths_pm = country_date_data[day]['WRL'][1]\n",
    "    else:\n",
    "        wrl_new_deaths_pm = 0\n",
    "\n",
    "    # pop the wrl vals out of the structure\n",
    "    # so they don't screw up the stdev calculation\n",
    "    country_date_data[day].pop('WRL')\n",
    "\n",
    "    # calculate the std dev for the day\n",
    "    mean_stdev = get_case_death_stdev(country_date_data[day])\n",
    "\n",
    "    # populate the date dict for this day\n",
    "    date_dict[day] = {\n",
    "        \"wrl_new_cases_pm\": wrl_new_cases_pm,\n",
    "        \"wrl_new_deaths_pm\": wrl_new_deaths_pm,\n",
    "        \"stdev_upper_new_cases_pm\": wrl_new_cases_pm + mean_stdev[0],\n",
    "        \"stdev_lower_new_cases_pm\": max(wrl_new_cases_pm - mean_stdev[0], 0),\n",
    "        \"stdev_upper_new_deaths_pm\": wrl_new_deaths_pm + mean_stdev[1],\n",
    "        \"stdev_lower_new_deaths_pm\": max(wrl_new_deaths_pm - mean_stdev[1], 0),\n",
    "        \"country_vals\": country_date_data[day]\n",
    "    }\n",
    "\n",
    "print(\"date_dict compiled\")\n",
    "\"\"\""
   ]
  }
 ],
 "metadata": {
  "interpreter": {
   "hash": "274668973df437713a854b9d5e72148b8594a1d17fa2c70fe63cd5b464118f1e"
  },
  "kernelspec": {
   "display_name": "Python 3.8.11 64-bit ('base': conda)",
   "name": "python3"
  },
  "language_info": {
   "codemirror_mode": {
    "name": "ipython",
    "version": 3
   },
   "file_extension": ".py",
   "mimetype": "text/x-python",
   "name": "python",
   "nbconvert_exporter": "python",
   "pygments_lexer": "ipython3",
   "version": "3.8.11"
  },
  "orig_nbformat": 2
 },
 "nbformat": 4,
 "nbformat_minor": 2
}
