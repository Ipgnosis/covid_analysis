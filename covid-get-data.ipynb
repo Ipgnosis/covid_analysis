{
 "metadata": {
  "language_info": {
   "codemirror_mode": {
    "name": "ipython",
    "version": 3
   },
   "file_extension": ".py",
   "mimetype": "text/x-python",
   "name": "python",
   "nbconvert_exporter": "python",
   "pygments_lexer": "ipython3",
   "version": "3.8.8"
  },
  "orig_nbformat": 2,
  "kernelspec": {
   "name": "python388jvsc74a57bd03d272f5f920203b3371390e95080956d0ef2d2ee59e4c15a61e97266d1098e8c",
   "display_name": "Python 3.8.8 64-bit ('jovian': conda)"
  },
  "metadata": {
   "interpreter": {
    "hash": "3d272f5f920203b3371390e95080956d0ef2d2ee59e4c15a61e97266d1098e8c"
   }
  }
 },
 "nbformat": 4,
 "nbformat_minor": 2,
 "cells": [
  {
   "cell_type": "code",
   "execution_count": 1,
   "metadata": {},
   "outputs": [
    {
     "output_type": "stream",
     "name": "stdout",
     "text": [
      "Imports complete\n"
     ]
    }
   ],
   "source": [
    "# imports\n",
    "\n",
    "from datetime import datetime, date\n",
    "\n",
    "# set up file paths and other data globals\n",
    "\n",
    "import config\n",
    "import modify\n",
    "\n",
    "# local imports\n",
    "\n",
    "from covid_package.data_funcs.store_data import read_json_data, convert_owid_data\n",
    "from covid_package.data_funcs.update_data import check_refresh_data\n",
    "\n",
    "from covid_package.libs.aggregate_data import fetch_latest_data_date\n",
    "\n",
    "from covid_package.api.get_country_data import get_l2_date_data\n",
    "\n",
    "print(\"Imports complete\")"
   ]
  },
  {
   "cell_type": "code",
   "execution_count": 2,
   "metadata": {},
   "outputs": [
    {
     "output_type": "stream",
     "name": "stdout",
     "text": [
      "Checking that data is up to date\n",
      "Data file up to date: last updated at: 2021-06-06T14:13:3Z\n",
      "Latest data is: 2021-06-05\n",
      "Current UTC 0 dateime = 2021-06-07T04:42:59\n"
     ]
    }
   ],
   "source": [
    "# update data\n",
    "\n",
    "# check if data up to date; if not, reload\n",
    "if check_refresh_data():\n",
    "    # read the updated(?) data file from the data dir\n",
    "    data = read_json_data(config.DATA_FILE_STR)\n",
    "    # convert the OWID_ keys\n",
    "    data = convert_owid_data(data)\n",
    "    \n",
    "    # set the latest data date global\n",
    "    config.LATEST_DATA_DATE = fetch_latest_data_date(data)\n",
    "\n",
    "    print(\"Latest data is:\", config.LATEST_DATA_DATE)\n",
    "    print(\"Current UTC 0 dateime = {}\".format(datetime.utcnow().strftime(\"%Y-%m-%dT%H:%M:%S%z\")))"
   ]
  },
  {
   "cell_type": "code",
   "execution_count": null,
   "metadata": {},
   "outputs": [],
   "source": []
  }
 ]
}